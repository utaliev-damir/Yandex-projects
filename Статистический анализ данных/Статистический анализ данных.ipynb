{
 "cells": [
  {
   "cell_type": "markdown",
   "metadata": {},
   "source": [
    " ## Описание проекта"
   ]
  },
  {
   "cell_type": "markdown",
   "metadata": {},
   "source": [
    "Вы аналитик компании «Мегалайн» — федерального оператора сотовой связи. Клиентам предлагают два тарифных плана: «Смарт» и «Ультра». Чтобы скорректировать рекламный бюджет, коммерческий департамент хочет понять, какой тариф приносит больше денег.\n",
    "\n",
    "Вам предстоит сделать предварительный анализ тарифов на небольшой выборке клиентов. \n",
    "\n",
    "В вашем распоряжении данные 500 пользователей «Мегалайна»: кто они, откуда, каким тарифом пользуются, сколько звонков и сообщений каждый отправил за 2018 год.\n",
    "\n",
    "Цель проекта: проанализировать поведение клиентов и сделать вывод — какой тариф лучше.\n"
   ]
  },
  {
   "cell_type": "markdown",
   "metadata": {},
   "source": [
    "## Шаг 1. Откройте файл с данными и изучите общую информацию"
   ]
  },
  {
   "cell_type": "code",
   "execution_count": 1,
   "metadata": {},
   "outputs": [],
   "source": [
    "import pandas as pd\n",
    "import numpy as np\n",
    "import matplotlib.pyplot as plt \n",
    "import seaborn as sns\n",
    "import random\n",
    "from scipy import stats as st\n"
   ]
  },
  {
   "cell_type": "code",
   "execution_count": 2,
   "metadata": {},
   "outputs": [],
   "source": [
    "users = pd.read_csv(r'C:\\Users\\damos\\OneDrive\\Рабочий стол\\Анализ данных\\Проекты\\Статистический анализ данных\\users.csv')\n",
    "calls = pd.read_csv(r'C:\\Users\\damos\\OneDrive\\Рабочий стол\\Анализ данных\\Проекты\\Статистический анализ данных\\calls.csv')\n",
    "internet = pd.read_csv(r'C:\\Users\\damos\\OneDrive\\Рабочий стол\\Анализ данных\\Проекты\\Статистический анализ данных\\internet.csv')\n",
    "messages = pd.read_csv(r'C:\\Users\\damos\\OneDrive\\Рабочий стол\\Анализ данных\\Проекты\\Статистический анализ данных\\messages.csv')\n",
    "tariffs = pd.read_csv(r'C:\\Users\\damos\\OneDrive\\Рабочий стол\\Анализ данных\\Проекты\\Статистический анализ данных\\tariffs.csv')\n"
   ]
  },
  {
   "cell_type": "markdown",
   "metadata": {},
   "source": [
    "Напишем функцию для обзора данных"
   ]
  },
  {
   "cell_type": "code",
   "execution_count": 3,
   "metadata": {},
   "outputs": [],
   "source": [
    "def review(file):\n",
    "    file.info()\n",
    "    print()\n",
    "    print('Количество дубликатов в файле:',file.duplicated().sum())\n",
    "    print()\n",
    "    print('Количество пропусков в файле:',file.isna().sum(), sep='\\n')\n",
    "    display(file.describe().T)"
   ]
  },
  {
   "cell_type": "markdown",
   "metadata": {},
   "source": [
    "### Обзор данных по клиентам"
   ]
  },
  {
   "cell_type": "code",
   "execution_count": 4,
   "metadata": {},
   "outputs": [
    {
     "name": "stdout",
     "output_type": "stream",
     "text": [
      "<class 'pandas.core.frame.DataFrame'>\n",
      "RangeIndex: 500 entries, 0 to 499\n",
      "Data columns (total 8 columns):\n",
      " #   Column      Non-Null Count  Dtype \n",
      "---  ------      --------------  ----- \n",
      " 0   user_id     500 non-null    int64 \n",
      " 1   age         500 non-null    int64 \n",
      " 2   churn_date  38 non-null     object\n",
      " 3   city        500 non-null    object\n",
      " 4   first_name  500 non-null    object\n",
      " 5   last_name   500 non-null    object\n",
      " 6   reg_date    500 non-null    object\n",
      " 7   tariff      500 non-null    object\n",
      "dtypes: int64(2), object(6)\n",
      "memory usage: 31.4+ KB\n",
      "\n",
      "Количество дубликатов в файле: 0\n",
      "\n",
      "Количество пропусков в файле:\n",
      "user_id         0\n",
      "age             0\n",
      "churn_date    462\n",
      "city            0\n",
      "first_name      0\n",
      "last_name       0\n",
      "reg_date        0\n",
      "tariff          0\n",
      "dtype: int64\n"
     ]
    },
    {
     "data": {
      "text/html": [
       "<div>\n",
       "<style scoped>\n",
       "    .dataframe tbody tr th:only-of-type {\n",
       "        vertical-align: middle;\n",
       "    }\n",
       "\n",
       "    .dataframe tbody tr th {\n",
       "        vertical-align: top;\n",
       "    }\n",
       "\n",
       "    .dataframe thead th {\n",
       "        text-align: right;\n",
       "    }\n",
       "</style>\n",
       "<table border=\"1\" class=\"dataframe\">\n",
       "  <thead>\n",
       "    <tr style=\"text-align: right;\">\n",
       "      <th></th>\n",
       "      <th>count</th>\n",
       "      <th>mean</th>\n",
       "      <th>std</th>\n",
       "      <th>min</th>\n",
       "      <th>25%</th>\n",
       "      <th>50%</th>\n",
       "      <th>75%</th>\n",
       "      <th>max</th>\n",
       "    </tr>\n",
       "  </thead>\n",
       "  <tbody>\n",
       "    <tr>\n",
       "      <th>user_id</th>\n",
       "      <td>500.0</td>\n",
       "      <td>1249.500</td>\n",
       "      <td>144.481833</td>\n",
       "      <td>1000.0</td>\n",
       "      <td>1124.75</td>\n",
       "      <td>1249.5</td>\n",
       "      <td>1374.25</td>\n",
       "      <td>1499.0</td>\n",
       "    </tr>\n",
       "    <tr>\n",
       "      <th>age</th>\n",
       "      <td>500.0</td>\n",
       "      <td>46.588</td>\n",
       "      <td>16.667630</td>\n",
       "      <td>18.0</td>\n",
       "      <td>32.00</td>\n",
       "      <td>46.0</td>\n",
       "      <td>62.00</td>\n",
       "      <td>75.0</td>\n",
       "    </tr>\n",
       "  </tbody>\n",
       "</table>\n",
       "</div>"
      ],
      "text/plain": [
       "         count      mean         std     min      25%     50%      75%     max\n",
       "user_id  500.0  1249.500  144.481833  1000.0  1124.75  1249.5  1374.25  1499.0\n",
       "age      500.0    46.588   16.667630    18.0    32.00    46.0    62.00    75.0"
      ]
     },
     "metadata": {},
     "output_type": "display_data"
    }
   ],
   "source": [
    "review(users)"
   ]
  },
  {
   "cell_type": "markdown",
   "metadata": {},
   "source": [
    "Для данных в файле users.csv характерно следующее:\n",
    "* в файле 500 строк\n",
    "* тип данных во всех столбцах логически соответсвует значениям в ячейках, кроме столбцов churn_date и reg_date\n",
    "* тип данных в столбцах  churn_date и reg_date возможно заменить на datetime\n",
    "* в файле отсутствуют пропуски и дубликаты (пропуски в столбце churn_date говорят нам о том, что тариф ещё действовал на момент выгрузки данных)\n"
   ]
  },
  {
   "cell_type": "markdown",
   "metadata": {},
   "source": [
    "### Обзор данных по звонкам"
   ]
  },
  {
   "cell_type": "code",
   "execution_count": 5,
   "metadata": {},
   "outputs": [
    {
     "name": "stdout",
     "output_type": "stream",
     "text": [
      "<class 'pandas.core.frame.DataFrame'>\n",
      "RangeIndex: 202607 entries, 0 to 202606\n",
      "Data columns (total 4 columns):\n",
      " #   Column     Non-Null Count   Dtype  \n",
      "---  ------     --------------   -----  \n",
      " 0   id         202607 non-null  object \n",
      " 1   call_date  202607 non-null  object \n",
      " 2   duration   202607 non-null  float64\n",
      " 3   user_id    202607 non-null  int64  \n",
      "dtypes: float64(1), int64(1), object(2)\n",
      "memory usage: 6.2+ MB\n",
      "\n",
      "Количество дубликатов в файле: 0\n",
      "\n",
      "Количество пропусков в файле:\n",
      "id           0\n",
      "call_date    0\n",
      "duration     0\n",
      "user_id      0\n",
      "dtype: int64\n"
     ]
    },
    {
     "data": {
      "text/html": [
       "<div>\n",
       "<style scoped>\n",
       "    .dataframe tbody tr th:only-of-type {\n",
       "        vertical-align: middle;\n",
       "    }\n",
       "\n",
       "    .dataframe tbody tr th {\n",
       "        vertical-align: top;\n",
       "    }\n",
       "\n",
       "    .dataframe thead th {\n",
       "        text-align: right;\n",
       "    }\n",
       "</style>\n",
       "<table border=\"1\" class=\"dataframe\">\n",
       "  <thead>\n",
       "    <tr style=\"text-align: right;\">\n",
       "      <th></th>\n",
       "      <th>count</th>\n",
       "      <th>mean</th>\n",
       "      <th>std</th>\n",
       "      <th>min</th>\n",
       "      <th>25%</th>\n",
       "      <th>50%</th>\n",
       "      <th>75%</th>\n",
       "      <th>max</th>\n",
       "    </tr>\n",
       "  </thead>\n",
       "  <tbody>\n",
       "    <tr>\n",
       "      <th>duration</th>\n",
       "      <td>202607.0</td>\n",
       "      <td>6.755887</td>\n",
       "      <td>5.843365</td>\n",
       "      <td>0.0</td>\n",
       "      <td>1.3</td>\n",
       "      <td>6.0</td>\n",
       "      <td>10.7</td>\n",
       "      <td>38.0</td>\n",
       "    </tr>\n",
       "    <tr>\n",
       "      <th>user_id</th>\n",
       "      <td>202607.0</td>\n",
       "      <td>1253.940619</td>\n",
       "      <td>144.722751</td>\n",
       "      <td>1000.0</td>\n",
       "      <td>1126.0</td>\n",
       "      <td>1260.0</td>\n",
       "      <td>1379.0</td>\n",
       "      <td>1499.0</td>\n",
       "    </tr>\n",
       "  </tbody>\n",
       "</table>\n",
       "</div>"
      ],
      "text/plain": [
       "             count         mean         std     min     25%     50%     75%  \\\n",
       "duration  202607.0     6.755887    5.843365     0.0     1.3     6.0    10.7   \n",
       "user_id   202607.0  1253.940619  144.722751  1000.0  1126.0  1260.0  1379.0   \n",
       "\n",
       "             max  \n",
       "duration    38.0  \n",
       "user_id   1499.0  "
      ]
     },
     "metadata": {},
     "output_type": "display_data"
    }
   ],
   "source": [
    "review(calls)"
   ]
  },
  {
   "cell_type": "markdown",
   "metadata": {},
   "source": [
    "Для данных в файле calls.csv характерно следующее:\n",
    "* в файле 202607 строк\n",
    "* тип данных во всех столбцах логически соответсвует значениям в ячейках, кроме столбцов call_date и id \n",
    "* тип данных в стобце id можно привести к int64\n",
    "* тип данных в столбце call_date возможно заменить на datetime\n",
    "* в файле отсутствуют пропуски и дубликаты"
   ]
  },
  {
   "cell_type": "markdown",
   "metadata": {},
   "source": [
    "### Обзор данных по интернету"
   ]
  },
  {
   "cell_type": "code",
   "execution_count": 6,
   "metadata": {},
   "outputs": [
    {
     "name": "stdout",
     "output_type": "stream",
     "text": [
      "<class 'pandas.core.frame.DataFrame'>\n",
      "RangeIndex: 149396 entries, 0 to 149395\n",
      "Data columns (total 5 columns):\n",
      " #   Column        Non-Null Count   Dtype  \n",
      "---  ------        --------------   -----  \n",
      " 0   Unnamed: 0    149396 non-null  int64  \n",
      " 1   id            149396 non-null  object \n",
      " 2   mb_used       149396 non-null  float64\n",
      " 3   session_date  149396 non-null  object \n",
      " 4   user_id       149396 non-null  int64  \n",
      "dtypes: float64(1), int64(2), object(2)\n",
      "memory usage: 5.7+ MB\n",
      "\n",
      "Количество дубликатов в файле: 0\n",
      "\n",
      "Количество пропусков в файле:\n",
      "Unnamed: 0      0\n",
      "id              0\n",
      "mb_used         0\n",
      "session_date    0\n",
      "user_id         0\n",
      "dtype: int64\n"
     ]
    },
    {
     "data": {
      "text/html": [
       "<div>\n",
       "<style scoped>\n",
       "    .dataframe tbody tr th:only-of-type {\n",
       "        vertical-align: middle;\n",
       "    }\n",
       "\n",
       "    .dataframe tbody tr th {\n",
       "        vertical-align: top;\n",
       "    }\n",
       "\n",
       "    .dataframe thead th {\n",
       "        text-align: right;\n",
       "    }\n",
       "</style>\n",
       "<table border=\"1\" class=\"dataframe\">\n",
       "  <thead>\n",
       "    <tr style=\"text-align: right;\">\n",
       "      <th></th>\n",
       "      <th>count</th>\n",
       "      <th>mean</th>\n",
       "      <th>std</th>\n",
       "      <th>min</th>\n",
       "      <th>25%</th>\n",
       "      <th>50%</th>\n",
       "      <th>75%</th>\n",
       "      <th>max</th>\n",
       "    </tr>\n",
       "  </thead>\n",
       "  <tbody>\n",
       "    <tr>\n",
       "      <th>Unnamed: 0</th>\n",
       "      <td>149396.0</td>\n",
       "      <td>74697.500000</td>\n",
       "      <td>43127.054745</td>\n",
       "      <td>0.0</td>\n",
       "      <td>37348.7500</td>\n",
       "      <td>74697.500</td>\n",
       "      <td>112046.2500</td>\n",
       "      <td>149395.00</td>\n",
       "    </tr>\n",
       "    <tr>\n",
       "      <th>mb_used</th>\n",
       "      <td>149396.0</td>\n",
       "      <td>370.192426</td>\n",
       "      <td>278.300951</td>\n",
       "      <td>0.0</td>\n",
       "      <td>138.1875</td>\n",
       "      <td>348.015</td>\n",
       "      <td>559.5525</td>\n",
       "      <td>1724.83</td>\n",
       "    </tr>\n",
       "    <tr>\n",
       "      <th>user_id</th>\n",
       "      <td>149396.0</td>\n",
       "      <td>1252.099842</td>\n",
       "      <td>144.050823</td>\n",
       "      <td>1000.0</td>\n",
       "      <td>1130.0000</td>\n",
       "      <td>1251.000</td>\n",
       "      <td>1380.0000</td>\n",
       "      <td>1499.00</td>\n",
       "    </tr>\n",
       "  </tbody>\n",
       "</table>\n",
       "</div>"
      ],
      "text/plain": [
       "               count          mean           std     min         25%  \\\n",
       "Unnamed: 0  149396.0  74697.500000  43127.054745     0.0  37348.7500   \n",
       "mb_used     149396.0    370.192426    278.300951     0.0    138.1875   \n",
       "user_id     149396.0   1252.099842    144.050823  1000.0   1130.0000   \n",
       "\n",
       "                  50%          75%        max  \n",
       "Unnamed: 0  74697.500  112046.2500  149395.00  \n",
       "mb_used       348.015     559.5525    1724.83  \n",
       "user_id      1251.000    1380.0000    1499.00  "
      ]
     },
     "metadata": {},
     "output_type": "display_data"
    }
   ],
   "source": [
    "review(internet)"
   ]
  },
  {
   "cell_type": "markdown",
   "metadata": {},
   "source": [
    "Построим гистрограмму для столбца mb_used\t"
   ]
  },
  {
   "cell_type": "code",
   "execution_count": 7,
   "metadata": {},
   "outputs": [
    {
     "data": {
      "image/png": "[encoded data removed]",
      "text/plain": [
       "<Figure size 432x288 with 1 Axes>"
      ]
     },
     "metadata": {
      "needs_background": "light"
     },
     "output_type": "display_data"
    }
   ],
   "source": [
    "internet['mb_used'].hist(bins=50,legend = True);"
   ]
  },
  {
   "cell_type": "markdown",
   "metadata": {},
   "source": [
    "Для данных в файле internet.csv характерно следующее:\n",
    "* в файле 149396 строк\n",
    "* тип данных во всех столбцах логически соответсвует значениям в ячейках, кроме столбцаов session_date и id \n",
    "* тип данных в стобце id можно привести к int64\n",
    "* тип данных в столбце session_date возможно заменить на datetime\n",
    "* в файле отсутствуют пропуски и дубликаты\n",
    "* в файле присутсвует много нулевых значений - это может говорить о том, что в датасете есть сессии, когда пользователи не использовали интернет.  Считаю, что удалять эти данные не стоит, так как в таком случае у нас измениться описательная статистика. "
   ]
  },
  {
   "cell_type": "markdown",
   "metadata": {},
   "source": [
    "### Обзор данных по сообщениям"
   ]
  },
  {
   "cell_type": "code",
   "execution_count": 8,
   "metadata": {},
   "outputs": [
    {
     "name": "stdout",
     "output_type": "stream",
     "text": [
      "<class 'pandas.core.frame.DataFrame'>\n",
      "RangeIndex: 123036 entries, 0 to 123035\n",
      "Data columns (total 3 columns):\n",
      " #   Column        Non-Null Count   Dtype \n",
      "---  ------        --------------   ----- \n",
      " 0   id            123036 non-null  object\n",
      " 1   message_date  123036 non-null  object\n",
      " 2   user_id       123036 non-null  int64 \n",
      "dtypes: int64(1), object(2)\n",
      "memory usage: 2.8+ MB\n",
      "\n",
      "Количество дубликатов в файле: 0\n",
      "\n",
      "Количество пропусков в файле:\n",
      "id              0\n",
      "message_date    0\n",
      "user_id         0\n",
      "dtype: int64\n"
     ]
    },
    {
     "data": {
      "text/html": [
       "<div>\n",
       "<style scoped>\n",
       "    .dataframe tbody tr th:only-of-type {\n",
       "        vertical-align: middle;\n",
       "    }\n",
       "\n",
       "    .dataframe tbody tr th {\n",
       "        vertical-align: top;\n",
       "    }\n",
       "\n",
       "    .dataframe thead th {\n",
       "        text-align: right;\n",
       "    }\n",
       "</style>\n",
       "<table border=\"1\" class=\"dataframe\">\n",
       "  <thead>\n",
       "    <tr style=\"text-align: right;\">\n",
       "      <th></th>\n",
       "      <th>count</th>\n",
       "      <th>mean</th>\n",
       "      <th>std</th>\n",
       "      <th>min</th>\n",
       "      <th>25%</th>\n",
       "      <th>50%</th>\n",
       "      <th>75%</th>\n",
       "      <th>max</th>\n",
       "    </tr>\n",
       "  </thead>\n",
       "  <tbody>\n",
       "    <tr>\n",
       "      <th>user_id</th>\n",
       "      <td>123036.0</td>\n",
       "      <td>1256.98941</td>\n",
       "      <td>143.523967</td>\n",
       "      <td>1000.0</td>\n",
       "      <td>1134.0</td>\n",
       "      <td>1271.0</td>\n",
       "      <td>1381.0</td>\n",
       "      <td>1499.0</td>\n",
       "    </tr>\n",
       "  </tbody>\n",
       "</table>\n",
       "</div>"
      ],
      "text/plain": [
       "            count        mean         std     min     25%     50%     75%  \\\n",
       "user_id  123036.0  1256.98941  143.523967  1000.0  1134.0  1271.0  1381.0   \n",
       "\n",
       "            max  \n",
       "user_id  1499.0  "
      ]
     },
     "metadata": {},
     "output_type": "display_data"
    }
   ],
   "source": [
    "review(messages)"
   ]
  },
  {
   "cell_type": "markdown",
   "metadata": {},
   "source": [
    "Для данных в файле messages.csv характерно следующее:\n",
    "* в файле 123036 строк\n",
    "* тип данных во всех столбцах логически соответсвует значениям в ячейках, кроме столбцаов message_date и id \n",
    "* тип данных в стобце id можно привести к int64\n",
    "* тип данных в столбце message_date возможно заменить на datetime\n",
    "* в файле отсутствуют пропуски и дубликаты"
   ]
  },
  {
   "cell_type": "markdown",
   "metadata": {},
   "source": [
    "### Обзор данных по тарифам"
   ]
  },
  {
   "cell_type": "code",
   "execution_count": 9,
   "metadata": {},
   "outputs": [
    {
     "name": "stdout",
     "output_type": "stream",
     "text": [
      "<class 'pandas.core.frame.DataFrame'>\n",
      "RangeIndex: 2 entries, 0 to 1\n",
      "Data columns (total 8 columns):\n",
      " #   Column                 Non-Null Count  Dtype \n",
      "---  ------                 --------------  ----- \n",
      " 0   messages_included      2 non-null      int64 \n",
      " 1   mb_per_month_included  2 non-null      int64 \n",
      " 2   minutes_included       2 non-null      int64 \n",
      " 3   rub_monthly_fee        2 non-null      int64 \n",
      " 4   rub_per_gb             2 non-null      int64 \n",
      " 5   rub_per_message        2 non-null      int64 \n",
      " 6   rub_per_minute         2 non-null      int64 \n",
      " 7   tariff_name            2 non-null      object\n",
      "dtypes: int64(7), object(1)\n",
      "memory usage: 256.0+ bytes\n",
      "\n",
      "Количество дубликатов в файле: 0\n",
      "\n",
      "Количество пропусков в файле:\n",
      "messages_included        0\n",
      "mb_per_month_included    0\n",
      "minutes_included         0\n",
      "rub_monthly_fee          0\n",
      "rub_per_gb               0\n",
      "rub_per_message          0\n",
      "rub_per_minute           0\n",
      "tariff_name              0\n",
      "dtype: int64\n"
     ]
    },
    {
     "data": {
      "text/html": [
       "<div>\n",
       "<style scoped>\n",
       "    .dataframe tbody tr th:only-of-type {\n",
       "        vertical-align: middle;\n",
       "    }\n",
       "\n",
       "    .dataframe tbody tr th {\n",
       "        vertical-align: top;\n",
       "    }\n",
       "\n",
       "    .dataframe thead th {\n",
       "        text-align: right;\n",
       "    }\n",
       "</style>\n",
       "<table border=\"1\" class=\"dataframe\">\n",
       "  <thead>\n",
       "    <tr style=\"text-align: right;\">\n",
       "      <th></th>\n",
       "      <th>count</th>\n",
       "      <th>mean</th>\n",
       "      <th>std</th>\n",
       "      <th>min</th>\n",
       "      <th>25%</th>\n",
       "      <th>50%</th>\n",
       "      <th>75%</th>\n",
       "      <th>max</th>\n",
       "    </tr>\n",
       "  </thead>\n",
       "  <tbody>\n",
       "    <tr>\n",
       "      <th>messages_included</th>\n",
       "      <td>2.0</td>\n",
       "      <td>525.0</td>\n",
       "      <td>671.751442</td>\n",
       "      <td>50.0</td>\n",
       "      <td>287.5</td>\n",
       "      <td>525.0</td>\n",
       "      <td>762.5</td>\n",
       "      <td>1000.0</td>\n",
       "    </tr>\n",
       "    <tr>\n",
       "      <th>mb_per_month_included</th>\n",
       "      <td>2.0</td>\n",
       "      <td>23040.0</td>\n",
       "      <td>10861.160159</td>\n",
       "      <td>15360.0</td>\n",
       "      <td>19200.0</td>\n",
       "      <td>23040.0</td>\n",
       "      <td>26880.0</td>\n",
       "      <td>30720.0</td>\n",
       "    </tr>\n",
       "    <tr>\n",
       "      <th>minutes_included</th>\n",
       "      <td>2.0</td>\n",
       "      <td>1750.0</td>\n",
       "      <td>1767.766953</td>\n",
       "      <td>500.0</td>\n",
       "      <td>1125.0</td>\n",
       "      <td>1750.0</td>\n",
       "      <td>2375.0</td>\n",
       "      <td>3000.0</td>\n",
       "    </tr>\n",
       "    <tr>\n",
       "      <th>rub_monthly_fee</th>\n",
       "      <td>2.0</td>\n",
       "      <td>1250.0</td>\n",
       "      <td>989.949494</td>\n",
       "      <td>550.0</td>\n",
       "      <td>900.0</td>\n",
       "      <td>1250.0</td>\n",
       "      <td>1600.0</td>\n",
       "      <td>1950.0</td>\n",
       "    </tr>\n",
       "    <tr>\n",
       "      <th>rub_per_gb</th>\n",
       "      <td>2.0</td>\n",
       "      <td>175.0</td>\n",
       "      <td>35.355339</td>\n",
       "      <td>150.0</td>\n",
       "      <td>162.5</td>\n",
       "      <td>175.0</td>\n",
       "      <td>187.5</td>\n",
       "      <td>200.0</td>\n",
       "    </tr>\n",
       "    <tr>\n",
       "      <th>rub_per_message</th>\n",
       "      <td>2.0</td>\n",
       "      <td>2.0</td>\n",
       "      <td>1.414214</td>\n",
       "      <td>1.0</td>\n",
       "      <td>1.5</td>\n",
       "      <td>2.0</td>\n",
       "      <td>2.5</td>\n",
       "      <td>3.0</td>\n",
       "    </tr>\n",
       "    <tr>\n",
       "      <th>rub_per_minute</th>\n",
       "      <td>2.0</td>\n",
       "      <td>2.0</td>\n",
       "      <td>1.414214</td>\n",
       "      <td>1.0</td>\n",
       "      <td>1.5</td>\n",
       "      <td>2.0</td>\n",
       "      <td>2.5</td>\n",
       "      <td>3.0</td>\n",
       "    </tr>\n",
       "  </tbody>\n",
       "</table>\n",
       "</div>"
      ],
      "text/plain": [
       "                       count     mean           std      min      25%  \\\n",
       "messages_included        2.0    525.0    671.751442     50.0    287.5   \n",
       "mb_per_month_included    2.0  23040.0  10861.160159  15360.0  19200.0   \n",
       "minutes_included         2.0   1750.0   1767.766953    500.0   1125.0   \n",
       "rub_monthly_fee          2.0   1250.0    989.949494    550.0    900.0   \n",
       "rub_per_gb               2.0    175.0     35.355339    150.0    162.5   \n",
       "rub_per_message          2.0      2.0      1.414214      1.0      1.5   \n",
       "rub_per_minute           2.0      2.0      1.414214      1.0      1.5   \n",
       "\n",
       "                           50%      75%      max  \n",
       "messages_included        525.0    762.5   1000.0  \n",
       "mb_per_month_included  23040.0  26880.0  30720.0  \n",
       "minutes_included        1750.0   2375.0   3000.0  \n",
       "rub_monthly_fee         1250.0   1600.0   1950.0  \n",
       "rub_per_gb               175.0    187.5    200.0  \n",
       "rub_per_message            2.0      2.5      3.0  \n",
       "rub_per_minute             2.0      2.5      3.0  "
      ]
     },
     "metadata": {},
     "output_type": "display_data"
    }
   ],
   "source": [
    "review(tariffs)"
   ]
  },
  {
   "cell_type": "markdown",
   "metadata": {},
   "source": [
    "Для данных в файле tariffs.csv характерно следующее:\n",
    "* в файле 2 строки\n",
    "* тип данных во всех столбцах логически соответсвует значениям в ячейках\n",
    "* в файле отсутствуют пропуски и дубликаты\n",
    "* наименование в столбце tariff_name возможно поменять на tariff, чтобы было совпадение с наименованием столбца tariff в других файлах"
   ]
  },
  {
   "cell_type": "markdown",
   "metadata": {},
   "source": [
    "## Шаг 2. Подготовьте данные"
   ]
  },
  {
   "cell_type": "markdown",
   "metadata": {},
   "source": [
    "### Приведите данные к нужным типам;"
   ]
  },
  {
   "cell_type": "markdown",
   "metadata": {},
   "source": [
    "Основываясь на полученных выводах при обзоре данных, изменим тип данных - даты к `datetime`, значения столбца `id` к `int`."
   ]
  },
  {
   "cell_type": "code",
   "execution_count": 10,
   "metadata": {},
   "outputs": [
    {
     "name": "stdout",
     "output_type": "stream",
     "text": [
      "datetime64[ns]\n",
      "datetime64[ns]\n",
      "int32\n",
      "datetime64[ns]\n",
      "int32\n",
      "datetime64[ns]\n",
      "int32\n",
      "datetime64[ns]\n"
     ]
    }
   ],
   "source": [
    "list_files = [users,users,calls,internet,messages]\n",
    "list_columns = ['churn_date','reg_date','call_date','session_date','message_date']\n",
    "\n",
    "for item in range(len(list_files)):\n",
    "    list_files[item][list_columns[item]] = pd.to_datetime(list_files[item][list_columns[item]],format = '%Y-%m-%d')\n",
    "    if item == 0 or item == 1:\n",
    "        print(list_files[item][list_columns[item]].dtypes)\n",
    "    elif item in (2,3,4):\n",
    "        list_files[item]['id'] = list_files[item]['id'].astype('int')\n",
    "        print(list_files[item]['id'].dtypes)\n",
    "        print(list_files[item][list_columns[item]].dtypes)"
   ]
  },
  {
   "cell_type": "markdown",
   "metadata": {},
   "source": [
    "Код возвращает только значения `datetime64[ns]` и `int64` из заданных столбцов, значит данные были приведены к нужным типам. "
   ]
  },
  {
   "cell_type": "markdown",
   "metadata": {},
   "source": [
    "### Найдите и исправьте ошибки в данных, если они есть."
   ]
  },
  {
   "cell_type": "markdown",
   "metadata": {},
   "source": [
    "`Примечание. «Мегалайн» всегда округляет секунды до минут, а мегабайты — до гигабайт. Каждый звонок округляется отдельно: даже если он длился всего 1 секунду, будет засчитан как 1 минута.\n",
    "Для веб-трафика отдельные сессии не считаются. Вместо этого общая сумма за месяц округляется в бо́льшую сторону. Если абонент использует 1025 мегабайт в этом месяце, с него возьмут плату за 2 гигабайта. Примите, что неиспользованные за предыдущий месяц звонки, смс, интернет на следующий месяц не переносятся.`"
   ]
  },
  {
   "cell_type": "markdown",
   "metadata": {},
   "source": [
    "Значения в столбце `calls['duration']`  округлим в большую сторону."
   ]
  },
  {
   "cell_type": "code",
   "execution_count": 11,
   "metadata": {},
   "outputs": [],
   "source": [
    "calls['duration'] = np.ceil(calls['duration']).astype(int)"
   ]
  },
  {
   "cell_type": "markdown",
   "metadata": {},
   "source": [
    "Перевод мегабайт в гигабайты по месяцам сделаем позже."
   ]
  },
  {
   "cell_type": "code",
   "execution_count": 12,
   "metadata": {},
   "outputs": [],
   "source": [
    "tariffs['gb_per_month_included'] = tariffs['mb_per_month_included']/1024"
   ]
  },
  {
   "cell_type": "markdown",
   "metadata": {},
   "source": [
    "Исправим наименование столбца tariff_name в файле tariffs в tariff."
   ]
  },
  {
   "cell_type": "code",
   "execution_count": 13,
   "metadata": {},
   "outputs": [],
   "source": [
    "tariffs = tariffs.rename(columns = {'tariff_name':'tariff'})"
   ]
  },
  {
   "cell_type": "markdown",
   "metadata": {},
   "source": [
    "### Расчет дополнительных показателей "
   ]
  },
  {
   "cell_type": "markdown",
   "metadata": {},
   "source": [
    "<b> Расчет количественных показателей по месяцам:</b>\n",
    "\n",
    "* количество сделанных звонков и израсходованных минут разговора по месяцам;\n",
    "* количество отправленных сообщений по месяцам;\n",
    "* объем израсходованного интернет-трафика по месяцам;"
   ]
  },
  {
   "cell_type": "code",
   "execution_count": 14,
   "metadata": {},
   "outputs": [
    {
     "data": {
      "text/html": [
       "<div>\n",
       "<style scoped>\n",
       "    .dataframe tbody tr th:only-of-type {\n",
       "        vertical-align: middle;\n",
       "    }\n",
       "\n",
       "    .dataframe tbody tr th {\n",
       "        vertical-align: top;\n",
       "    }\n",
       "\n",
       "    .dataframe thead th {\n",
       "        text-align: right;\n",
       "    }\n",
       "</style>\n",
       "<table border=\"1\" class=\"dataframe\">\n",
       "  <thead>\n",
       "    <tr style=\"text-align: right;\">\n",
       "      <th></th>\n",
       "      <th>user_id</th>\n",
       "      <th>month</th>\n",
       "      <th>calls_qty_monthly</th>\n",
       "      <th>minutes_used_monthly</th>\n",
       "    </tr>\n",
       "  </thead>\n",
       "  <tbody>\n",
       "    <tr>\n",
       "      <th>0</th>\n",
       "      <td>1000</td>\n",
       "      <td>5</td>\n",
       "      <td>22</td>\n",
       "      <td>159</td>\n",
       "    </tr>\n",
       "    <tr>\n",
       "      <th>1</th>\n",
       "      <td>1000</td>\n",
       "      <td>6</td>\n",
       "      <td>43</td>\n",
       "      <td>172</td>\n",
       "    </tr>\n",
       "    <tr>\n",
       "      <th>2</th>\n",
       "      <td>1000</td>\n",
       "      <td>7</td>\n",
       "      <td>47</td>\n",
       "      <td>340</td>\n",
       "    </tr>\n",
       "  </tbody>\n",
       "</table>\n",
       "</div>"
      ],
      "text/plain": [
       "   user_id  month  calls_qty_monthly  minutes_used_monthly\n",
       "0     1000      5                 22                   159\n",
       "1     1000      6                 43                   172\n",
       "2     1000      7                 47                   340"
      ]
     },
     "metadata": {},
     "output_type": "display_data"
    },
    {
     "data": {
      "text/html": [
       "<div>\n",
       "<style scoped>\n",
       "    .dataframe tbody tr th:only-of-type {\n",
       "        vertical-align: middle;\n",
       "    }\n",
       "\n",
       "    .dataframe tbody tr th {\n",
       "        vertical-align: top;\n",
       "    }\n",
       "\n",
       "    .dataframe thead th {\n",
       "        text-align: right;\n",
       "    }\n",
       "</style>\n",
       "<table border=\"1\" class=\"dataframe\">\n",
       "  <thead>\n",
       "    <tr style=\"text-align: right;\">\n",
       "      <th></th>\n",
       "      <th>user_id</th>\n",
       "      <th>month</th>\n",
       "      <th>messages_qty_monthly</th>\n",
       "    </tr>\n",
       "  </thead>\n",
       "  <tbody>\n",
       "    <tr>\n",
       "      <th>0</th>\n",
       "      <td>1000</td>\n",
       "      <td>5</td>\n",
       "      <td>22</td>\n",
       "    </tr>\n",
       "    <tr>\n",
       "      <th>1</th>\n",
       "      <td>1000</td>\n",
       "      <td>6</td>\n",
       "      <td>60</td>\n",
       "    </tr>\n",
       "    <tr>\n",
       "      <th>2</th>\n",
       "      <td>1000</td>\n",
       "      <td>7</td>\n",
       "      <td>75</td>\n",
       "    </tr>\n",
       "  </tbody>\n",
       "</table>\n",
       "</div>"
      ],
      "text/plain": [
       "   user_id  month  messages_qty_monthly\n",
       "0     1000      5                    22\n",
       "1     1000      6                    60\n",
       "2     1000      7                    75"
      ]
     },
     "metadata": {},
     "output_type": "display_data"
    },
    {
     "data": {
      "text/html": [
       "<div>\n",
       "<style scoped>\n",
       "    .dataframe tbody tr th:only-of-type {\n",
       "        vertical-align: middle;\n",
       "    }\n",
       "\n",
       "    .dataframe tbody tr th {\n",
       "        vertical-align: top;\n",
       "    }\n",
       "\n",
       "    .dataframe thead th {\n",
       "        text-align: right;\n",
       "    }\n",
       "</style>\n",
       "<table border=\"1\" class=\"dataframe\">\n",
       "  <thead>\n",
       "    <tr style=\"text-align: right;\">\n",
       "      <th></th>\n",
       "      <th>user_id</th>\n",
       "      <th>month</th>\n",
       "      <th>mb_used_monthly</th>\n",
       "    </tr>\n",
       "  </thead>\n",
       "  <tbody>\n",
       "    <tr>\n",
       "      <th>0</th>\n",
       "      <td>1000</td>\n",
       "      <td>5</td>\n",
       "      <td>2253.49</td>\n",
       "    </tr>\n",
       "    <tr>\n",
       "      <th>1</th>\n",
       "      <td>1000</td>\n",
       "      <td>6</td>\n",
       "      <td>23233.77</td>\n",
       "    </tr>\n",
       "    <tr>\n",
       "      <th>2</th>\n",
       "      <td>1000</td>\n",
       "      <td>7</td>\n",
       "      <td>14003.64</td>\n",
       "    </tr>\n",
       "  </tbody>\n",
       "</table>\n",
       "</div>"
      ],
      "text/plain": [
       "   user_id  month  mb_used_monthly\n",
       "0     1000      5          2253.49\n",
       "1     1000      6         23233.77\n",
       "2     1000      7         14003.64"
      ]
     },
     "metadata": {},
     "output_type": "display_data"
    }
   ],
   "source": [
    "list_files = [calls,messages,internet]\n",
    "list_columns = ['duration','id','mb_used']\n",
    "list_columns_dates = ['call_date','message_date','session_date']\n",
    "aggfunc_list = [['count','sum'],'count','sum']\n",
    "names = [['user_id','month','calls_qty_monthly','minutes_used_monthly'],['user_id','month','messages_qty_monthly'],['user_id','month','mb_used_monthly']]\n",
    "list_new_var = ['calls_month','messages_month','internet_month']\n",
    "\n",
    "for item in range(len(list_files)):\n",
    "    list_files[item]['month'] = list_files[item][list_columns_dates[item]].dt.month\n",
    "    globals()[list_new_var[item]] = list_files[item].pivot_table(\n",
    "        index = ['user_id','month'], values = list_columns[item], aggfunc = aggfunc_list[item] \n",
    "    ).reset_index()\n",
    "    calls['duration'] = calls['duration'].apply(np.ceil).astype(int)\n",
    "    globals()[list_new_var[item]].columns = names[item]\n",
    "    display(globals()[list_new_var[item]].head(3))"
   ]
  },
  {
   "cell_type": "markdown",
   "metadata": {},
   "source": [
    "Переведем мегабайты в гигабайты с округлением в большую сторону"
   ]
  },
  {
   "cell_type": "code",
   "execution_count": 15,
   "metadata": {},
   "outputs": [],
   "source": [
    "internet_month['gb_used_monthly'] = np.ceil((internet_month['mb_used_monthly']/1024)).astype('int')"
   ]
  },
  {
   "cell_type": "markdown",
   "metadata": {},
   "source": [
    "<b>Расчет помесячной выручки с каждого пользователя </b> \n",
    "* вычтите бесплатный лимит из суммарного количества звонков, сообщений и интернет-трафика;\n",
    "* остаток умножьте на значение из тарифного плана;\n",
    "* прибавьте абонентскую плату, соответствующую тарифному плану."
   ]
  },
  {
   "cell_type": "code",
   "execution_count": 16,
   "metadata": {},
   "outputs": [
    {
     "name": "stdout",
     "output_type": "stream",
     "text": [
      "<class 'pandas.core.frame.DataFrame'>\n",
      "Int64Index: 3214 entries, 0 to 3213\n",
      "Data columns (total 22 columns):\n",
      " #   Column                 Non-Null Count  Dtype         \n",
      "---  ------                 --------------  -----         \n",
      " 0   user_id                3214 non-null   int64         \n",
      " 1   month                  3214 non-null   int64         \n",
      " 2   calls_qty_monthly      3174 non-null   float64       \n",
      " 3   minutes_used_monthly   3174 non-null   float64       \n",
      " 4   messages_qty_monthly   2717 non-null   float64       \n",
      " 5   mb_used_monthly        3203 non-null   float64       \n",
      " 6   gb_used_monthly        3203 non-null   float64       \n",
      " 7   age                    3214 non-null   int64         \n",
      " 8   churn_date             187 non-null    datetime64[ns]\n",
      " 9   city                   3214 non-null   object        \n",
      " 10  first_name             3214 non-null   object        \n",
      " 11  last_name              3214 non-null   object        \n",
      " 12  reg_date               3214 non-null   datetime64[ns]\n",
      " 13  tariff                 3214 non-null   object        \n",
      " 14  messages_included      3214 non-null   int64         \n",
      " 15  mb_per_month_included  3214 non-null   int64         \n",
      " 16  minutes_included       3214 non-null   int64         \n",
      " 17  rub_monthly_fee        3214 non-null   int64         \n",
      " 18  rub_per_gb             3214 non-null   int64         \n",
      " 19  rub_per_message        3214 non-null   int64         \n",
      " 20  rub_per_minute         3214 non-null   int64         \n",
      " 21  gb_per_month_included  3214 non-null   float64       \n",
      "dtypes: datetime64[ns](2), float64(6), int64(10), object(4)\n",
      "memory usage: 577.5+ KB\n"
     ]
    }
   ],
   "source": [
    "monthly_user_data = (\n",
    "    calls_month.merge(messages_month, on = ['user_id','month'], how = 'outer' )\n",
    "    .merge(internet_month, on = ['user_id','month'], how = 'outer')\n",
    "    .merge(users, on = ['user_id'], how = 'inner')\n",
    "    .merge(tariffs, on = ['tariff'], how = 'outer')\n",
    ")\n",
    "\n",
    "monthly_user_data.info()"
   ]
  },
  {
   "cell_type": "code",
   "execution_count": 17,
   "metadata": {},
   "outputs": [
    {
     "name": "stdout",
     "output_type": "stream",
     "text": [
      "В файле calls отсутствует значение 1128\n",
      "В файле calls отсутствует значение 1371\n",
      "В файле internet отсутствует значение 1128\n",
      "В файле internet отсутствует значение 1273\n",
      "В файле internet отсутствует значение 1371\n",
      "В файле messages отсутствует значение 1128\n",
      "В файле messages отсутствует значение 1371\n"
     ]
    }
   ],
   "source": [
    "list_value = list(users['user_id'])\n",
    "list_file = ['calls','internet','messages']\n",
    "\n",
    "mismatch = []\n",
    "missing_user_id = []\n",
    "\n",
    "for value in range(len(list_value)):\n",
    "    if list_value[value] not in (list(calls['user_id']) and list(internet['user_id']) and list(internet['user_id'])):\n",
    "        missing_user_id.append(list_value[value])\n",
    "\n",
    "for files in list_file:\n",
    "    for user_id in missing_user_id:\n",
    "        if user_id not in list(globals()[files]['user_id']):\n",
    "            print(f'В файле {files} отсутствует значение {user_id}')"
   ]
  },
  {
   "cell_type": "markdown",
   "metadata": {},
   "source": [
    "На этапе обзора даных из файлов было обнаружено отсутствие пропусков. Номера некоторых user_id не были включены в исходные файлы ввиду отсутствия расходования звонков, сообщений или интернета. Из за этого мы можем видить пропуски в новом датафрейме monthly_user_data. Заполним их нулями, нули будут свидтельствовать об отсутствии расхода по соответсвующему элементу тариффа."
   ]
  },
  {
   "cell_type": "code",
   "execution_count": 18,
   "metadata": {},
   "outputs": [],
   "source": [
    "monthly_user_data = monthly_user_data.fillna(\n",
    "    {'calls_qty_monthly':0,\n",
    "     'minutes_used_monthly':0,\n",
    "     'messages_qty_monthly':0,\n",
    "     'gb_used_monthly':0})"
   ]
  },
  {
   "cell_type": "markdown",
   "metadata": {},
   "source": [
    "Теперь расчитаем экономические показатели"
   ]
  },
  {
   "cell_type": "code",
   "execution_count": 19,
   "metadata": {},
   "outputs": [
    {
     "data": {
      "text/html": [
       "<div>\n",
       "<style scoped>\n",
       "    .dataframe tbody tr th:only-of-type {\n",
       "        vertical-align: middle;\n",
       "    }\n",
       "\n",
       "    .dataframe tbody tr th {\n",
       "        vertical-align: top;\n",
       "    }\n",
       "\n",
       "    .dataframe thead th {\n",
       "        text-align: right;\n",
       "    }\n",
       "</style>\n",
       "<table border=\"1\" class=\"dataframe\">\n",
       "  <thead>\n",
       "    <tr style=\"text-align: right;\">\n",
       "      <th></th>\n",
       "      <th>user_id</th>\n",
       "      <th>month</th>\n",
       "      <th>calls_qty_monthly</th>\n",
       "      <th>minutes_used_monthly</th>\n",
       "      <th>messages_qty_monthly</th>\n",
       "      <th>mb_used_monthly</th>\n",
       "      <th>gb_used_monthly</th>\n",
       "      <th>age</th>\n",
       "      <th>churn_date</th>\n",
       "      <th>city</th>\n",
       "      <th>...</th>\n",
       "      <th>tariff</th>\n",
       "      <th>messages_included</th>\n",
       "      <th>mb_per_month_included</th>\n",
       "      <th>minutes_included</th>\n",
       "      <th>rub_monthly_fee</th>\n",
       "      <th>rub_per_gb</th>\n",
       "      <th>rub_per_message</th>\n",
       "      <th>rub_per_minute</th>\n",
       "      <th>gb_per_month_included</th>\n",
       "      <th>revenue_rub</th>\n",
       "    </tr>\n",
       "  </thead>\n",
       "  <tbody>\n",
       "    <tr>\n",
       "      <th>0</th>\n",
       "      <td>1000</td>\n",
       "      <td>5</td>\n",
       "      <td>22.0</td>\n",
       "      <td>159.0</td>\n",
       "      <td>22.0</td>\n",
       "      <td>2253.49</td>\n",
       "      <td>3.0</td>\n",
       "      <td>52</td>\n",
       "      <td>NaT</td>\n",
       "      <td>Краснодар</td>\n",
       "      <td>...</td>\n",
       "      <td>ultra</td>\n",
       "      <td>1000</td>\n",
       "      <td>30720</td>\n",
       "      <td>3000</td>\n",
       "      <td>1950</td>\n",
       "      <td>150</td>\n",
       "      <td>1</td>\n",
       "      <td>1</td>\n",
       "      <td>30.0</td>\n",
       "      <td>1950.0</td>\n",
       "    </tr>\n",
       "    <tr>\n",
       "      <th>1</th>\n",
       "      <td>1000</td>\n",
       "      <td>6</td>\n",
       "      <td>43.0</td>\n",
       "      <td>172.0</td>\n",
       "      <td>60.0</td>\n",
       "      <td>23233.77</td>\n",
       "      <td>23.0</td>\n",
       "      <td>52</td>\n",
       "      <td>NaT</td>\n",
       "      <td>Краснодар</td>\n",
       "      <td>...</td>\n",
       "      <td>ultra</td>\n",
       "      <td>1000</td>\n",
       "      <td>30720</td>\n",
       "      <td>3000</td>\n",
       "      <td>1950</td>\n",
       "      <td>150</td>\n",
       "      <td>1</td>\n",
       "      <td>1</td>\n",
       "      <td>30.0</td>\n",
       "      <td>1950.0</td>\n",
       "    </tr>\n",
       "    <tr>\n",
       "      <th>2</th>\n",
       "      <td>1000</td>\n",
       "      <td>7</td>\n",
       "      <td>47.0</td>\n",
       "      <td>340.0</td>\n",
       "      <td>75.0</td>\n",
       "      <td>14003.64</td>\n",
       "      <td>14.0</td>\n",
       "      <td>52</td>\n",
       "      <td>NaT</td>\n",
       "      <td>Краснодар</td>\n",
       "      <td>...</td>\n",
       "      <td>ultra</td>\n",
       "      <td>1000</td>\n",
       "      <td>30720</td>\n",
       "      <td>3000</td>\n",
       "      <td>1950</td>\n",
       "      <td>150</td>\n",
       "      <td>1</td>\n",
       "      <td>1</td>\n",
       "      <td>30.0</td>\n",
       "      <td>1950.0</td>\n",
       "    </tr>\n",
       "    <tr>\n",
       "      <th>3</th>\n",
       "      <td>1000</td>\n",
       "      <td>8</td>\n",
       "      <td>52.0</td>\n",
       "      <td>408.0</td>\n",
       "      <td>81.0</td>\n",
       "      <td>14055.93</td>\n",
       "      <td>14.0</td>\n",
       "      <td>52</td>\n",
       "      <td>NaT</td>\n",
       "      <td>Краснодар</td>\n",
       "      <td>...</td>\n",
       "      <td>ultra</td>\n",
       "      <td>1000</td>\n",
       "      <td>30720</td>\n",
       "      <td>3000</td>\n",
       "      <td>1950</td>\n",
       "      <td>150</td>\n",
       "      <td>1</td>\n",
       "      <td>1</td>\n",
       "      <td>30.0</td>\n",
       "      <td>1950.0</td>\n",
       "    </tr>\n",
       "    <tr>\n",
       "      <th>4</th>\n",
       "      <td>1000</td>\n",
       "      <td>9</td>\n",
       "      <td>58.0</td>\n",
       "      <td>466.0</td>\n",
       "      <td>57.0</td>\n",
       "      <td>14568.91</td>\n",
       "      <td>15.0</td>\n",
       "      <td>52</td>\n",
       "      <td>NaT</td>\n",
       "      <td>Краснодар</td>\n",
       "      <td>...</td>\n",
       "      <td>ultra</td>\n",
       "      <td>1000</td>\n",
       "      <td>30720</td>\n",
       "      <td>3000</td>\n",
       "      <td>1950</td>\n",
       "      <td>150</td>\n",
       "      <td>1</td>\n",
       "      <td>1</td>\n",
       "      <td>30.0</td>\n",
       "      <td>1950.0</td>\n",
       "    </tr>\n",
       "  </tbody>\n",
       "</table>\n",
       "<p>5 rows × 23 columns</p>\n",
       "</div>"
      ],
      "text/plain": [
       "   user_id  month  calls_qty_monthly  minutes_used_monthly  \\\n",
       "0     1000      5               22.0                 159.0   \n",
       "1     1000      6               43.0                 172.0   \n",
       "2     1000      7               47.0                 340.0   \n",
       "3     1000      8               52.0                 408.0   \n",
       "4     1000      9               58.0                 466.0   \n",
       "\n",
       "   messages_qty_monthly  mb_used_monthly  gb_used_monthly  age churn_date  \\\n",
       "0                  22.0          2253.49              3.0   52        NaT   \n",
       "1                  60.0         23233.77             23.0   52        NaT   \n",
       "2                  75.0         14003.64             14.0   52        NaT   \n",
       "3                  81.0         14055.93             14.0   52        NaT   \n",
       "4                  57.0         14568.91             15.0   52        NaT   \n",
       "\n",
       "        city  ... tariff messages_included mb_per_month_included  \\\n",
       "0  Краснодар  ...  ultra              1000                 30720   \n",
       "1  Краснодар  ...  ultra              1000                 30720   \n",
       "2  Краснодар  ...  ultra              1000                 30720   \n",
       "3  Краснодар  ...  ultra              1000                 30720   \n",
       "4  Краснодар  ...  ultra              1000                 30720   \n",
       "\n",
       "  minutes_included  rub_monthly_fee  rub_per_gb  rub_per_message  \\\n",
       "0             3000             1950         150                1   \n",
       "1             3000             1950         150                1   \n",
       "2             3000             1950         150                1   \n",
       "3             3000             1950         150                1   \n",
       "4             3000             1950         150                1   \n",
       "\n",
       "   rub_per_minute  gb_per_month_included  revenue_rub  \n",
       "0               1                   30.0       1950.0  \n",
       "1               1                   30.0       1950.0  \n",
       "2               1                   30.0       1950.0  \n",
       "3               1                   30.0       1950.0  \n",
       "4               1                   30.0       1950.0  \n",
       "\n",
       "[5 rows x 23 columns]"
      ]
     },
     "execution_count": 19,
     "metadata": {},
     "output_type": "execute_result"
    }
   ],
   "source": [
    "def revenue_tariff(row):\n",
    "    messages_rev = (row['messages_qty_monthly']-row['messages_included'])*row['rub_per_message']\n",
    "    calls_rev = (row['minutes_used_monthly']-row['minutes_included'])*row['rub_per_minute']\n",
    "    internet_rev = (row['gb_used_monthly']-row['gb_per_month_included'])*row['rub_per_gb']\n",
    "    revenue = row['rub_monthly_fee']\n",
    "    for item in [messages_rev,calls_rev,internet_rev]:\n",
    "        if item > 0:\n",
    "            revenue += item\n",
    "    return revenue\n",
    "\n",
    "monthly_user_data['revenue_rub'] = monthly_user_data.apply(revenue_tariff,axis = 1)\n",
    "monthly_user_data.head()\n"
   ]
  },
  {
   "cell_type": "markdown",
   "metadata": {},
   "source": [
    "## Шаг 3. Проанализируйте данные"
   ]
  },
  {
   "cell_type": "markdown",
   "metadata": {},
   "source": [
    "### Сколько минут разговора, сколько сообщений и какой объём интернет-трафика требуется пользователям каждого тарифа в месяц?"
   ]
  },
  {
   "cell_type": "markdown",
   "metadata": {},
   "source": [
    "Данные кол-ву минут разговора, сообщений и объёму интернет-трафика приведены ниже. "
   ]
  },
  {
   "cell_type": "code",
   "execution_count": 20,
   "metadata": {},
   "outputs": [
    {
     "data": {
      "text/html": [
       "<div>\n",
       "<style scoped>\n",
       "    .dataframe tbody tr th:only-of-type {\n",
       "        vertical-align: middle;\n",
       "    }\n",
       "\n",
       "    .dataframe tbody tr th {\n",
       "        vertical-align: top;\n",
       "    }\n",
       "\n",
       "    .dataframe thead th {\n",
       "        text-align: right;\n",
       "    }\n",
       "</style>\n",
       "<table border=\"1\" class=\"dataframe\">\n",
       "  <thead>\n",
       "    <tr style=\"text-align: right;\">\n",
       "      <th></th>\n",
       "      <th>tariff</th>\n",
       "      <th>gb_used_monthly</th>\n",
       "      <th>messages_qty_monthly</th>\n",
       "      <th>minutes_used_monthly</th>\n",
       "      <th>revenue_rub</th>\n",
       "      <th>user_id</th>\n",
       "    </tr>\n",
       "    <tr>\n",
       "      <th>month</th>\n",
       "      <th></th>\n",
       "      <th></th>\n",
       "      <th></th>\n",
       "      <th></th>\n",
       "      <th></th>\n",
       "      <th></th>\n",
       "    </tr>\n",
       "  </thead>\n",
       "  <tbody>\n",
       "    <tr>\n",
       "      <th>1</th>\n",
       "      <td>smart</td>\n",
       "      <td>297.0</td>\n",
       "      <td>620.0</td>\n",
       "      <td>6931.0</td>\n",
       "      <td>24525.0</td>\n",
       "      <td>34</td>\n",
       "    </tr>\n",
       "    <tr>\n",
       "      <th>2</th>\n",
       "      <td>smart</td>\n",
       "      <td>687.0</td>\n",
       "      <td>1397.0</td>\n",
       "      <td>17324.0</td>\n",
       "      <td>48001.0</td>\n",
       "      <td>58</td>\n",
       "    </tr>\n",
       "    <tr>\n",
       "      <th>3</th>\n",
       "      <td>smart</td>\n",
       "      <td>1173.0</td>\n",
       "      <td>2453.0</td>\n",
       "      <td>30034.0</td>\n",
       "      <td>89676.0</td>\n",
       "      <td>77</td>\n",
       "    </tr>\n",
       "    <tr>\n",
       "      <th>4</th>\n",
       "      <td>smart</td>\n",
       "      <td>1526.0</td>\n",
       "      <td>3443.0</td>\n",
       "      <td>41119.0</td>\n",
       "      <td>107866.0</td>\n",
       "      <td>112</td>\n",
       "    </tr>\n",
       "    <tr>\n",
       "      <th>5</th>\n",
       "      <td>smart</td>\n",
       "      <td>2243.0</td>\n",
       "      <td>4762.0</td>\n",
       "      <td>54618.0</td>\n",
       "      <td>168849.0</td>\n",
       "      <td>141</td>\n",
       "    </tr>\n",
       "  </tbody>\n",
       "</table>\n",
       "</div>"
      ],
      "text/plain": [
       "      tariff  gb_used_monthly  messages_qty_monthly  minutes_used_monthly  \\\n",
       "month                                                                       \n",
       "1      smart            297.0                 620.0                6931.0   \n",
       "2      smart            687.0                1397.0               17324.0   \n",
       "3      smart           1173.0                2453.0               30034.0   \n",
       "4      smart           1526.0                3443.0               41119.0   \n",
       "5      smart           2243.0                4762.0               54618.0   \n",
       "\n",
       "       revenue_rub  user_id  \n",
       "month                        \n",
       "1          24525.0       34  \n",
       "2          48001.0       58  \n",
       "3          89676.0       77  \n",
       "4         107866.0      112  \n",
       "5         168849.0      141  "
      ]
     },
     "metadata": {},
     "output_type": "display_data"
    },
    {
     "data": {
      "text/html": [
       "<div>\n",
       "<style scoped>\n",
       "    .dataframe tbody tr th:only-of-type {\n",
       "        vertical-align: middle;\n",
       "    }\n",
       "\n",
       "    .dataframe tbody tr th {\n",
       "        vertical-align: top;\n",
       "    }\n",
       "\n",
       "    .dataframe thead th {\n",
       "        text-align: right;\n",
       "    }\n",
       "</style>\n",
       "<table border=\"1\" class=\"dataframe\">\n",
       "  <thead>\n",
       "    <tr style=\"text-align: right;\">\n",
       "      <th></th>\n",
       "      <th>tariff</th>\n",
       "      <th>gb_used_monthly</th>\n",
       "      <th>messages_qty_monthly</th>\n",
       "      <th>minutes_used_monthly</th>\n",
       "      <th>revenue_rub</th>\n",
       "      <th>user_id</th>\n",
       "    </tr>\n",
       "    <tr>\n",
       "      <th>month</th>\n",
       "      <th></th>\n",
       "      <th></th>\n",
       "      <th></th>\n",
       "      <th></th>\n",
       "      <th></th>\n",
       "      <th></th>\n",
       "    </tr>\n",
       "  </thead>\n",
       "  <tbody>\n",
       "    <tr>\n",
       "      <th>8</th>\n",
       "      <td>ultra</td>\n",
       "      <td>2097.0</td>\n",
       "      <td>5183.0</td>\n",
       "      <td>54653.0</td>\n",
       "      <td>222900.0</td>\n",
       "      <td>107</td>\n",
       "    </tr>\n",
       "    <tr>\n",
       "      <th>9</th>\n",
       "      <td>ultra</td>\n",
       "      <td>2213.0</td>\n",
       "      <td>6013.0</td>\n",
       "      <td>62036.0</td>\n",
       "      <td>232800.0</td>\n",
       "      <td>115</td>\n",
       "    </tr>\n",
       "    <tr>\n",
       "      <th>10</th>\n",
       "      <td>ultra</td>\n",
       "      <td>2468.0</td>\n",
       "      <td>7187.0</td>\n",
       "      <td>68644.0</td>\n",
       "      <td>254100.0</td>\n",
       "      <td>123</td>\n",
       "    </tr>\n",
       "    <tr>\n",
       "      <th>11</th>\n",
       "      <td>ultra</td>\n",
       "      <td>2654.0</td>\n",
       "      <td>7476.0</td>\n",
       "      <td>72545.0</td>\n",
       "      <td>280350.0</td>\n",
       "      <td>134</td>\n",
       "    </tr>\n",
       "    <tr>\n",
       "      <th>12</th>\n",
       "      <td>ultra</td>\n",
       "      <td>3022.0</td>\n",
       "      <td>8425.0</td>\n",
       "      <td>82400.0</td>\n",
       "      <td>297300.0</td>\n",
       "      <td>139</td>\n",
       "    </tr>\n",
       "  </tbody>\n",
       "</table>\n",
       "</div>"
      ],
      "text/plain": [
       "      tariff  gb_used_monthly  messages_qty_monthly  minutes_used_monthly  \\\n",
       "month                                                                       \n",
       "8      ultra           2097.0                5183.0               54653.0   \n",
       "9      ultra           2213.0                6013.0               62036.0   \n",
       "10     ultra           2468.0                7187.0               68644.0   \n",
       "11     ultra           2654.0                7476.0               72545.0   \n",
       "12     ultra           3022.0                8425.0               82400.0   \n",
       "\n",
       "       revenue_rub  user_id  \n",
       "month                        \n",
       "8         222900.0      107  \n",
       "9         232800.0      115  \n",
       "10        254100.0      123  \n",
       "11        280350.0      134  \n",
       "12        297300.0      139  "
      ]
     },
     "execution_count": 20,
     "metadata": {},
     "output_type": "execute_result"
    }
   ],
   "source": [
    "tariff_monthly_data = monthly_user_data.pivot_table(\n",
    "    index = ['tariff','month'],\n",
    "    values = ['minutes_used_monthly','messages_qty_monthly','gb_used_monthly','revenue_rub','user_id'],\n",
    "    aggfunc = {'minutes_used_monthly':'sum',\n",
    "               'messages_qty_monthly':'sum',\n",
    "               'gb_used_monthly':'sum',\n",
    "               'revenue_rub':'sum',\n",
    "               'user_id':'count'}\n",
    ").reset_index()\n",
    "tariff_monthly_data.set_index('month', inplace=True)\n",
    "ultra = tariff_monthly_data.query('tariff == \"ultra\"')\n",
    "smart = tariff_monthly_data.query('tariff == \"smart\"')\n",
    "\n",
    "display(smart.head())\n",
    "ultra.tail()"
   ]
  },
  {
   "cell_type": "code",
   "execution_count": 21,
   "metadata": {},
   "outputs": [],
   "source": [
    "def tariff_monthly_graph(tariff,column):\n",
    "    graph = tariff_monthly_data[tariff_monthly_data['tariff']== tariff][column]\\\n",
    "    .plot(\n",
    "    y=column,x = 'month',legend = True, label = tariff ,\n",
    "    title = f'График по столбцу {column} для обоих тарифов',\n",
    "    grid = True\n",
    "    )\n",
    "    return graph"
   ]
  },
  {
   "cell_type": "code",
   "execution_count": 22,
   "metadata": {},
   "outputs": [
    {
     "data": {
      "image/png": "[encoded data removed]",
      "text/plain": [
       "<Figure size 432x288 with 1 Axes>"
      ]
     },
     "metadata": {
      "needs_background": "light"
     },
     "output_type": "display_data"
    }
   ],
   "source": [
    "tariff_monthly_graph('smart','gb_used_monthly')\n",
    "tariff_monthly_graph('ultra','gb_used_monthly');"
   ]
  },
  {
   "cell_type": "code",
   "execution_count": 23,
   "metadata": {},
   "outputs": [
    {
     "data": {
      "image/png": "[encoded data removed]",
      "text/plain": [
       "<Figure size 432x288 with 1 Axes>"
      ]
     },
     "metadata": {
      "needs_background": "light"
     },
     "output_type": "display_data"
    }
   ],
   "source": [
    "tariff_monthly_graph('smart','messages_qty_monthly')\n",
    "tariff_monthly_graph('ultra','messages_qty_monthly');"
   ]
  },
  {
   "cell_type": "code",
   "execution_count": 24,
   "metadata": {},
   "outputs": [
    {
     "data": {
      "image/png": "[encoded data removed]",
      "text/plain": [
       "<Figure size 432x288 with 1 Axes>"
      ]
     },
     "metadata": {
      "needs_background": "light"
     },
     "output_type": "display_data"
    }
   ],
   "source": [
    "tariff_monthly_graph('smart','minutes_used_monthly')\n",
    "tariff_monthly_graph('ultra','minutes_used_monthly');"
   ]
  },
  {
   "cell_type": "markdown",
   "metadata": {},
   "source": [
    "<b> Вывод: </b>\n",
    "\n",
    "По обоим тарифам есть тренд увелечения всех трех компонентов тарифа в количественном объеме. Возможно это связано с увелечением кол-ва пользоватлей, проверим это позже. \n"
   ]
  },
  {
   "cell_type": "markdown",
   "metadata": {},
   "source": [
    "### Посчитайте среднее количество, дисперсию и стандартное отклонение. "
   ]
  },
  {
   "cell_type": "markdown",
   "metadata": {},
   "source": [
    "Напишем функцию для построения гистограмм. Для данных по интернету и минутам построим гистограммы плотности, так как эти переменные являются непрерывными, а для данных по кол-ву сообщений построим обычную гистограмму, так как переменная дискретная."
   ]
  },
  {
   "cell_type": "code",
   "execution_count": 25,
   "metadata": {},
   "outputs": [],
   "source": [
    "def histogram(tariff,column):\n",
    "    if column == 'gb_used_monthly' or column ==  'minutes_used_monthly':\n",
    "        return plt.title(f'Гистограмма плотности для тарифа {tariff}, по столбцу {column}'), \\\n",
    "    plt.hist(\n",
    "            x=monthly_user_data[monthly_user_data['tariff']==tariff][column], \n",
    "            bins = 20, density=True\n",
    "        );\n",
    "    elif column == 'messages_qty_monthly' or column  == 'revenue_rub':\n",
    "        return plt.title(f'Гистограмма для тарифа {tariff}, по столбцу {column}'), \\\n",
    "    plt.hist(\n",
    "            x=monthly_user_data[monthly_user_data['tariff']==tariff][column], \n",
    "            bins = 20\n",
    "        ) "
   ]
  },
  {
   "cell_type": "markdown",
   "metadata": {},
   "source": [
    "<b> Данные по расходу интернета </b>"
   ]
  },
  {
   "cell_type": "code",
   "execution_count": 26,
   "metadata": {},
   "outputs": [
    {
     "data": {
      "text/html": [
       "<div>\n",
       "<style scoped>\n",
       "    .dataframe tbody tr th:only-of-type {\n",
       "        vertical-align: middle;\n",
       "    }\n",
       "\n",
       "    .dataframe tbody tr th {\n",
       "        vertical-align: top;\n",
       "    }\n",
       "\n",
       "    .dataframe thead tr th {\n",
       "        text-align: left;\n",
       "    }\n",
       "\n",
       "    .dataframe thead tr:last-of-type th {\n",
       "        text-align: right;\n",
       "    }\n",
       "</style>\n",
       "<table border=\"1\" class=\"dataframe\">\n",
       "  <thead>\n",
       "    <tr>\n",
       "      <th></th>\n",
       "      <th colspan=\"3\" halign=\"left\">gb_used_monthly</th>\n",
       "    </tr>\n",
       "    <tr>\n",
       "      <th></th>\n",
       "      <th>mean</th>\n",
       "      <th>var</th>\n",
       "      <th>std</th>\n",
       "    </tr>\n",
       "    <tr>\n",
       "      <th>tariff</th>\n",
       "      <th></th>\n",
       "      <th></th>\n",
       "      <th></th>\n",
       "    </tr>\n",
       "  </thead>\n",
       "  <tbody>\n",
       "    <tr>\n",
       "      <th>smart</th>\n",
       "      <td>16.33</td>\n",
       "      <td>33.03</td>\n",
       "      <td>5.75</td>\n",
       "    </tr>\n",
       "    <tr>\n",
       "      <th>ultra</th>\n",
       "      <td>19.49</td>\n",
       "      <td>97.09</td>\n",
       "      <td>9.85</td>\n",
       "    </tr>\n",
       "  </tbody>\n",
       "</table>\n",
       "</div>"
      ],
      "text/plain": [
       "       gb_used_monthly             \n",
       "                  mean    var   std\n",
       "tariff                             \n",
       "smart            16.33  33.03  5.75\n",
       "ultra            19.49  97.09  9.85"
      ]
     },
     "execution_count": 26,
     "metadata": {},
     "output_type": "execute_result"
    }
   ],
   "source": [
    "monthly_user_data.groupby('tariff').agg({'gb_used_monthly':['mean','var','std']}).round(2)"
   ]
  },
  {
   "cell_type": "code",
   "execution_count": 27,
   "metadata": {},
   "outputs": [
    {
     "data": {
      "image/png": "[encoded data removed]",
      "text/plain": [
       "<Figure size 432x288 with 1 Axes>"
      ]
     },
     "metadata": {
      "needs_background": "light"
     },
     "output_type": "display_data"
    }
   ],
   "source": [
    "histogram('smart','gb_used_monthly');"
   ]
  },
  {
   "cell_type": "code",
   "execution_count": 28,
   "metadata": {},
   "outputs": [
    {
     "data": {
      "image/png": "[encoded data removed]",
      "text/plain": [
       "<Figure size 432x288 with 1 Axes>"
      ]
     },
     "metadata": {
      "needs_background": "light"
     },
     "output_type": "display_data"
    }
   ],
   "source": [
    "histogram('ultra','gb_used_monthly');"
   ]
  },
  {
   "cell_type": "markdown",
   "metadata": {},
   "source": [
    "<b> Вывод: </b> \n",
    "\n",
    "Распределние по расходу интернета для двух тарифов отличается, так для тарифа smart среднее потребление интернета меньше, чем у тарифа ultra - 16.3 против 19.5 . Разброс значений у тарифа ultra больше в два раза. Это говорит о том, расход интернета у клиентов тарифа smart сгруппирован плотнее вокргуг среднего, нежели у пользователей тарифа ultra. Также в среднем пользователи тарифа smart полностью расходуют лимит тарифа, в то время как у тарифа ultra пользователи расходуют в срднем 64% своего лимита."
   ]
  },
  {
   "cell_type": "code",
   "execution_count": 29,
   "metadata": {},
   "outputs": [
    {
     "data": {
      "text/plain": [
       "1.0886666666666664"
      ]
     },
     "metadata": {},
     "output_type": "display_data"
    },
    {
     "data": {
      "text/plain": [
       "0.6496666666666666"
      ]
     },
     "metadata": {},
     "output_type": "display_data"
    }
   ],
   "source": [
    "# отношение среднего к лимиту тарифа\n",
    "smart_mean_share = 16.33/15\n",
    "ultra_mean_share = 19.49/30\n",
    "display (smart_mean_share,ultra_mean_share )"
   ]
  },
  {
   "cell_type": "markdown",
   "metadata": {},
   "source": [
    "<b> Данные по расходу сообщений </b>"
   ]
  },
  {
   "cell_type": "code",
   "execution_count": 30,
   "metadata": {},
   "outputs": [
    {
     "data": {
      "text/html": [
       "<div>\n",
       "<style scoped>\n",
       "    .dataframe tbody tr th:only-of-type {\n",
       "        vertical-align: middle;\n",
       "    }\n",
       "\n",
       "    .dataframe tbody tr th {\n",
       "        vertical-align: top;\n",
       "    }\n",
       "\n",
       "    .dataframe thead tr th {\n",
       "        text-align: left;\n",
       "    }\n",
       "\n",
       "    .dataframe thead tr:last-of-type th {\n",
       "        text-align: right;\n",
       "    }\n",
       "</style>\n",
       "<table border=\"1\" class=\"dataframe\">\n",
       "  <thead>\n",
       "    <tr>\n",
       "      <th></th>\n",
       "      <th colspan=\"3\" halign=\"left\">messages_qty_monthly</th>\n",
       "    </tr>\n",
       "    <tr>\n",
       "      <th></th>\n",
       "      <th>mean</th>\n",
       "      <th>var</th>\n",
       "      <th>std</th>\n",
       "    </tr>\n",
       "    <tr>\n",
       "      <th>tariff</th>\n",
       "      <th></th>\n",
       "      <th></th>\n",
       "      <th></th>\n",
       "    </tr>\n",
       "  </thead>\n",
       "  <tbody>\n",
       "    <tr>\n",
       "      <th>smart</th>\n",
       "      <td>33.38</td>\n",
       "      <td>796.81</td>\n",
       "      <td>28.23</td>\n",
       "    </tr>\n",
       "    <tr>\n",
       "      <th>ultra</th>\n",
       "      <td>49.36</td>\n",
       "      <td>2285.27</td>\n",
       "      <td>47.80</td>\n",
       "    </tr>\n",
       "  </tbody>\n",
       "</table>\n",
       "</div>"
      ],
      "text/plain": [
       "       messages_qty_monthly                \n",
       "                       mean      var    std\n",
       "tariff                                     \n",
       "smart                 33.38   796.81  28.23\n",
       "ultra                 49.36  2285.27  47.80"
      ]
     },
     "execution_count": 30,
     "metadata": {},
     "output_type": "execute_result"
    }
   ],
   "source": [
    "monthly_user_data.groupby('tariff').agg({'messages_qty_monthly':['mean','var','std']}).round(2)"
   ]
  },
  {
   "cell_type": "code",
   "execution_count": 31,
   "metadata": {},
   "outputs": [
    {
     "data": {
      "image/png": "[encoded data removed]",
      "text/plain": [
       "<Figure size 432x288 with 1 Axes>"
      ]
     },
     "metadata": {
      "needs_background": "light"
     },
     "output_type": "display_data"
    }
   ],
   "source": [
    "histogram('smart','messages_qty_monthly');"
   ]
  },
  {
   "cell_type": "code",
   "execution_count": 32,
   "metadata": {},
   "outputs": [
    {
     "data": {
      "image/png": "[encoded data removed]",
      "text/plain": [
       "<Figure size 432x288 with 1 Axes>"
      ]
     },
     "metadata": {
      "needs_background": "light"
     },
     "output_type": "display_data"
    }
   ],
   "source": [
    "histogram('ultra','messages_qty_monthly');"
   ]
  },
  {
   "cell_type": "markdown",
   "metadata": {},
   "source": [
    "<b> Вывод: </b> \n",
    "    \n",
    "На обеих гистограммах мы видим выбросы около нуля, что означает отсутсвие отправлений сообщений.\n",
    "Как и на предыдущих гистограммах мы видим, что у пользователей тарифа ultra и среднее и стандартное отклонение больше. Но количество пользователей у тарифа смарт больше. Лимит сообщений пользователи тарифа smart расходуют в среднем на 66%, а в тарифе ultra всего лишь 4%"
   ]
  },
  {
   "cell_type": "code",
   "execution_count": 33,
   "metadata": {},
   "outputs": [
    {
     "data": {
      "text/plain": [
       "0.6676000000000001"
      ]
     },
     "metadata": {},
     "output_type": "display_data"
    },
    {
     "data": {
      "text/plain": [
       "0.04936"
      ]
     },
     "metadata": {},
     "output_type": "display_data"
    }
   ],
   "source": [
    "# отношение среднего к лимиту тарифа\n",
    "smart_mean_share = 33.38/50\n",
    "ultra_mean_share = 49.36/1000\n",
    "display (smart_mean_share,ultra_mean_share )"
   ]
  },
  {
   "cell_type": "markdown",
   "metadata": {},
   "source": [
    "<b> Данные по расходу минут для разговоров </b>"
   ]
  },
  {
   "cell_type": "code",
   "execution_count": 34,
   "metadata": {},
   "outputs": [
    {
     "data": {
      "text/html": [
       "<div>\n",
       "<style scoped>\n",
       "    .dataframe tbody tr th:only-of-type {\n",
       "        vertical-align: middle;\n",
       "    }\n",
       "\n",
       "    .dataframe tbody tr th {\n",
       "        vertical-align: top;\n",
       "    }\n",
       "\n",
       "    .dataframe thead tr th {\n",
       "        text-align: left;\n",
       "    }\n",
       "\n",
       "    .dataframe thead tr:last-of-type th {\n",
       "        text-align: right;\n",
       "    }\n",
       "</style>\n",
       "<table border=\"1\" class=\"dataframe\">\n",
       "  <thead>\n",
       "    <tr>\n",
       "      <th></th>\n",
       "      <th colspan=\"3\" halign=\"left\">minutes_used_monthly</th>\n",
       "    </tr>\n",
       "    <tr>\n",
       "      <th></th>\n",
       "      <th>mean</th>\n",
       "      <th>var</th>\n",
       "      <th>std</th>\n",
       "    </tr>\n",
       "    <tr>\n",
       "      <th>tariff</th>\n",
       "      <th></th>\n",
       "      <th></th>\n",
       "      <th></th>\n",
       "    </tr>\n",
       "  </thead>\n",
       "  <tbody>\n",
       "    <tr>\n",
       "      <th>smart</th>\n",
       "      <td>417.93</td>\n",
       "      <td>36219.32</td>\n",
       "      <td>190.31</td>\n",
       "    </tr>\n",
       "    <tr>\n",
       "      <th>ultra</th>\n",
       "      <td>526.62</td>\n",
       "      <td>100873.63</td>\n",
       "      <td>317.61</td>\n",
       "    </tr>\n",
       "  </tbody>\n",
       "</table>\n",
       "</div>"
      ],
      "text/plain": [
       "       minutes_used_monthly                   \n",
       "                       mean        var     std\n",
       "tariff                                        \n",
       "smart                417.93   36219.32  190.31\n",
       "ultra                526.62  100873.63  317.61"
      ]
     },
     "execution_count": 34,
     "metadata": {},
     "output_type": "execute_result"
    }
   ],
   "source": [
    "monthly_user_data.groupby('tariff').agg({'minutes_used_monthly':['mean','var','std']}).round(2)"
   ]
  },
  {
   "cell_type": "code",
   "execution_count": 35,
   "metadata": {},
   "outputs": [
    {
     "data": {
      "image/png": "[encoded data removed]",
      "text/plain": [
       "<Figure size 432x288 with 1 Axes>"
      ]
     },
     "metadata": {
      "needs_background": "light"
     },
     "output_type": "display_data"
    }
   ],
   "source": [
    "histogram('smart','minutes_used_monthly');"
   ]
  },
  {
   "cell_type": "code",
   "execution_count": 36,
   "metadata": {},
   "outputs": [
    {
     "data": {
      "image/png": "[encoded data removed]",
      "text/plain": [
       "<Figure size 432x288 with 1 Axes>"
      ]
     },
     "metadata": {
      "needs_background": "light"
     },
     "output_type": "display_data"
    }
   ],
   "source": [
    "histogram('ultra','minutes_used_monthly');"
   ]
  },
  {
   "cell_type": "markdown",
   "metadata": {},
   "source": [
    "<b> Вывод: </b> \n",
    "\n",
    "Как и на предыдущих гистограммах мы видим, что у пользователей тарифа ultra и среднее и стандартное отклонение больше. Но при этом разница в средних небольшая, а разница в средних значительна. Распредления близки к нормальным. Пользователи  тарифа smart в среднем используют практические весь лимит , в то время как пользователи тарифа ultra используют лишь 17%.\n",
    "\n"
   ]
  },
  {
   "cell_type": "code",
   "execution_count": 37,
   "metadata": {},
   "outputs": [
    {
     "data": {
      "text/plain": [
       "0.8358"
      ]
     },
     "metadata": {},
     "output_type": "display_data"
    },
    {
     "data": {
      "text/plain": [
       "0.17554"
      ]
     },
     "metadata": {},
     "output_type": "display_data"
    }
   ],
   "source": [
    "# отношение среднего к лимиту тарифа\n",
    "smart_mean_share = 417.9/500 \n",
    "ultra_mean_share = 526.62/ 3000\n",
    "display (smart_mean_share,ultra_mean_share )"
   ]
  },
  {
   "cell_type": "markdown",
   "metadata": {},
   "source": [
    "### Анализ финансовых показателей"
   ]
  },
  {
   "cell_type": "markdown",
   "metadata": {},
   "source": [
    "Напишем функцию для создания графиков"
   ]
  },
  {
   "cell_type": "code",
   "execution_count": 38,
   "metadata": {},
   "outputs": [],
   "source": [
    "def linear_graph(tariff,column):\n",
    "    if column == 'revenue_rub' or column == 'excess_rub':\n",
    "        graph = monthly_user_data[monthly_user_data['tariff']== tariff]\\\n",
    "        .groupby('month')[column].agg('sum').plot(\n",
    "            y=column,x = 'month',legend = True, label = tariff,\n",
    "            title = f'График по столбцу {column}, по обоим тарифам по месяцам',\n",
    "            grid = True\n",
    "        )\n",
    "        return graph\n",
    "    elif column == 'user_id':\n",
    "        graph = monthly_user_data[monthly_user_data['tariff']== tariff]\\\n",
    "        .groupby('month')[column].agg('count').plot(\n",
    "            y=column,x = 'month',legend = True, label = tariff,\n",
    "            title = f'График по столбцу {column}, по обоим тарифам по месяцам',\n",
    "            grid = True\n",
    "        )\n",
    "        return graph\n",
    "        \n",
    "    "
   ]
  },
  {
   "cell_type": "markdown",
   "metadata": {},
   "source": [
    "#### Проанализируем переплату пользователей по обоим трафиикам по месяцам"
   ]
  },
  {
   "cell_type": "code",
   "execution_count": 39,
   "metadata": {},
   "outputs": [
    {
     "data": {
      "text/html": [
       "<div>\n",
       "<style scoped>\n",
       "    .dataframe tbody tr th:only-of-type {\n",
       "        vertical-align: middle;\n",
       "    }\n",
       "\n",
       "    .dataframe tbody tr th {\n",
       "        vertical-align: top;\n",
       "    }\n",
       "\n",
       "    .dataframe thead tr th {\n",
       "        text-align: left;\n",
       "    }\n",
       "\n",
       "    .dataframe thead tr:last-of-type th {\n",
       "        text-align: right;\n",
       "    }\n",
       "</style>\n",
       "<table border=\"1\" class=\"dataframe\">\n",
       "  <thead>\n",
       "    <tr>\n",
       "      <th></th>\n",
       "      <th colspan=\"3\" halign=\"left\">excess_rub</th>\n",
       "    </tr>\n",
       "    <tr>\n",
       "      <th></th>\n",
       "      <th>mean</th>\n",
       "      <th>var</th>\n",
       "      <th>std</th>\n",
       "    </tr>\n",
       "    <tr>\n",
       "      <th>tariff</th>\n",
       "      <th></th>\n",
       "      <th></th>\n",
       "      <th></th>\n",
       "    </tr>\n",
       "  </thead>\n",
       "  <tbody>\n",
       "    <tr>\n",
       "      <th>smart</th>\n",
       "      <td>739.97</td>\n",
       "      <td>669785.71</td>\n",
       "      <td>818.40</td>\n",
       "    </tr>\n",
       "    <tr>\n",
       "      <th>ultra</th>\n",
       "      <td>120.15</td>\n",
       "      <td>141516.75</td>\n",
       "      <td>376.19</td>\n",
       "    </tr>\n",
       "  </tbody>\n",
       "</table>\n",
       "</div>"
      ],
      "text/plain": [
       "       excess_rub                   \n",
       "             mean        var     std\n",
       "tariff                              \n",
       "smart      739.97  669785.71  818.40\n",
       "ultra      120.15  141516.75  376.19"
      ]
     },
     "execution_count": 39,
     "metadata": {},
     "output_type": "execute_result"
    }
   ],
   "source": [
    "def excess_tariff(row):\n",
    "    messages_rev = (row['messages_qty_monthly']-row['messages_included'])*row['rub_per_message']\n",
    "    calls_rev = (row['minutes_used_monthly']-row['minutes_included'])*row['rub_per_minute']\n",
    "    internet_rev = (row['gb_used_monthly']-row['gb_per_month_included'])*row['rub_per_gb']\n",
    "    excess = 0\n",
    "    for item in [messages_rev,calls_rev,internet_rev]:\n",
    "        if item > 0:\n",
    "            excess += item\n",
    "    return excess\n",
    "\n",
    "monthly_user_data['excess_rub'] = monthly_user_data.apply(excess_tariff,axis = 1)\n",
    "                                \n",
    "monthly_user_data.groupby('tariff').agg({'excess_rub':['mean','var','std']}).round(2)"
   ]
  },
  {
   "cell_type": "code",
   "execution_count": 40,
   "metadata": {},
   "outputs": [
    {
     "data": {
      "image/png": "[encoded data removed]",
      "text/plain": [
       "<Figure size 432x288 with 1 Axes>"
      ]
     },
     "metadata": {
      "needs_background": "light"
     },
     "output_type": "display_data"
    }
   ],
   "source": [
    "linear_graph('ultra','excess_rub')\n",
    "linear_graph('smart','excess_rub');"
   ]
  },
  {
   "cell_type": "code",
   "execution_count": 41,
   "metadata": {},
   "outputs": [
    {
     "data": {
      "image/png": "[encoded data removed]",
      "text/plain": [
       "<Figure size 432x288 with 1 Axes>"
      ]
     },
     "metadata": {
      "needs_background": "light"
     },
     "output_type": "display_data"
    }
   ],
   "source": [
    "linear_graph('ultra','user_id')\n",
    "linear_graph('smart','user_id');"
   ]
  },
  {
   "cell_type": "markdown",
   "metadata": {},
   "source": [
    "<b> Вывод: </b> \n",
    "\n",
    "Можем видеть, что суммарно переплата у пользователей тарифа smart больше и она растет месяц к месяцу, но это может быть связано с ростом пользователей, при этом у пользоватлей тарифа ultra рост переплат с течением времени незначителен при одновременном увелечении кол-ва пользователей.\n",
    "\n",
    "Средняя переплата и ст. отклонение у пользователей тарифа smart значительно выше, чем у тарифа у пользователей ultra"
   ]
  },
  {
   "cell_type": "markdown",
   "metadata": {},
   "source": [
    "#### Проанализируем выручки пользователей по обоим трафиикам по месяцам"
   ]
  },
  {
   "cell_type": "code",
   "execution_count": 42,
   "metadata": {},
   "outputs": [
    {
     "data": {
      "text/html": [
       "<div>\n",
       "<style scoped>\n",
       "    .dataframe tbody tr th:only-of-type {\n",
       "        vertical-align: middle;\n",
       "    }\n",
       "\n",
       "    .dataframe tbody tr th {\n",
       "        vertical-align: top;\n",
       "    }\n",
       "\n",
       "    .dataframe thead tr th {\n",
       "        text-align: left;\n",
       "    }\n",
       "\n",
       "    .dataframe thead tr:last-of-type th {\n",
       "        text-align: right;\n",
       "    }\n",
       "</style>\n",
       "<table border=\"1\" class=\"dataframe\">\n",
       "  <thead>\n",
       "    <tr>\n",
       "      <th></th>\n",
       "      <th colspan=\"3\" halign=\"left\">revenue_rub</th>\n",
       "    </tr>\n",
       "    <tr>\n",
       "      <th></th>\n",
       "      <th>mean</th>\n",
       "      <th>var</th>\n",
       "      <th>std</th>\n",
       "    </tr>\n",
       "    <tr>\n",
       "      <th>tariff</th>\n",
       "      <th></th>\n",
       "      <th></th>\n",
       "      <th></th>\n",
       "    </tr>\n",
       "  </thead>\n",
       "  <tbody>\n",
       "    <tr>\n",
       "      <th>smart</th>\n",
       "      <td>1289.97</td>\n",
       "      <td>669785.71</td>\n",
       "      <td>818.40</td>\n",
       "    </tr>\n",
       "    <tr>\n",
       "      <th>ultra</th>\n",
       "      <td>2070.15</td>\n",
       "      <td>141516.75</td>\n",
       "      <td>376.19</td>\n",
       "    </tr>\n",
       "  </tbody>\n",
       "</table>\n",
       "</div>"
      ],
      "text/plain": [
       "       revenue_rub                   \n",
       "              mean        var     std\n",
       "tariff                               \n",
       "smart      1289.97  669785.71  818.40\n",
       "ultra      2070.15  141516.75  376.19"
      ]
     },
     "execution_count": 42,
     "metadata": {},
     "output_type": "execute_result"
    }
   ],
   "source": [
    "monthly_user_data.groupby('tariff').agg({'revenue_rub':['mean','var','std']}).round(2)"
   ]
  },
  {
   "cell_type": "code",
   "execution_count": 43,
   "metadata": {},
   "outputs": [
    {
     "data": {
      "image/png": "[encoded data removed]",
      "text/plain": [
       "<Figure size 432x288 with 1 Axes>"
      ]
     },
     "metadata": {
      "needs_background": "light"
     },
     "output_type": "display_data"
    }
   ],
   "source": [
    "linear_graph('smart','revenue_rub')\n",
    "linear_graph('ultra','revenue_rub');"
   ]
  },
  {
   "cell_type": "code",
   "execution_count": 44,
   "metadata": {},
   "outputs": [
    {
     "data": {
      "image/png": "[encoded data removed]",
      "text/plain": [
       "<Figure size 432x288 with 1 Axes>"
      ]
     },
     "metadata": {
      "needs_background": "light"
     },
     "output_type": "display_data"
    }
   ],
   "source": [
    "tariff_monthly_data['revenue_per_user'] = tariff_monthly_data['revenue_rub']/tariff_monthly_data['user_id']\n",
    "tariff_monthly_graph('smart','revenue_per_user')\n",
    "tariff_monthly_graph('ultra','revenue_per_user');"
   ]
  },
  {
   "cell_type": "code",
   "execution_count": 45,
   "metadata": {},
   "outputs": [
    {
     "data": {
      "image/png": "[encoded data removed]",
      "text/plain": [
       "<Figure size 432x288 with 1 Axes>"
      ]
     },
     "metadata": {
      "needs_background": "light"
     },
     "output_type": "display_data"
    }
   ],
   "source": [
    "histogram('smart','revenue_rub');"
   ]
  },
  {
   "cell_type": "code",
   "execution_count": 46,
   "metadata": {},
   "outputs": [
    {
     "data": {
      "image/png": "[encoded data removed]",
      "text/plain": [
       "<Figure size 432x288 with 1 Axes>"
      ]
     },
     "metadata": {
      "needs_background": "light"
     },
     "output_type": "display_data"
    }
   ],
   "source": [
    "histogram('ultra','revenue_rub');"
   ]
  },
  {
   "cell_type": "markdown",
   "metadata": {},
   "source": [
    "<b> Вывод: </b> \n",
    "\n",
    "Суммарно пользователи тарифа smart приносят больше выручки, чем пользователи тарифа ultra. Распределение выручки выглядит следующим образом - в среднем выручка по тарифу ultra почти в два раза больше средней выручки по второму тарифу, и ст. отклонение практически в 3 раза меньше, чем у тарифа smart.  По тарифу ультра есть незначительный рост по показателю средняя выручка на одного клиента в месяц, в то время как у тарифа смарт динамика роста больше, что коррелирует с ростом числа пользоватлей."
   ]
  },
  {
   "cell_type": "markdown",
   "metadata": {},
   "source": [
    "## Шаг 4. Проверьте гипотезы"
   ]
  },
  {
   "cell_type": "markdown",
   "metadata": {},
   "source": [
    "* средняя выручка пользователей тарифов «Ультра» и «Смарт» различаются;\n",
    "* средняя выручка пользователей из Москвы отличается от выручки пользователей из других регионов.\n",
    "\n",
    "Пороговое значение alpha задайте самостоятельно.\n",
    "\n",
    "Поясните:\n",
    "\n",
    "* как вы формулировали нулевую и альтернативную гипотезы;\n",
    "* какой критерий использовали для проверки гипотез и почему."
   ]
  },
  {
   "cell_type": "markdown",
   "metadata": {},
   "source": [
    "### Cредняя выручка пользователей тарифов «Ультра» и «Смарт» различаются;"
   ]
  },
  {
   "cell_type": "markdown",
   "metadata": {},
   "source": [
    "Для проверки этой гипотезы сформулируем нулевую и альтернативную гипотезы\n",
    "\n",
    "H0 - средняя выручка пользователей тарифов «Ультра» и «Смарт» равны\n",
    "\n",
    "H1 - средняя выручка пользователей тарифов «Ультра» и «Смарт» различны\n",
    "\n",
    "Используем специальный метод для проверки гипотезы о равенстве среднего двух генеральных совокупностей по взятым из них выборка, с учетом, что дисперсии скорее всего будут разными."
   ]
  },
  {
   "cell_type": "code",
   "execution_count": 47,
   "metadata": {},
   "outputs": [
    {
     "name": "stdout",
     "output_type": "stream",
     "text": [
      "pvalue: 4.2606313931076085e-250\n",
      "Отвергаем нулевую гипотезу\n"
     ]
    }
   ],
   "source": [
    "alpha = 0.05\n",
    "\n",
    "sample_1 = monthly_user_data[monthly_user_data['tariff']== 'smart']['revenue_rub']\n",
    "\n",
    "sample_2 = monthly_user_data[monthly_user_data['tariff']== 'ultra']['revenue_rub']\n",
    "\n",
    "results = st.ttest_ind(\n",
    "    sample_1, \n",
    "    sample_2,\n",
    "    equal_var=False\n",
    ")\n",
    "\n",
    "print('pvalue:',results.pvalue)\n",
    "\n",
    "if results.pvalue > alpha:\n",
    "    print(\"Не отвергаем нулевую гипотезу\")\n",
    "elif results.pvalue < alpha:\n",
    "    print(\"Отвергаем нулевую гипотезу\")"
   ]
  },
  {
   "cell_type": "code",
   "execution_count": 48,
   "metadata": {},
   "outputs": [
    {
     "data": {
      "image/png": "[encoded data removed]",
      "text/plain": [
       "<Figure size 432x288 with 1 Axes>"
      ]
     },
     "metadata": {
      "needs_background": "light"
     },
     "output_type": "display_data"
    }
   ],
   "source": [
    "tariff_monthly_graph('smart','revenue_per_user')\n",
    "tariff_monthly_graph('ultra','revenue_per_user');"
   ]
  },
  {
   "cell_type": "markdown",
   "metadata": {},
   "source": [
    "<b> Вывод: </b>\n",
    "\n",
    "P-value при проведении статистического теста оказался меньше уровня статистической значимости, поэтому мы отвергаем нулевую гипотезу, но не отвергаем альтернативную - средняя выручка пользователей тарифов «Ультра» и «Смарт» различны"
   ]
  },
  {
   "cell_type": "markdown",
   "metadata": {},
   "source": [
    "### Cредняя выручка пользователей из Москвы отличается от выручки пользователей из других регионов"
   ]
  },
  {
   "cell_type": "markdown",
   "metadata": {},
   "source": [
    "Для проверки этой гипотезы сформулируем нулевую и альтернативную гипотезы\n",
    "\n",
    "H0 - Cредняя выручка пользователей из Москвы и средняя выручек пользователей из других регионов равны\n",
    "\n",
    "H1 - Cредняя выручка пользователей из Москвы отличается от выручки пользователей из других регионов\n",
    "\n",
    "Используем специальный метод для проверки гипотезы о равенстве среднего двух генеральных совокупностей по взятым из них выборка, с учетом, что дисперсии скорее всего будут разными."
   ]
  },
  {
   "cell_type": "code",
   "execution_count": 49,
   "metadata": {},
   "outputs": [
    {
     "name": "stdout",
     "output_type": "stream",
     "text": [
      "pvalue: 0.5257376663729298\n",
      "Не отвергаем нулевую гипотезу\n"
     ]
    }
   ],
   "source": [
    "alpha = 0.05\n",
    "\n",
    "sample_1 = monthly_user_data[monthly_user_data['city']== 'Москва']['revenue_rub']\n",
    "\n",
    "sample_2 = monthly_user_data[monthly_user_data['city']!= 'Москва']['revenue_rub']\n",
    "\n",
    "results = st.ttest_ind(\n",
    "    sample_1, \n",
    "    sample_2,\n",
    "    equal_var=False\n",
    ")\n",
    "\n",
    "print('pvalue:',results.pvalue)\n",
    "\n",
    "if results.pvalue > alpha:\n",
    "    print(\"Не отвергаем нулевую гипотезу\")\n",
    "elif results.pvalue < alpha:\n",
    "    print(\"Отвергаем нулевую гипотезу\")"
   ]
  },
  {
   "cell_type": "code",
   "execution_count": 50,
   "metadata": {},
   "outputs": [
    {
     "data": {
      "image/png": "[encoded data removed]",
      "text/plain": [
       "<Figure size 432x288 with 1 Axes>"
      ]
     },
     "metadata": {
      "needs_background": "light"
     },
     "output_type": "display_data"
    }
   ],
   "source": [
    "def region_func(row):\n",
    "    if row['city'] == 'Москва':\n",
    "        return 'Москва'\n",
    "    else:\n",
    "        return'другой регион'\n",
    "    \n",
    "monthly_user_data['region'] = monthly_user_data.apply(region_func,axis = 1)    \n",
    "    \n",
    "region_data = monthly_user_data.pivot_table(\n",
    "    index = ['region','month'],\n",
    "    values = 'revenue_rub',\n",
    "    aggfunc = 'mean'\n",
    ").reset_index().set_index('month')\n",
    "region_data \n",
    "def region_graph(region,column):\n",
    "    graph = region_data[region_data['region']== region][column]\\\n",
    "    .plot(\n",
    "    y=column,x = 'month',legend = True, label = region ,\n",
    "    title = f'График объему выручки по регионам по месяцам',\n",
    "    grid = True\n",
    "    )\n",
    "    return graph\n",
    "region_graph('Москва','revenue_rub')\n",
    "region_graph('другой регион','revenue_rub');"
   ]
  },
  {
   "cell_type": "markdown",
   "metadata": {},
   "source": [
    "<b> Вывод: </b>\n",
    "\n",
    "P-value при проведении статистического теста оказался больше уровня статистической значимости, поэтому мы отвергаем альтернативную гипотезу, и у нас нет оснований отвергнуть нулевую -  средняя выручка пользователей из Москвы и средняя выручек пользователей из других регионов равны"
   ]
  },
  {
   "cell_type": "markdown",
   "metadata": {},
   "source": [
    "### Пояснения"
   ]
  },
  {
   "cell_type": "markdown",
   "metadata": {},
   "source": [
    "Нулевые гипотезы формулировались путем предложения о равенстве средних, альтернативные гипотезы формулировались путем создания проииворечия нулевой гипотезе.\n",
    "\n",
    "Критерием проверки является сравнение p-значения с уровнем статистической значимости (альфа)"
   ]
  },
  {
   "cell_type": "markdown",
   "metadata": {},
   "source": [
    "## Шаг 5. Напишите общий вывод"
   ]
  },
  {
   "cell_type": "markdown",
   "metadata": {},
   "source": [
    "* При первичном анализе данных были обнаружены некоторые особенности - тип некоторых данных необходимо было изменить, исправить ошибки, что впоследствии и было сделано.\n",
    "* Были расчитаны дополнительные показатели помесячно и выручка по каждому пользователю.\n",
    "* Выводы по расходу интернета:\n",
    " * Распределние по расходу интернета для двух тарифов отличается, так для тарифа smart среднее потребление интернета меньше, чем у тарифа ultra - 16.3 против 19.5 . Разброс значений у тарифа ultra больше в два раза. Это говорит о том, расход интернета у клиентов тарифа smart сгруппирован плотнее вокргуг среднего, нежели у пользователей тарифа ultra. Также в среднем пользователи тарифа smart полностью расходуют лимит тарифа, в то время как у тарифа ultra пользователи расходуют в срднем 64% своего лимита\n",
    "* Выводы по по расходу сообщений\n",
    " *  у пользователей тарифа ultra и среднее и стандартное отклонение больше. Но количество пользователей у тарифа смарт больше. Лимит сообщений пользователи тарифа smart расходуют в среднем на 66%, а в тарифе ultra всего лишь 4%\n",
    "* Выводы по расходу минут для разговоров\n",
    " * у пользователей тарифа ultra и среднее и стандартное отклонение больше. Но при этом разница в средних небольшая, а разница в средних значительна. Распредления близки к нормальным. Пользователи тарифа smart в среднем используют практические весь лимит , в то время как пользователи тарифа ultra используют лишь 17%\n",
    "* Была проанализирована переплата пользователей:\n",
    " * суммарно переплата у пользователей тарифа smart больше и она растет месяц к месяцу, но это может быть связано с ростом пользователей, при этом у пользоватлей тарифа ultra рост переплат с течением времени незначителен при одновременном увелечении кол-ва пользователей.Средняя переплата и ст. отклонение у пользователей тарифа smart значительно выше, чем у тарифа у пользователей ultra\n",
    "* Была проанализирована выручка: \n",
    " * суммарно пользователи тарифа smart приносят больше выручки, чем пользователи тарифа ultra. Распределение выручки выглядит следующим образом - в среднем выручка по тарифу ultra почти в два раза больше средней выручки по второму тарифу, и ст. отклонение практически в 3 раза меньше, чем у тарифа smart. По тарифу ультра есть незначительный рост по показателю средняя выручка на одного клиента в месяц, в то время как у тарифа смарт динамика роста больше, что коррелирует с ростом числа пользоватлей.\n",
    "* Также были проверны гипотезы и выбраны среди них следующие:\n",
    " * средняя выручка пользователей тарифов «Ультра» и «Смарт» различны\n",
    " * средняя выручка пользователей из Москвы и средняя выручек пользователей из других регионов равны\n",
    "* Исходя из проведенного анализа можно сказать, что у тарифа смарт необходимо увеличить лимиты и стоимость тарифа - мы видим, что клиенты на этом тарифе готовы переплачивать за дополнительный траффик и выходят за рамки стоимости своего тарифа, то есть спрос на более широкие лимиты, по тарифу ультра можно урезать лимит на некоторые позиции - например по сообщениям, так как в среднем он использвуется лишь на 4 %, средняя выруска по данному тарифу почти в два раза больше чем у тарифа смарт, считаю что увелечение количества пользователей по данному тарифу в том числе путем маркетинговых компаний, может стать выгодным для «Мегалайна» ."
   ]
  }
 ],
 "metadata": {
  "ExecuteTimeLog": [
   {
    "duration": 2408,
    "start_time": "2022-05-13T17:40:46.990Z"
   },
   {
    "duration": 180,
    "start_time": "2022-05-13T17:42:05.251Z"
   },
   {
    "duration": 224,
    "start_time": "2022-05-13T17:42:15.347Z"
   },
   {
    "duration": 43,
    "start_time": "2022-05-13T17:43:36.234Z"
   },
   {
    "duration": 238,
    "start_time": "2022-05-13T17:43:55.161Z"
   },
   {
    "duration": 194,
    "start_time": "2022-05-13T17:43:57.320Z"
   },
   {
    "duration": 133,
    "start_time": "2022-05-13T17:43:58.049Z"
   },
   {
    "duration": 21,
    "start_time": "2022-05-13T17:43:58.738Z"
   },
   {
    "duration": 45,
    "start_time": "2022-05-13T17:44:05.025Z"
   },
   {
    "duration": 750,
    "start_time": "2022-05-13T17:55:59.580Z"
   },
   {
    "duration": 17,
    "start_time": "2022-05-13T17:58:13.193Z"
   },
   {
    "duration": 16,
    "start_time": "2022-05-13T17:58:59.344Z"
   },
   {
    "duration": 197,
    "start_time": "2022-05-13T17:59:02.612Z"
   },
   {
    "duration": 40,
    "start_time": "2022-05-13T17:59:20.250Z"
   },
   {
    "duration": 37,
    "start_time": "2022-05-13T18:01:32.166Z"
   },
   {
    "duration": 50,
    "start_time": "2022-05-13T18:01:39.408Z"
   },
   {
    "duration": 237,
    "start_time": "2022-05-13T18:08:38.650Z"
   },
   {
    "duration": 242,
    "start_time": "2022-05-13T18:08:56.765Z"
   },
   {
    "duration": 234,
    "start_time": "2022-05-13T18:10:36.972Z"
   },
   {
    "duration": 237,
    "start_time": "2022-05-13T18:10:52.583Z"
   },
   {
    "duration": 320,
    "start_time": "2022-05-13T18:13:28.820Z"
   },
   {
    "duration": 246,
    "start_time": "2022-05-13T18:13:40.922Z"
   },
   {
    "duration": 235,
    "start_time": "2022-05-13T18:13:51.010Z"
   },
   {
    "duration": 242,
    "start_time": "2022-05-13T18:14:03.900Z"
   },
   {
    "duration": 214,
    "start_time": "2022-05-13T18:16:39.478Z"
   },
   {
    "duration": 222,
    "start_time": "2022-05-13T18:16:52.448Z"
   },
   {
    "duration": 251,
    "start_time": "2022-05-13T18:17:41.773Z"
   },
   {
    "duration": 242,
    "start_time": "2022-05-13T18:17:54.814Z"
   },
   {
    "duration": 25,
    "start_time": "2022-05-13T18:18:26.881Z"
   },
   {
    "duration": 219,
    "start_time": "2022-05-13T18:18:47.973Z"
   },
   {
    "duration": 28,
    "start_time": "2022-05-13T18:19:26.050Z"
   },
   {
    "duration": 203,
    "start_time": "2022-05-13T18:31:45.915Z"
   },
   {
    "duration": 160,
    "start_time": "2022-05-13T18:33:46.641Z"
   },
   {
    "duration": 19,
    "start_time": "2022-05-13T18:35:22.815Z"
   },
   {
    "duration": 22,
    "start_time": "2022-05-13T18:35:50.007Z"
   },
   {
    "duration": 36,
    "start_time": "2022-05-13T18:54:44.882Z"
   },
   {
    "duration": 41,
    "start_time": "2022-05-13T18:55:04.795Z"
   },
   {
    "duration": 263,
    "start_time": "2022-05-13T18:55:53.773Z"
   },
   {
    "duration": 45,
    "start_time": "2022-05-13T18:58:36.601Z"
   },
   {
    "duration": 261,
    "start_time": "2022-05-13T18:58:48.683Z"
   },
   {
    "duration": 202,
    "start_time": "2022-05-13T18:59:07.952Z"
   },
   {
    "duration": 152,
    "start_time": "2022-05-13T18:59:27.813Z"
   },
   {
    "duration": 64,
    "start_time": "2022-05-13T19:00:00.626Z"
   },
   {
    "duration": 8,
    "start_time": "2022-05-13T19:17:38.364Z"
   },
   {
    "duration": 7,
    "start_time": "2022-05-13T19:20:14.139Z"
   },
   {
    "duration": 10,
    "start_time": "2022-05-13T19:20:18.040Z"
   },
   {
    "duration": 6,
    "start_time": "2022-05-13T19:20:40.681Z"
   },
   {
    "duration": 11,
    "start_time": "2022-05-13T19:20:51.166Z"
   },
   {
    "duration": 15,
    "start_time": "2022-05-13T19:20:55.162Z"
   },
   {
    "duration": 12,
    "start_time": "2022-05-13T19:20:57.538Z"
   },
   {
    "duration": 6,
    "start_time": "2022-05-13T19:21:15.169Z"
   },
   {
    "duration": 14,
    "start_time": "2022-05-13T19:24:26.458Z"
   },
   {
    "duration": 10,
    "start_time": "2022-05-13T19:25:41.201Z"
   },
   {
    "duration": 45,
    "start_time": "2022-05-13T19:26:35.468Z"
   },
   {
    "duration": 65,
    "start_time": "2022-05-13T19:27:52.630Z"
   },
   {
    "duration": 36,
    "start_time": "2022-05-13T19:28:51.606Z"
   },
   {
    "duration": 8,
    "start_time": "2022-05-13T19:37:11.349Z"
   },
   {
    "duration": 61,
    "start_time": "2022-05-13T19:38:16.306Z"
   },
   {
    "duration": 37,
    "start_time": "2022-05-13T19:38:57.515Z"
   },
   {
    "duration": 57,
    "start_time": "2022-05-13T19:42:02.047Z"
   },
   {
    "duration": 13,
    "start_time": "2022-05-13T19:42:40.138Z"
   },
   {
    "duration": 12,
    "start_time": "2022-05-13T19:42:50.483Z"
   },
   {
    "duration": 1552,
    "start_time": "2022-05-13T23:28:20.117Z"
   },
   {
    "duration": 541,
    "start_time": "2022-05-13T23:28:21.672Z"
   },
   {
    "duration": 58,
    "start_time": "2022-05-13T23:28:22.215Z"
   },
   {
    "duration": 314,
    "start_time": "2022-05-13T23:28:22.277Z"
   },
   {
    "duration": 254,
    "start_time": "2022-05-13T23:28:22.594Z"
   },
   {
    "duration": 140,
    "start_time": "2022-05-13T23:28:22.850Z"
   },
   {
    "duration": 80,
    "start_time": "2022-05-13T23:28:22.993Z"
   },
   {
    "duration": 14,
    "start_time": "2022-05-13T23:28:23.075Z"
   },
   {
    "duration": 119,
    "start_time": "2022-05-13T23:28:23.092Z"
   },
   {
    "duration": 76,
    "start_time": "2022-05-13T23:28:23.226Z"
   },
   {
    "duration": 78,
    "start_time": "2022-05-13T23:28:23.304Z"
   },
   {
    "duration": 1791,
    "start_time": "2022-05-14T15:38:19.721Z"
   },
   {
    "duration": 526,
    "start_time": "2022-05-14T15:38:21.514Z"
   },
   {
    "duration": 56,
    "start_time": "2022-05-14T15:38:22.042Z"
   },
   {
    "duration": 259,
    "start_time": "2022-05-14T15:38:22.100Z"
   },
   {
    "duration": 195,
    "start_time": "2022-05-14T15:38:22.362Z"
   },
   {
    "duration": 155,
    "start_time": "2022-05-14T15:38:22.559Z"
   },
   {
    "duration": 88,
    "start_time": "2022-05-14T15:38:22.717Z"
   },
   {
    "duration": 14,
    "start_time": "2022-05-14T15:38:22.807Z"
   },
   {
    "duration": 118,
    "start_time": "2022-05-14T15:38:22.823Z"
   },
   {
    "duration": 86,
    "start_time": "2022-05-14T15:38:22.943Z"
   },
   {
    "duration": 65,
    "start_time": "2022-05-14T15:38:23.031Z"
   },
   {
    "duration": 9,
    "start_time": "2022-05-14T15:38:23.098Z"
   },
   {
    "duration": 156,
    "start_time": "2022-05-14T15:49:42.593Z"
   },
   {
    "duration": 138,
    "start_time": "2022-05-14T15:51:01.253Z"
   },
   {
    "duration": 1489,
    "start_time": "2022-05-14T15:53:16.907Z"
   },
   {
    "duration": 540,
    "start_time": "2022-05-14T15:53:18.400Z"
   },
   {
    "duration": 56,
    "start_time": "2022-05-14T15:53:18.942Z"
   },
   {
    "duration": 264,
    "start_time": "2022-05-14T15:53:19.001Z"
   },
   {
    "duration": 217,
    "start_time": "2022-05-14T15:53:19.269Z"
   },
   {
    "duration": 148,
    "start_time": "2022-05-14T15:53:19.492Z"
   },
   {
    "duration": 89,
    "start_time": "2022-05-14T15:53:19.643Z"
   },
   {
    "duration": 15,
    "start_time": "2022-05-14T15:53:19.735Z"
   },
   {
    "duration": 121,
    "start_time": "2022-05-14T15:53:19.753Z"
   },
   {
    "duration": 86,
    "start_time": "2022-05-14T15:53:19.877Z"
   },
   {
    "duration": 81,
    "start_time": "2022-05-14T15:53:19.965Z"
   },
   {
    "duration": 186,
    "start_time": "2022-05-14T15:53:20.048Z"
   },
   {
    "duration": 989,
    "start_time": "2022-05-14T15:54:31.365Z"
   },
   {
    "duration": 788,
    "start_time": "2022-05-14T15:54:55.203Z"
   },
   {
    "duration": 920,
    "start_time": "2022-05-14T15:55:48.914Z"
   },
   {
    "duration": 1498,
    "start_time": "2022-05-14T15:56:25.907Z"
   },
   {
    "duration": 530,
    "start_time": "2022-05-14T15:56:27.408Z"
   },
   {
    "duration": 48,
    "start_time": "2022-05-14T15:56:27.940Z"
   },
   {
    "duration": 241,
    "start_time": "2022-05-14T15:56:28.001Z"
   },
   {
    "duration": 213,
    "start_time": "2022-05-14T15:56:28.245Z"
   },
   {
    "duration": 141,
    "start_time": "2022-05-14T15:56:28.461Z"
   },
   {
    "duration": 97,
    "start_time": "2022-05-14T15:56:28.604Z"
   },
   {
    "duration": 13,
    "start_time": "2022-05-14T15:56:28.704Z"
   },
   {
    "duration": 112,
    "start_time": "2022-05-14T15:56:28.719Z"
   },
   {
    "duration": 83,
    "start_time": "2022-05-14T15:56:28.833Z"
   },
   {
    "duration": 51,
    "start_time": "2022-05-14T15:56:28.919Z"
   },
   {
    "duration": 175,
    "start_time": "2022-05-14T15:56:28.972Z"
   },
   {
    "duration": 4,
    "start_time": "2022-05-14T15:56:57.958Z"
   },
   {
    "duration": 6,
    "start_time": "2022-05-14T15:57:10.454Z"
   },
   {
    "duration": 5,
    "start_time": "2022-05-14T15:57:46.159Z"
   },
   {
    "duration": 6,
    "start_time": "2022-05-14T15:58:18.720Z"
   },
   {
    "duration": 7,
    "start_time": "2022-05-14T15:58:30.420Z"
   },
   {
    "duration": 6,
    "start_time": "2022-05-14T15:58:37.192Z"
   },
   {
    "duration": 1614,
    "start_time": "2022-05-14T15:59:56.768Z"
   },
   {
    "duration": 533,
    "start_time": "2022-05-14T15:59:58.385Z"
   },
   {
    "duration": 52,
    "start_time": "2022-05-14T15:59:58.921Z"
   },
   {
    "duration": 266,
    "start_time": "2022-05-14T15:59:58.977Z"
   },
   {
    "duration": 216,
    "start_time": "2022-05-14T15:59:59.245Z"
   },
   {
    "duration": 131,
    "start_time": "2022-05-14T15:59:59.463Z"
   },
   {
    "duration": 58,
    "start_time": "2022-05-14T15:59:59.596Z"
   },
   {
    "duration": 43,
    "start_time": "2022-05-14T15:59:59.656Z"
   },
   {
    "duration": 106,
    "start_time": "2022-05-14T15:59:59.701Z"
   },
   {
    "duration": 64,
    "start_time": "2022-05-14T15:59:59.811Z"
   },
   {
    "duration": 51,
    "start_time": "2022-05-14T15:59:59.894Z"
   },
   {
    "duration": 217,
    "start_time": "2022-05-14T15:59:59.947Z"
   },
   {
    "duration": 0,
    "start_time": "2022-05-14T16:00:00.166Z"
   },
   {
    "duration": 141,
    "start_time": "2022-05-14T16:00:55.458Z"
   },
   {
    "duration": 6,
    "start_time": "2022-05-14T16:01:09.282Z"
   },
   {
    "duration": 5,
    "start_time": "2022-05-14T16:01:13.481Z"
   },
   {
    "duration": 7,
    "start_time": "2022-05-14T16:01:20.607Z"
   },
   {
    "duration": 6,
    "start_time": "2022-05-14T16:01:27.606Z"
   },
   {
    "duration": 112,
    "start_time": "2022-05-14T16:01:50.770Z"
   },
   {
    "duration": 3584,
    "start_time": "2022-05-14T16:02:35.170Z"
   },
   {
    "duration": 8,
    "start_time": "2022-05-14T16:02:43.069Z"
   },
   {
    "duration": 20,
    "start_time": "2022-05-14T16:02:52.516Z"
   },
   {
    "duration": 6,
    "start_time": "2022-05-14T16:03:29.360Z"
   },
   {
    "duration": 5,
    "start_time": "2022-05-14T16:03:37.647Z"
   },
   {
    "duration": 4,
    "start_time": "2022-05-14T16:25:19.839Z"
   },
   {
    "duration": 6,
    "start_time": "2022-05-14T16:28:50.776Z"
   },
   {
    "duration": 5,
    "start_time": "2022-05-14T16:29:02.753Z"
   },
   {
    "duration": 243,
    "start_time": "2022-05-14T16:43:21.853Z"
   },
   {
    "duration": 11,
    "start_time": "2022-05-14T16:43:39.293Z"
   },
   {
    "duration": 8,
    "start_time": "2022-05-14T16:44:05.279Z"
   },
   {
    "duration": 3509,
    "start_time": "2022-05-14T16:44:18.943Z"
   },
   {
    "duration": 3508,
    "start_time": "2022-05-14T16:45:13.802Z"
   },
   {
    "duration": 13,
    "start_time": "2022-05-14T16:46:24.593Z"
   },
   {
    "duration": 5,
    "start_time": "2022-05-14T16:48:50.812Z"
   },
   {
    "duration": 54,
    "start_time": "2022-05-14T16:49:00.928Z"
   },
   {
    "duration": 10,
    "start_time": "2022-05-14T16:49:10.688Z"
   },
   {
    "duration": 5,
    "start_time": "2022-05-14T16:52:17.559Z"
   },
   {
    "duration": 6,
    "start_time": "2022-05-14T16:52:30.474Z"
   },
   {
    "duration": 6,
    "start_time": "2022-05-14T16:52:43.746Z"
   },
   {
    "duration": 56,
    "start_time": "2022-05-14T16:53:40.918Z"
   },
   {
    "duration": 10,
    "start_time": "2022-05-14T16:58:09.331Z"
   },
   {
    "duration": 9,
    "start_time": "2022-05-14T16:58:21.055Z"
   },
   {
    "duration": 11,
    "start_time": "2022-05-14T16:58:28.429Z"
   },
   {
    "duration": 143,
    "start_time": "2022-05-14T16:58:47.959Z"
   },
   {
    "duration": 11,
    "start_time": "2022-05-14T16:58:56.588Z"
   },
   {
    "duration": 11,
    "start_time": "2022-05-14T16:59:04.659Z"
   },
   {
    "duration": 224,
    "start_time": "2022-05-14T17:02:41.295Z"
   },
   {
    "duration": 216,
    "start_time": "2022-05-14T17:02:52.155Z"
   },
   {
    "duration": 7,
    "start_time": "2022-05-14T17:03:09.905Z"
   },
   {
    "duration": 126,
    "start_time": "2022-05-14T17:03:43.614Z"
   },
   {
    "duration": 212,
    "start_time": "2022-05-14T17:04:35.507Z"
   },
   {
    "duration": 91,
    "start_time": "2022-05-14T17:04:47.431Z"
   },
   {
    "duration": 83,
    "start_time": "2022-05-14T17:05:03.483Z"
   },
   {
    "duration": 134,
    "start_time": "2022-05-14T17:09:16.239Z"
   },
   {
    "duration": 68,
    "start_time": "2022-05-14T17:15:15.572Z"
   },
   {
    "duration": 1531,
    "start_time": "2022-05-14T17:16:49.791Z"
   },
   {
    "duration": 521,
    "start_time": "2022-05-14T17:16:51.325Z"
   },
   {
    "duration": 57,
    "start_time": "2022-05-14T17:16:51.852Z"
   },
   {
    "duration": 272,
    "start_time": "2022-05-14T17:16:51.911Z"
   },
   {
    "duration": 213,
    "start_time": "2022-05-14T17:16:52.193Z"
   },
   {
    "duration": 154,
    "start_time": "2022-05-14T17:16:52.409Z"
   },
   {
    "duration": 68,
    "start_time": "2022-05-14T17:16:52.565Z"
   },
   {
    "duration": 3,
    "start_time": "2022-05-14T17:16:52.636Z"
   },
   {
    "duration": 9,
    "start_time": "2022-05-14T17:16:52.642Z"
   },
   {
    "duration": 19,
    "start_time": "2022-05-14T17:16:52.653Z"
   },
   {
    "duration": 19,
    "start_time": "2022-05-14T17:16:52.674Z"
   },
   {
    "duration": 222,
    "start_time": "2022-05-14T17:16:52.695Z"
   },
   {
    "duration": 5,
    "start_time": "2022-05-14T17:16:52.920Z"
   },
   {
    "duration": 17,
    "start_time": "2022-05-14T17:16:52.927Z"
   },
   {
    "duration": 4,
    "start_time": "2022-05-14T17:16:52.946Z"
   },
   {
    "duration": 60,
    "start_time": "2022-05-14T17:19:40.726Z"
   },
   {
    "duration": 43,
    "start_time": "2022-05-14T17:32:18.006Z"
   },
   {
    "duration": 5,
    "start_time": "2022-05-14T17:33:23.243Z"
   },
   {
    "duration": 45,
    "start_time": "2022-05-14T17:33:39.872Z"
   },
   {
    "duration": 127,
    "start_time": "2022-05-14T17:33:55.565Z"
   },
   {
    "duration": 119,
    "start_time": "2022-05-14T17:34:16.446Z"
   },
   {
    "duration": 75,
    "start_time": "2022-05-14T17:34:30.645Z"
   },
   {
    "duration": 57,
    "start_time": "2022-05-14T17:34:41.818Z"
   },
   {
    "duration": 1528,
    "start_time": "2022-05-14T17:35:54.460Z"
   },
   {
    "duration": 550,
    "start_time": "2022-05-14T17:35:55.991Z"
   },
   {
    "duration": 5,
    "start_time": "2022-05-14T17:35:56.543Z"
   },
   {
    "duration": 62,
    "start_time": "2022-05-14T17:35:56.551Z"
   },
   {
    "duration": 265,
    "start_time": "2022-05-14T17:35:56.615Z"
   },
   {
    "duration": 211,
    "start_time": "2022-05-14T17:35:56.882Z"
   },
   {
    "duration": 132,
    "start_time": "2022-05-14T17:35:57.095Z"
   },
   {
    "duration": 84,
    "start_time": "2022-05-14T17:35:57.229Z"
   },
   {
    "duration": 197,
    "start_time": "2022-05-14T17:35:57.316Z"
   },
   {
    "duration": 6,
    "start_time": "2022-05-14T17:35:57.516Z"
   },
   {
    "duration": 11,
    "start_time": "2022-05-14T17:35:57.523Z"
   },
   {
    "duration": 60,
    "start_time": "2022-05-14T17:37:07.370Z"
   },
   {
    "duration": 1457,
    "start_time": "2022-05-14T17:37:19.036Z"
   },
   {
    "duration": 488,
    "start_time": "2022-05-14T17:37:20.496Z"
   },
   {
    "duration": 5,
    "start_time": "2022-05-14T17:37:20.986Z"
   },
   {
    "duration": 49,
    "start_time": "2022-05-14T17:37:20.993Z"
   },
   {
    "duration": 259,
    "start_time": "2022-05-14T17:37:21.045Z"
   },
   {
    "duration": 220,
    "start_time": "2022-05-14T17:37:21.306Z"
   },
   {
    "duration": 146,
    "start_time": "2022-05-14T17:37:21.529Z"
   },
   {
    "duration": 79,
    "start_time": "2022-05-14T17:37:21.677Z"
   },
   {
    "duration": 237,
    "start_time": "2022-05-14T17:37:21.759Z"
   },
   {
    "duration": 6,
    "start_time": "2022-05-14T17:37:21.999Z"
   },
   {
    "duration": 10,
    "start_time": "2022-05-14T17:37:22.007Z"
   },
   {
    "duration": 19,
    "start_time": "2022-05-14T18:04:01.169Z"
   },
   {
    "duration": 11,
    "start_time": "2022-05-14T18:04:09.067Z"
   },
   {
    "duration": 140,
    "start_time": "2022-05-14T18:08:04.052Z"
   },
   {
    "duration": 34,
    "start_time": "2022-05-14T18:08:10.110Z"
   },
   {
    "duration": 25,
    "start_time": "2022-05-14T18:08:36.952Z"
   },
   {
    "duration": 19,
    "start_time": "2022-05-14T18:08:41.736Z"
   },
   {
    "duration": 26,
    "start_time": "2022-05-14T18:09:01.620Z"
   },
   {
    "duration": 56,
    "start_time": "2022-05-14T18:10:35.967Z"
   },
   {
    "duration": 55,
    "start_time": "2022-05-14T18:11:01.333Z"
   },
   {
    "duration": 69,
    "start_time": "2022-05-14T18:12:58.994Z"
   },
   {
    "duration": 104,
    "start_time": "2022-05-14T18:16:36.508Z"
   },
   {
    "duration": 107,
    "start_time": "2022-05-14T18:16:56.847Z"
   },
   {
    "duration": 107,
    "start_time": "2022-05-14T18:17:22.897Z"
   },
   {
    "duration": 3606,
    "start_time": "2022-05-14T18:19:38.285Z"
   },
   {
    "duration": 112,
    "start_time": "2022-05-14T18:19:52.681Z"
   },
   {
    "duration": 97,
    "start_time": "2022-05-14T18:25:55.052Z"
   },
   {
    "duration": 99,
    "start_time": "2022-05-14T18:27:00.969Z"
   },
   {
    "duration": 110,
    "start_time": "2022-05-14T18:27:09.685Z"
   },
   {
    "duration": 95,
    "start_time": "2022-05-14T18:27:32.410Z"
   },
   {
    "duration": 17,
    "start_time": "2022-05-14T18:41:37.376Z"
   },
   {
    "duration": 11,
    "start_time": "2022-05-14T18:45:37.158Z"
   },
   {
    "duration": 15,
    "start_time": "2022-05-14T18:51:15.093Z"
   },
   {
    "duration": 77,
    "start_time": "2022-05-14T18:52:46.553Z"
   },
   {
    "duration": 16,
    "start_time": "2022-05-14T18:53:07.868Z"
   },
   {
    "duration": 13,
    "start_time": "2022-05-14T19:01:38.838Z"
   },
   {
    "duration": 14,
    "start_time": "2022-05-14T19:02:39.825Z"
   },
   {
    "duration": 45,
    "start_time": "2022-05-14T19:11:12.734Z"
   },
   {
    "duration": 14,
    "start_time": "2022-05-14T19:12:36.422Z"
   },
   {
    "duration": 41,
    "start_time": "2022-05-14T19:12:49.673Z"
   },
   {
    "duration": 4442,
    "start_time": "2022-05-14T19:13:42.912Z"
   },
   {
    "duration": 4437,
    "start_time": "2022-05-14T19:14:06.403Z"
   },
   {
    "duration": 154,
    "start_time": "2022-05-14T19:15:53.459Z"
   },
   {
    "duration": 171,
    "start_time": "2022-05-14T19:16:45.007Z"
   },
   {
    "duration": 190,
    "start_time": "2022-05-14T19:16:52.209Z"
   },
   {
    "duration": 165,
    "start_time": "2022-05-14T19:17:04.021Z"
   },
   {
    "duration": 157,
    "start_time": "2022-05-14T19:21:49.912Z"
   },
   {
    "duration": 211,
    "start_time": "2022-05-14T20:04:47.210Z"
   },
   {
    "duration": 223,
    "start_time": "2022-05-14T20:05:06.243Z"
   },
   {
    "duration": 164,
    "start_time": "2022-05-14T20:05:12.432Z"
   },
   {
    "duration": 177,
    "start_time": "2022-05-14T20:05:29.542Z"
   },
   {
    "duration": 162,
    "start_time": "2022-05-14T20:05:44.214Z"
   },
   {
    "duration": 248,
    "start_time": "2022-05-14T20:15:05.809Z"
   },
   {
    "duration": 212,
    "start_time": "2022-05-14T20:16:12.271Z"
   },
   {
    "duration": 7,
    "start_time": "2022-05-14T20:16:22.139Z"
   },
   {
    "duration": 21,
    "start_time": "2022-05-14T20:16:34.337Z"
   },
   {
    "duration": 948,
    "start_time": "2022-05-14T20:18:41.171Z"
   },
   {
    "duration": 94,
    "start_time": "2022-05-14T20:18:47.556Z"
   },
   {
    "duration": 965,
    "start_time": "2022-05-14T20:19:39.560Z"
   },
   {
    "duration": 1617,
    "start_time": "2022-05-14T20:19:53.762Z"
   },
   {
    "duration": 589,
    "start_time": "2022-05-14T20:19:55.382Z"
   },
   {
    "duration": 4,
    "start_time": "2022-05-14T20:19:55.974Z"
   },
   {
    "duration": 61,
    "start_time": "2022-05-14T20:19:55.981Z"
   },
   {
    "duration": 289,
    "start_time": "2022-05-14T20:19:56.044Z"
   },
   {
    "duration": 232,
    "start_time": "2022-05-14T20:19:56.335Z"
   },
   {
    "duration": 153,
    "start_time": "2022-05-14T20:19:56.569Z"
   },
   {
    "duration": 97,
    "start_time": "2022-05-14T20:19:56.725Z"
   },
   {
    "duration": 213,
    "start_time": "2022-05-14T20:19:56.824Z"
   },
   {
    "duration": 6,
    "start_time": "2022-05-14T20:19:57.041Z"
   },
   {
    "duration": 9,
    "start_time": "2022-05-14T20:19:57.048Z"
   },
   {
    "duration": 1210,
    "start_time": "2022-05-14T20:19:57.059Z"
   },
   {
    "duration": 0,
    "start_time": "2022-05-14T20:19:58.271Z"
   },
   {
    "duration": 0,
    "start_time": "2022-05-14T20:19:58.273Z"
   },
   {
    "duration": 193,
    "start_time": "2022-05-14T20:20:30.985Z"
   },
   {
    "duration": 259,
    "start_time": "2022-05-14T20:22:16.380Z"
   },
   {
    "duration": 190,
    "start_time": "2022-05-14T20:22:22.004Z"
   },
   {
    "duration": 25,
    "start_time": "2022-05-14T20:22:50.805Z"
   },
   {
    "duration": 20,
    "start_time": "2022-05-14T20:23:18.318Z"
   },
   {
    "duration": 8,
    "start_time": "2022-05-14T20:23:25.009Z"
   },
   {
    "duration": 3507,
    "start_time": "2022-05-14T20:23:48.449Z"
   },
   {
    "duration": 1862,
    "start_time": "2022-05-14T20:23:59.962Z"
   },
   {
    "duration": 557,
    "start_time": "2022-05-14T20:24:01.827Z"
   },
   {
    "duration": 5,
    "start_time": "2022-05-14T20:24:02.386Z"
   },
   {
    "duration": 64,
    "start_time": "2022-05-14T20:24:02.394Z"
   },
   {
    "duration": 267,
    "start_time": "2022-05-14T20:24:02.460Z"
   },
   {
    "duration": 205,
    "start_time": "2022-05-14T20:24:02.729Z"
   },
   {
    "duration": 136,
    "start_time": "2022-05-14T20:24:02.937Z"
   },
   {
    "duration": 74,
    "start_time": "2022-05-14T20:24:03.076Z"
   },
   {
    "duration": 221,
    "start_time": "2022-05-14T20:24:03.153Z"
   },
   {
    "duration": 6,
    "start_time": "2022-05-14T20:24:03.395Z"
   },
   {
    "duration": 23,
    "start_time": "2022-05-14T20:24:03.403Z"
   },
   {
    "duration": 221,
    "start_time": "2022-05-14T20:24:03.428Z"
   },
   {
    "duration": 3732,
    "start_time": "2022-05-14T20:24:03.651Z"
   },
   {
    "duration": 0,
    "start_time": "2022-05-14T20:24:07.386Z"
   },
   {
    "duration": 3486,
    "start_time": "2022-05-14T20:24:54.991Z"
   },
   {
    "duration": 3538,
    "start_time": "2022-05-14T20:25:22.997Z"
   },
   {
    "duration": 1550,
    "start_time": "2022-05-14T20:25:32.577Z"
   },
   {
    "duration": 549,
    "start_time": "2022-05-14T20:25:34.131Z"
   },
   {
    "duration": 5,
    "start_time": "2022-05-14T20:25:34.682Z"
   },
   {
    "duration": 57,
    "start_time": "2022-05-14T20:25:34.689Z"
   },
   {
    "duration": 277,
    "start_time": "2022-05-14T20:25:34.749Z"
   },
   {
    "duration": 231,
    "start_time": "2022-05-14T20:25:35.029Z"
   },
   {
    "duration": 133,
    "start_time": "2022-05-14T20:25:35.262Z"
   },
   {
    "duration": 63,
    "start_time": "2022-05-14T20:25:35.399Z"
   },
   {
    "duration": 253,
    "start_time": "2022-05-14T20:25:35.465Z"
   },
   {
    "duration": 7,
    "start_time": "2022-05-14T20:25:35.721Z"
   },
   {
    "duration": 11,
    "start_time": "2022-05-14T20:25:35.731Z"
   },
   {
    "duration": 312,
    "start_time": "2022-05-14T20:25:35.744Z"
   },
   {
    "duration": 47,
    "start_time": "2022-05-14T20:25:36.058Z"
   },
   {
    "duration": 20,
    "start_time": "2022-05-14T20:25:36.109Z"
   },
   {
    "duration": 188,
    "start_time": "2022-05-14T20:26:54.525Z"
   },
   {
    "duration": 22,
    "start_time": "2022-05-14T20:27:07.240Z"
   },
   {
    "duration": 6,
    "start_time": "2022-05-14T20:27:16.359Z"
   },
   {
    "duration": 12,
    "start_time": "2022-05-14T21:34:17.508Z"
   },
   {
    "duration": 26,
    "start_time": "2022-05-14T21:48:40.670Z"
   },
   {
    "duration": 49,
    "start_time": "2022-05-14T21:48:46.805Z"
   },
   {
    "duration": 26,
    "start_time": "2022-05-14T21:51:54.251Z"
   },
   {
    "duration": 27,
    "start_time": "2022-05-14T21:51:56.914Z"
   },
   {
    "duration": 174,
    "start_time": "2022-05-14T22:00:29.861Z"
   },
   {
    "duration": 36,
    "start_time": "2022-05-14T22:01:36.459Z"
   },
   {
    "duration": 45,
    "start_time": "2022-05-14T22:02:28.719Z"
   },
   {
    "duration": 26,
    "start_time": "2022-05-14T22:02:56.888Z"
   },
   {
    "duration": 34,
    "start_time": "2022-05-14T22:03:15.041Z"
   },
   {
    "duration": 33,
    "start_time": "2022-05-14T22:03:31.362Z"
   },
   {
    "duration": 30,
    "start_time": "2022-05-14T22:06:33.130Z"
   },
   {
    "duration": 32,
    "start_time": "2022-05-14T22:09:37.910Z"
   },
   {
    "duration": 120,
    "start_time": "2022-05-14T22:09:44.646Z"
   },
   {
    "duration": 73,
    "start_time": "2022-05-14T22:10:43.477Z"
   },
   {
    "duration": 55,
    "start_time": "2022-05-17T20:57:21.438Z"
   },
   {
    "duration": 1294,
    "start_time": "2022-05-17T20:57:27.574Z"
   },
   {
    "duration": 702,
    "start_time": "2022-05-17T20:57:28.870Z"
   },
   {
    "duration": 4,
    "start_time": "2022-05-17T20:57:29.573Z"
   },
   {
    "duration": 37,
    "start_time": "2022-05-17T20:57:29.579Z"
   },
   {
    "duration": 175,
    "start_time": "2022-05-17T20:57:29.618Z"
   },
   {
    "duration": 141,
    "start_time": "2022-05-17T20:57:29.794Z"
   },
   {
    "duration": 91,
    "start_time": "2022-05-17T20:57:29.937Z"
   },
   {
    "duration": 37,
    "start_time": "2022-05-17T20:57:30.029Z"
   },
   {
    "duration": 145,
    "start_time": "2022-05-17T20:57:30.068Z"
   },
   {
    "duration": 13,
    "start_time": "2022-05-17T20:57:30.217Z"
   },
   {
    "duration": 4,
    "start_time": "2022-05-17T20:57:30.231Z"
   },
   {
    "duration": 10,
    "start_time": "2022-05-17T20:57:30.237Z"
   },
   {
    "duration": 154,
    "start_time": "2022-05-17T20:57:30.249Z"
   },
   {
    "duration": 4,
    "start_time": "2022-05-17T20:57:30.404Z"
   },
   {
    "duration": 49,
    "start_time": "2022-05-17T20:57:30.410Z"
   },
   {
    "duration": 5,
    "start_time": "2022-05-17T20:57:30.461Z"
   },
   {
    "duration": 135,
    "start_time": "2022-05-17T20:57:30.468Z"
   },
   {
    "duration": 35,
    "start_time": "2022-05-17T20:57:30.605Z"
   },
   {
    "duration": 21,
    "start_time": "2022-05-17T20:57:30.641Z"
   },
   {
    "duration": 296,
    "start_time": "2022-05-17T20:57:30.663Z"
   },
   {
    "duration": 17,
    "start_time": "2022-05-17T20:57:30.961Z"
   },
   {
    "duration": 166,
    "start_time": "2022-05-17T20:57:30.980Z"
   },
   {
    "duration": 14,
    "start_time": "2022-05-17T20:57:31.148Z"
   },
   {
    "duration": 206,
    "start_time": "2022-05-17T20:57:31.163Z"
   },
   {
    "duration": 149,
    "start_time": "2022-05-17T21:01:30.633Z"
   },
   {
    "duration": 145,
    "start_time": "2022-05-17T21:01:38.181Z"
   },
   {
    "duration": 149,
    "start_time": "2022-05-17T21:02:28.619Z"
   },
   {
    "duration": 173,
    "start_time": "2022-05-17T21:02:38.899Z"
   },
   {
    "duration": 164,
    "start_time": "2022-05-17T21:02:44.677Z"
   },
   {
    "duration": 133,
    "start_time": "2022-05-17T21:15:18.904Z"
   },
   {
    "duration": 15,
    "start_time": "2022-05-17T21:15:43.763Z"
   },
   {
    "duration": 39,
    "start_time": "2022-05-17T21:16:58.340Z"
   },
   {
    "duration": 30,
    "start_time": "2022-05-17T21:18:27.618Z"
   },
   {
    "duration": 9,
    "start_time": "2022-05-17T21:18:36.603Z"
   },
   {
    "duration": 160,
    "start_time": "2022-05-17T21:18:55.019Z"
   },
   {
    "duration": 134,
    "start_time": "2022-05-17T21:19:26.776Z"
   },
   {
    "duration": 4,
    "start_time": "2022-05-17T21:23:47.493Z"
   },
   {
    "duration": 181,
    "start_time": "2022-05-17T21:24:24.027Z"
   },
   {
    "duration": 253,
    "start_time": "2022-05-17T21:24:32.196Z"
   },
   {
    "duration": 3,
    "start_time": "2022-05-17T21:24:43.957Z"
   },
   {
    "duration": 156,
    "start_time": "2022-05-17T21:24:48.055Z"
   },
   {
    "duration": 158,
    "start_time": "2022-05-17T21:24:58.000Z"
   },
   {
    "duration": 4,
    "start_time": "2022-05-17T21:28:06.864Z"
   },
   {
    "duration": 159,
    "start_time": "2022-05-17T21:28:10.117Z"
   },
   {
    "duration": 178,
    "start_time": "2022-05-17T21:29:31.845Z"
   },
   {
    "duration": 175,
    "start_time": "2022-05-17T21:29:44.769Z"
   },
   {
    "duration": 128,
    "start_time": "2022-05-17T21:29:50.684Z"
   },
   {
    "duration": 4,
    "start_time": "2022-05-17T21:35:30.359Z"
   },
   {
    "duration": 138,
    "start_time": "2022-05-17T21:35:34.683Z"
   },
   {
    "duration": 119,
    "start_time": "2022-05-17T21:35:44.451Z"
   },
   {
    "duration": 30,
    "start_time": "2022-05-17T21:38:36.139Z"
   },
   {
    "duration": 4,
    "start_time": "2022-05-17T21:38:41.712Z"
   },
   {
    "duration": 149,
    "start_time": "2022-05-17T21:38:44.650Z"
   },
   {
    "duration": 36,
    "start_time": "2022-05-17T21:38:56.855Z"
   },
   {
    "duration": 5,
    "start_time": "2022-05-17T21:39:06.372Z"
   },
   {
    "duration": 157,
    "start_time": "2022-05-17T21:39:09.143Z"
   },
   {
    "duration": 4,
    "start_time": "2022-05-17T21:39:43.712Z"
   },
   {
    "duration": 278,
    "start_time": "2022-05-17T21:39:46.291Z"
   },
   {
    "duration": 4,
    "start_time": "2022-05-17T21:41:24.447Z"
   },
   {
    "duration": 4,
    "start_time": "2022-05-17T21:42:09.141Z"
   },
   {
    "duration": 126,
    "start_time": "2022-05-17T21:42:18.002Z"
   },
   {
    "duration": 139,
    "start_time": "2022-05-17T21:42:41.529Z"
   },
   {
    "duration": 8,
    "start_time": "2022-05-17T21:43:15.258Z"
   },
   {
    "duration": 3,
    "start_time": "2022-05-17T21:43:26.132Z"
   },
   {
    "duration": 137,
    "start_time": "2022-05-17T21:43:34.009Z"
   },
   {
    "duration": 117,
    "start_time": "2022-05-17T21:43:48.992Z"
   },
   {
    "duration": 153,
    "start_time": "2022-05-17T21:44:13.629Z"
   },
   {
    "duration": 150,
    "start_time": "2022-05-17T21:44:30.775Z"
   },
   {
    "duration": 4,
    "start_time": "2022-05-17T21:47:12.797Z"
   },
   {
    "duration": 16,
    "start_time": "2022-05-17T21:47:13.751Z"
   },
   {
    "duration": 148,
    "start_time": "2022-05-17T21:47:14.169Z"
   },
   {
    "duration": 130,
    "start_time": "2022-05-17T21:47:15.485Z"
   },
   {
    "duration": 16,
    "start_time": "2022-05-17T21:47:17.513Z"
   },
   {
    "duration": 138,
    "start_time": "2022-05-17T21:47:18.008Z"
   },
   {
    "duration": 126,
    "start_time": "2022-05-17T21:47:18.893Z"
   },
   {
    "duration": 15,
    "start_time": "2022-05-17T21:47:20.856Z"
   },
   {
    "duration": 159,
    "start_time": "2022-05-17T21:47:21.996Z"
   },
   {
    "duration": 257,
    "start_time": "2022-05-17T21:47:25.595Z"
   },
   {
    "duration": 135,
    "start_time": "2022-05-17T21:47:42.799Z"
   },
   {
    "duration": 140,
    "start_time": "2022-05-17T21:47:51.755Z"
   },
   {
    "duration": 4,
    "start_time": "2022-05-17T21:54:47.531Z"
   },
   {
    "duration": 15,
    "start_time": "2022-05-17T21:54:48.366Z"
   },
   {
    "duration": 131,
    "start_time": "2022-05-17T21:54:49.131Z"
   },
   {
    "duration": 4,
    "start_time": "2022-05-17T21:56:52.621Z"
   },
   {
    "duration": 16,
    "start_time": "2022-05-17T21:56:53.252Z"
   },
   {
    "duration": 145,
    "start_time": "2022-05-17T21:56:53.477Z"
   },
   {
    "duration": 130,
    "start_time": "2022-05-17T21:56:53.981Z"
   },
   {
    "duration": 16,
    "start_time": "2022-05-17T21:56:54.676Z"
   },
   {
    "duration": 126,
    "start_time": "2022-05-17T21:56:54.864Z"
   },
   {
    "duration": 119,
    "start_time": "2022-05-17T21:56:55.055Z"
   },
   {
    "duration": 15,
    "start_time": "2022-05-17T21:56:55.451Z"
   },
   {
    "duration": 148,
    "start_time": "2022-05-17T21:56:55.665Z"
   },
   {
    "duration": 197,
    "start_time": "2022-05-17T21:56:56.176Z"
   },
   {
    "duration": 12,
    "start_time": "2022-05-18T11:56:14.778Z"
   },
   {
    "duration": 1317,
    "start_time": "2022-05-18T11:56:28.081Z"
   },
   {
    "duration": 1317,
    "start_time": "2022-05-18T11:56:29.399Z"
   },
   {
    "duration": 4,
    "start_time": "2022-05-18T11:56:30.718Z"
   },
   {
    "duration": 43,
    "start_time": "2022-05-18T11:56:30.724Z"
   },
   {
    "duration": 173,
    "start_time": "2022-05-18T11:56:30.769Z"
   },
   {
    "duration": 133,
    "start_time": "2022-05-18T11:56:30.943Z"
   },
   {
    "duration": 98,
    "start_time": "2022-05-18T11:56:31.078Z"
   },
   {
    "duration": 49,
    "start_time": "2022-05-18T11:56:31.177Z"
   },
   {
    "duration": 135,
    "start_time": "2022-05-18T11:56:31.227Z"
   },
   {
    "duration": 4,
    "start_time": "2022-05-18T11:56:31.365Z"
   },
   {
    "duration": 8,
    "start_time": "2022-05-18T11:56:31.371Z"
   },
   {
    "duration": 21,
    "start_time": "2022-05-18T11:56:31.381Z"
   },
   {
    "duration": 144,
    "start_time": "2022-05-18T11:56:31.403Z"
   },
   {
    "duration": 4,
    "start_time": "2022-05-18T11:56:31.549Z"
   },
   {
    "duration": 48,
    "start_time": "2022-05-18T11:56:31.554Z"
   },
   {
    "duration": 5,
    "start_time": "2022-05-18T11:56:31.603Z"
   },
   {
    "duration": 144,
    "start_time": "2022-05-18T11:56:31.610Z"
   },
   {
    "duration": 42,
    "start_time": "2022-05-18T11:56:31.756Z"
   },
   {
    "duration": 5,
    "start_time": "2022-05-18T11:56:31.800Z"
   },
   {
    "duration": 24,
    "start_time": "2022-05-18T11:56:31.807Z"
   },
   {
    "duration": 316,
    "start_time": "2022-05-18T11:56:31.833Z"
   },
   {
    "duration": 158,
    "start_time": "2022-05-18T11:56:32.151Z"
   },
   {
    "duration": 2,
    "start_time": "2022-05-18T11:56:32.311Z"
   },
   {
    "duration": 17,
    "start_time": "2022-05-18T11:56:32.315Z"
   },
   {
    "duration": 161,
    "start_time": "2022-05-18T11:56:32.334Z"
   },
   {
    "duration": 137,
    "start_time": "2022-05-18T11:56:32.497Z"
   },
   {
    "duration": 2,
    "start_time": "2022-05-18T11:56:32.636Z"
   },
   {
    "duration": 17,
    "start_time": "2022-05-18T11:56:32.641Z"
   },
   {
    "duration": 172,
    "start_time": "2022-05-18T11:56:32.660Z"
   },
   {
    "duration": 157,
    "start_time": "2022-05-18T11:56:32.834Z"
   },
   {
    "duration": 3,
    "start_time": "2022-05-18T11:56:47.155Z"
   },
   {
    "duration": 3,
    "start_time": "2022-05-18T11:57:09.833Z"
   },
   {
    "duration": 5,
    "start_time": "2022-05-18T11:58:34.982Z"
   },
   {
    "duration": 5,
    "start_time": "2022-05-18T11:59:22.508Z"
   },
   {
    "duration": 5,
    "start_time": "2022-05-18T11:59:32.970Z"
   },
   {
    "duration": 5,
    "start_time": "2022-05-18T11:59:49.388Z"
   },
   {
    "duration": 6,
    "start_time": "2022-05-18T12:00:00.426Z"
   },
   {
    "duration": 5,
    "start_time": "2022-05-18T12:00:21.149Z"
   },
   {
    "duration": 21,
    "start_time": "2022-05-18T12:00:22.065Z"
   },
   {
    "duration": 166,
    "start_time": "2022-05-18T12:00:22.259Z"
   },
   {
    "duration": 152,
    "start_time": "2022-05-18T12:00:22.625Z"
   },
   {
    "duration": 6,
    "start_time": "2022-05-18T12:00:25.644Z"
   },
   {
    "duration": 5,
    "start_time": "2022-05-18T12:07:04.890Z"
   },
   {
    "duration": 5,
    "start_time": "2022-05-18T12:24:45.030Z"
   },
   {
    "duration": 149,
    "start_time": "2022-05-18T12:54:53.584Z"
   },
   {
    "duration": 174,
    "start_time": "2022-05-18T12:55:27.911Z"
   },
   {
    "duration": 167,
    "start_time": "2022-05-18T12:55:42.295Z"
   },
   {
    "duration": 60,
    "start_time": "2022-05-18T12:56:16.108Z"
   },
   {
    "duration": 150,
    "start_time": "2022-05-18T12:56:38.844Z"
   },
   {
    "duration": 124,
    "start_time": "2022-05-18T12:56:50.584Z"
   },
   {
    "duration": 64,
    "start_time": "2022-05-18T13:33:02.828Z"
   },
   {
    "duration": 158,
    "start_time": "2022-05-18T13:33:30.678Z"
   },
   {
    "duration": 88,
    "start_time": "2022-05-19T13:43:47.183Z"
   },
   {
    "duration": 1351,
    "start_time": "2022-05-19T13:43:54.155Z"
   },
   {
    "duration": 1480,
    "start_time": "2022-05-19T13:43:55.508Z"
   },
   {
    "duration": 5,
    "start_time": "2022-05-19T13:43:56.990Z"
   },
   {
    "duration": 54,
    "start_time": "2022-05-19T13:43:56.998Z"
   },
   {
    "duration": 303,
    "start_time": "2022-05-19T13:43:57.055Z"
   },
   {
    "duration": 150,
    "start_time": "2022-05-19T13:43:57.363Z"
   },
   {
    "duration": 111,
    "start_time": "2022-05-19T13:43:57.515Z"
   },
   {
    "duration": 45,
    "start_time": "2022-05-19T13:43:57.641Z"
   },
   {
    "duration": 182,
    "start_time": "2022-05-19T13:43:57.688Z"
   },
   {
    "duration": 5,
    "start_time": "2022-05-19T13:43:57.872Z"
   },
   {
    "duration": 9,
    "start_time": "2022-05-19T13:43:57.879Z"
   },
   {
    "duration": 8,
    "start_time": "2022-05-19T13:43:57.889Z"
   },
   {
    "duration": 172,
    "start_time": "2022-05-19T13:43:57.899Z"
   },
   {
    "duration": 5,
    "start_time": "2022-05-19T13:43:58.072Z"
   },
   {
    "duration": 35,
    "start_time": "2022-05-19T13:43:58.079Z"
   },
   {
    "duration": 30,
    "start_time": "2022-05-19T13:43:58.117Z"
   },
   {
    "duration": 138,
    "start_time": "2022-05-19T13:43:58.156Z"
   },
   {
    "duration": 31,
    "start_time": "2022-05-19T13:43:58.296Z"
   },
   {
    "duration": 11,
    "start_time": "2022-05-19T13:43:58.341Z"
   },
   {
    "duration": 42,
    "start_time": "2022-05-19T13:43:58.355Z"
   },
   {
    "duration": 286,
    "start_time": "2022-05-19T13:43:58.400Z"
   },
   {
    "duration": 185,
    "start_time": "2022-05-19T13:43:58.688Z"
   },
   {
    "duration": 6,
    "start_time": "2022-05-19T13:43:58.875Z"
   },
   {
    "duration": 17,
    "start_time": "2022-05-19T13:43:58.883Z"
   },
   {
    "duration": 191,
    "start_time": "2022-05-19T13:43:58.902Z"
   },
   {
    "duration": 174,
    "start_time": "2022-05-19T13:43:59.095Z"
   },
   {
    "duration": 5,
    "start_time": "2022-05-19T13:43:59.271Z"
   },
   {
    "duration": 19,
    "start_time": "2022-05-19T13:43:59.279Z"
   },
   {
    "duration": 235,
    "start_time": "2022-05-19T13:43:59.300Z"
   },
   {
    "duration": 175,
    "start_time": "2022-05-19T13:43:59.536Z"
   },
   {
    "duration": 6,
    "start_time": "2022-05-19T13:43:59.712Z"
   },
   {
    "duration": 151,
    "start_time": "2022-05-19T13:43:59.720Z"
   },
   {
    "duration": 147,
    "start_time": "2022-05-19T13:43:59.873Z"
   },
   {
    "duration": 7,
    "start_time": "2022-05-19T13:45:02.729Z"
   },
   {
    "duration": 11,
    "start_time": "2022-05-19T13:45:57.864Z"
   },
   {
    "duration": 10,
    "start_time": "2022-05-19T13:46:18.979Z"
   },
   {
    "duration": 14,
    "start_time": "2022-05-19T13:46:31.233Z"
   },
   {
    "duration": 10,
    "start_time": "2022-05-19T13:46:48.293Z"
   },
   {
    "duration": 15,
    "start_time": "2022-05-19T13:47:18.080Z"
   },
   {
    "duration": 167,
    "start_time": "2022-05-19T13:51:03.683Z"
   },
   {
    "duration": 213,
    "start_time": "2022-05-19T13:51:29.843Z"
   },
   {
    "duration": 176,
    "start_time": "2022-05-19T13:52:04.932Z"
   },
   {
    "duration": 135,
    "start_time": "2022-05-19T13:53:18.683Z"
   },
   {
    "duration": 237,
    "start_time": "2022-05-19T13:53:29.869Z"
   },
   {
    "duration": 167,
    "start_time": "2022-05-19T13:53:55.590Z"
   },
   {
    "duration": 180,
    "start_time": "2022-05-19T13:54:24.775Z"
   },
   {
    "duration": 162,
    "start_time": "2022-05-19T13:54:49.205Z"
   },
   {
    "duration": 154,
    "start_time": "2022-05-19T13:55:19.457Z"
   },
   {
    "duration": 155,
    "start_time": "2022-05-19T13:59:57.281Z"
   },
   {
    "duration": 164,
    "start_time": "2022-05-19T14:00:51.343Z"
   },
   {
    "duration": 67,
    "start_time": "2022-05-19T14:02:26.837Z"
   },
   {
    "duration": 60,
    "start_time": "2022-05-19T14:02:36.844Z"
   },
   {
    "duration": 43,
    "start_time": "2022-05-19T14:02:41.757Z"
   },
   {
    "duration": 37,
    "start_time": "2022-05-19T14:02:48.993Z"
   },
   {
    "duration": 37,
    "start_time": "2022-05-19T14:03:54.718Z"
   },
   {
    "duration": 167,
    "start_time": "2022-05-19T14:04:23.628Z"
   },
   {
    "duration": 160,
    "start_time": "2022-05-19T14:04:35.751Z"
   },
   {
    "duration": 16,
    "start_time": "2022-05-19T14:12:39.612Z"
   },
   {
    "duration": 4,
    "start_time": "2022-05-19T14:19:21.494Z"
   },
   {
    "duration": 20,
    "start_time": "2022-05-19T14:19:57.936Z"
   },
   {
    "duration": 17,
    "start_time": "2022-05-19T14:21:58.916Z"
   },
   {
    "duration": 155,
    "start_time": "2022-05-19T14:23:11.069Z"
   },
   {
    "duration": 176,
    "start_time": "2022-05-19T14:23:41.243Z"
   },
   {
    "duration": 178,
    "start_time": "2022-05-19T14:24:01.745Z"
   },
   {
    "duration": 172,
    "start_time": "2022-05-19T14:24:22.013Z"
   },
   {
    "duration": 254,
    "start_time": "2022-05-19T14:25:21.102Z"
   },
   {
    "duration": 160,
    "start_time": "2022-05-19T14:25:27.755Z"
   },
   {
    "duration": 159,
    "start_time": "2022-05-19T14:25:39.220Z"
   },
   {
    "duration": 4,
    "start_time": "2022-05-19T14:25:56.675Z"
   },
   {
    "duration": 169,
    "start_time": "2022-05-19T14:25:59.632Z"
   },
   {
    "duration": 162,
    "start_time": "2022-05-19T14:26:05.943Z"
   },
   {
    "duration": 4,
    "start_time": "2022-05-19T14:27:51.217Z"
   },
   {
    "duration": 18,
    "start_time": "2022-05-19T14:27:53.817Z"
   },
   {
    "duration": 155,
    "start_time": "2022-05-19T14:27:54.410Z"
   },
   {
    "duration": 147,
    "start_time": "2022-05-19T14:27:55.830Z"
   },
   {
    "duration": 4,
    "start_time": "2022-05-19T14:27:58.493Z"
   },
   {
    "duration": 16,
    "start_time": "2022-05-19T14:27:59.695Z"
   },
   {
    "duration": 146,
    "start_time": "2022-05-19T14:27:59.953Z"
   },
   {
    "duration": 138,
    "start_time": "2022-05-19T14:28:02.638Z"
   },
   {
    "duration": 4,
    "start_time": "2022-05-19T14:37:04.286Z"
   },
   {
    "duration": 3,
    "start_time": "2022-05-19T14:37:07.969Z"
   },
   {
    "duration": 3,
    "start_time": "2022-05-19T14:37:21.881Z"
   },
   {
    "duration": 4,
    "start_time": "2022-05-19T14:37:51.993Z"
   },
   {
    "duration": 171,
    "start_time": "2022-05-19T14:37:54.489Z"
   },
   {
    "duration": 177,
    "start_time": "2022-05-19T14:38:25.953Z"
   },
   {
    "duration": 4,
    "start_time": "2022-05-19T14:39:11.208Z"
   },
   {
    "duration": 126,
    "start_time": "2022-05-19T14:39:13.062Z"
   },
   {
    "duration": 176,
    "start_time": "2022-05-19T14:39:14.211Z"
   },
   {
    "duration": 183,
    "start_time": "2022-05-19T14:39:15.980Z"
   },
   {
    "duration": 19,
    "start_time": "2022-05-19T14:39:18.640Z"
   },
   {
    "duration": 164,
    "start_time": "2022-05-19T14:39:19.311Z"
   },
   {
    "duration": 262,
    "start_time": "2022-05-19T14:40:02.404Z"
   },
   {
    "duration": 136,
    "start_time": "2022-05-19T14:40:13.154Z"
   },
   {
    "duration": 149,
    "start_time": "2022-05-19T14:40:41.656Z"
   },
   {
    "duration": 4,
    "start_time": "2022-05-19T14:41:14.233Z"
   },
   {
    "duration": 16,
    "start_time": "2022-05-19T14:41:15.356Z"
   },
   {
    "duration": 170,
    "start_time": "2022-05-19T14:41:16.070Z"
   },
   {
    "duration": 160,
    "start_time": "2022-05-19T14:41:20.853Z"
   },
   {
    "duration": 142,
    "start_time": "2022-05-19T14:41:22.773Z"
   },
   {
    "duration": 4,
    "start_time": "2022-05-19T14:41:50.185Z"
   },
   {
    "duration": 139,
    "start_time": "2022-05-19T14:41:53.681Z"
   },
   {
    "duration": 162,
    "start_time": "2022-05-19T14:41:55.939Z"
   },
   {
    "duration": 54,
    "start_time": "2022-05-20T20:11:19.294Z"
   },
   {
    "duration": 1357,
    "start_time": "2022-05-20T20:11:26.809Z"
   },
   {
    "duration": 1305,
    "start_time": "2022-05-20T20:11:28.168Z"
   },
   {
    "duration": 3,
    "start_time": "2022-05-20T20:11:29.475Z"
   },
   {
    "duration": 37,
    "start_time": "2022-05-20T20:11:29.480Z"
   },
   {
    "duration": 174,
    "start_time": "2022-05-20T20:11:29.518Z"
   },
   {
    "duration": 130,
    "start_time": "2022-05-20T20:11:29.694Z"
   },
   {
    "duration": 117,
    "start_time": "2022-05-20T20:11:29.825Z"
   },
   {
    "duration": 43,
    "start_time": "2022-05-20T20:11:29.944Z"
   },
   {
    "duration": 138,
    "start_time": "2022-05-20T20:11:29.989Z"
   },
   {
    "duration": 14,
    "start_time": "2022-05-20T20:11:30.130Z"
   },
   {
    "duration": 15,
    "start_time": "2022-05-20T20:11:30.145Z"
   },
   {
    "duration": 10,
    "start_time": "2022-05-20T20:11:30.162Z"
   },
   {
    "duration": 147,
    "start_time": "2022-05-20T20:11:30.173Z"
   },
   {
    "duration": 4,
    "start_time": "2022-05-20T20:11:30.322Z"
   },
   {
    "duration": 30,
    "start_time": "2022-05-20T20:11:30.341Z"
   },
   {
    "duration": 5,
    "start_time": "2022-05-20T20:11:30.373Z"
   },
   {
    "duration": 148,
    "start_time": "2022-05-20T20:11:30.380Z"
   },
   {
    "duration": 37,
    "start_time": "2022-05-20T20:11:30.530Z"
   },
   {
    "duration": 5,
    "start_time": "2022-05-20T20:11:30.569Z"
   },
   {
    "duration": 28,
    "start_time": "2022-05-20T20:11:30.576Z"
   },
   {
    "duration": 268,
    "start_time": "2022-05-20T20:11:30.606Z"
   },
   {
    "duration": 153,
    "start_time": "2022-05-20T20:11:30.876Z"
   },
   {
    "duration": 12,
    "start_time": "2022-05-20T20:11:31.031Z"
   },
   {
    "duration": 20,
    "start_time": "2022-05-20T20:11:31.045Z"
   },
   {
    "duration": 166,
    "start_time": "2022-05-20T20:11:31.066Z"
   },
   {
    "duration": 144,
    "start_time": "2022-05-20T20:11:31.234Z"
   },
   {
    "duration": 5,
    "start_time": "2022-05-20T20:11:31.379Z"
   },
   {
    "duration": 21,
    "start_time": "2022-05-20T20:11:31.387Z"
   },
   {
    "duration": 184,
    "start_time": "2022-05-20T20:11:31.410Z"
   },
   {
    "duration": 173,
    "start_time": "2022-05-20T20:11:31.596Z"
   },
   {
    "duration": 7,
    "start_time": "2022-05-20T20:11:31.771Z"
   },
   {
    "duration": 14,
    "start_time": "2022-05-20T20:11:31.779Z"
   },
   {
    "duration": 161,
    "start_time": "2022-05-20T20:11:31.795Z"
   },
   {
    "duration": 187,
    "start_time": "2022-05-20T20:11:31.958Z"
   },
   {
    "duration": 163,
    "start_time": "2022-05-20T20:11:32.147Z"
   },
   {
    "duration": 16,
    "start_time": "2022-05-20T20:11:32.312Z"
   },
   {
    "duration": 154,
    "start_time": "2022-05-20T20:11:32.340Z"
   },
   {
    "duration": 138,
    "start_time": "2022-05-20T20:11:32.496Z"
   },
   {
    "duration": 151,
    "start_time": "2022-05-20T20:11:32.635Z"
   },
   {
    "duration": 7,
    "start_time": "2022-05-20T20:11:32.788Z"
   },
   {
    "duration": 7,
    "start_time": "2022-05-20T20:11:32.796Z"
   },
   {
    "duration": 8,
    "start_time": "2022-05-20T20:12:24.040Z"
   },
   {
    "duration": 9,
    "start_time": "2022-05-20T20:13:07.921Z"
   },
   {
    "duration": 8,
    "start_time": "2022-05-20T20:19:00.146Z"
   },
   {
    "duration": 8,
    "start_time": "2022-05-20T20:19:15.549Z"
   },
   {
    "duration": 11,
    "start_time": "2022-05-20T20:19:26.841Z"
   },
   {
    "duration": 8,
    "start_time": "2022-05-20T20:19:31.677Z"
   },
   {
    "duration": 8,
    "start_time": "2022-05-20T20:20:16.285Z"
   },
   {
    "duration": 10,
    "start_time": "2022-05-20T20:29:16.259Z"
   },
   {
    "duration": 10,
    "start_time": "2022-05-20T20:29:28.277Z"
   },
   {
    "duration": 10,
    "start_time": "2022-05-20T20:29:46.833Z"
   },
   {
    "duration": 36,
    "start_time": "2022-05-20T20:34:55.078Z"
   },
   {
    "duration": 13,
    "start_time": "2022-05-20T20:35:30.565Z"
   },
   {
    "duration": 9,
    "start_time": "2022-05-20T20:37:42.735Z"
   },
   {
    "duration": 3,
    "start_time": "2022-05-20T22:05:14.717Z"
   },
   {
    "duration": 3,
    "start_time": "2022-05-20T22:07:14.081Z"
   },
   {
    "duration": 248,
    "start_time": "2022-05-20T22:08:01.568Z"
   },
   {
    "duration": 4,
    "start_time": "2022-05-20T22:09:15.139Z"
   },
   {
    "duration": 138,
    "start_time": "2022-05-20T22:09:15.694Z"
   },
   {
    "duration": 3,
    "start_time": "2022-05-20T22:09:36.703Z"
   },
   {
    "duration": 141,
    "start_time": "2022-05-20T22:09:38.851Z"
   },
   {
    "duration": 205,
    "start_time": "2022-05-20T22:10:15.053Z"
   },
   {
    "duration": 196,
    "start_time": "2022-05-20T22:10:24.845Z"
   },
   {
    "duration": 184,
    "start_time": "2022-05-20T22:10:53.139Z"
   },
   {
    "duration": 29,
    "start_time": "2022-05-20T22:11:52.959Z"
   },
   {
    "duration": 158,
    "start_time": "2022-05-20T22:14:26.179Z"
   },
   {
    "duration": 200,
    "start_time": "2022-05-20T22:15:30.169Z"
   },
   {
    "duration": 184,
    "start_time": "2022-05-20T22:15:45.657Z"
   },
   {
    "duration": 194,
    "start_time": "2022-05-20T22:16:43.556Z"
   },
   {
    "duration": 4,
    "start_time": "2022-05-20T22:16:53.448Z"
   },
   {
    "duration": 1103,
    "start_time": "2022-05-20T22:17:23.689Z"
   },
   {
    "duration": 421,
    "start_time": "2022-05-20T22:17:24.794Z"
   },
   {
    "duration": 4,
    "start_time": "2022-05-20T22:17:25.216Z"
   },
   {
    "duration": 38,
    "start_time": "2022-05-20T22:17:25.223Z"
   },
   {
    "duration": 382,
    "start_time": "2022-05-20T22:17:25.263Z"
   },
   {
    "duration": 220,
    "start_time": "2022-05-20T22:17:25.647Z"
   },
   {
    "duration": 192,
    "start_time": "2022-05-20T22:17:25.868Z"
   },
   {
    "duration": 41,
    "start_time": "2022-05-20T22:17:26.062Z"
   },
   {
    "duration": 167,
    "start_time": "2022-05-20T22:17:26.104Z"
   },
   {
    "duration": 5,
    "start_time": "2022-05-20T22:17:26.274Z"
   },
   {
    "duration": 9,
    "start_time": "2022-05-20T22:17:26.280Z"
   },
   {
    "duration": 4,
    "start_time": "2022-05-20T22:17:26.291Z"
   },
   {
    "duration": 180,
    "start_time": "2022-05-20T22:17:26.297Z"
   },
   {
    "duration": 5,
    "start_time": "2022-05-20T22:17:26.478Z"
   },
   {
    "duration": 31,
    "start_time": "2022-05-20T22:17:26.485Z"
   },
   {
    "duration": 24,
    "start_time": "2022-05-20T22:17:26.517Z"
   },
   {
    "duration": 136,
    "start_time": "2022-05-20T22:17:26.543Z"
   },
   {
    "duration": 28,
    "start_time": "2022-05-20T22:17:26.681Z"
   },
   {
    "duration": 4,
    "start_time": "2022-05-20T22:17:26.710Z"
   },
   {
    "duration": 338,
    "start_time": "2022-05-20T22:17:26.715Z"
   },
   {
    "duration": 208,
    "start_time": "2022-05-20T22:17:27.054Z"
   },
   {
    "duration": 4,
    "start_time": "2022-05-20T22:17:27.264Z"
   },
   {
    "duration": 19,
    "start_time": "2022-05-20T22:17:27.270Z"
   },
   {
    "duration": 190,
    "start_time": "2022-05-20T22:17:27.291Z"
   },
   {
    "duration": 160,
    "start_time": "2022-05-20T22:17:27.483Z"
   },
   {
    "duration": 5,
    "start_time": "2022-05-20T22:17:27.644Z"
   },
   {
    "duration": 18,
    "start_time": "2022-05-20T22:17:27.651Z"
   },
   {
    "duration": 166,
    "start_time": "2022-05-20T22:17:27.672Z"
   },
   {
    "duration": 142,
    "start_time": "2022-05-20T22:17:27.842Z"
   },
   {
    "duration": 6,
    "start_time": "2022-05-20T22:17:27.986Z"
   },
   {
    "duration": 17,
    "start_time": "2022-05-20T22:17:27.994Z"
   },
   {
    "duration": 201,
    "start_time": "2022-05-20T22:17:28.013Z"
   },
   {
    "duration": 160,
    "start_time": "2022-05-20T22:17:28.215Z"
   },
   {
    "duration": 4,
    "start_time": "2022-05-20T22:17:28.377Z"
   },
   {
    "duration": 9,
    "start_time": "2022-05-20T22:17:28.383Z"
   },
   {
    "duration": 128,
    "start_time": "2022-05-20T22:17:28.394Z"
   },
   {
    "duration": 171,
    "start_time": "2022-05-20T22:17:28.524Z"
   },
   {
    "duration": 176,
    "start_time": "2022-05-20T22:17:28.696Z"
   },
   {
    "duration": 16,
    "start_time": "2022-05-20T22:17:28.873Z"
   },
   {
    "duration": 172,
    "start_time": "2022-05-20T22:17:28.891Z"
   },
   {
    "duration": 246,
    "start_time": "2022-05-20T22:17:29.065Z"
   },
   {
    "duration": 160,
    "start_time": "2022-05-20T22:17:29.312Z"
   },
   {
    "duration": 7,
    "start_time": "2022-05-20T22:17:29.474Z"
   },
   {
    "duration": 8,
    "start_time": "2022-05-20T22:17:29.483Z"
   },
   {
    "duration": 1696,
    "start_time": "2022-05-21T16:39:41.805Z"
   },
   {
    "duration": 1479,
    "start_time": "2022-05-21T16:39:43.503Z"
   },
   {
    "duration": 9,
    "start_time": "2022-05-21T16:39:44.985Z"
   },
   {
    "duration": 58,
    "start_time": "2022-05-21T16:39:44.997Z"
   },
   {
    "duration": 287,
    "start_time": "2022-05-21T16:39:45.058Z"
   },
   {
    "duration": 202,
    "start_time": "2022-05-21T16:39:45.347Z"
   },
   {
    "duration": 158,
    "start_time": "2022-05-21T16:39:45.552Z"
   },
   {
    "duration": 72,
    "start_time": "2022-05-21T16:39:45.713Z"
   },
   {
    "duration": 236,
    "start_time": "2022-05-21T16:39:45.787Z"
   },
   {
    "duration": 6,
    "start_time": "2022-05-21T16:39:46.025Z"
   },
   {
    "duration": 8,
    "start_time": "2022-05-21T16:39:46.033Z"
   },
   {
    "duration": 5,
    "start_time": "2022-05-21T16:39:46.043Z"
   },
   {
    "duration": 215,
    "start_time": "2022-05-21T16:39:46.050Z"
   },
   {
    "duration": 16,
    "start_time": "2022-05-21T16:39:46.270Z"
   },
   {
    "duration": 53,
    "start_time": "2022-05-21T16:39:46.288Z"
   },
   {
    "duration": 8,
    "start_time": "2022-05-21T16:39:46.343Z"
   },
   {
    "duration": 158,
    "start_time": "2022-05-21T16:39:46.354Z"
   },
   {
    "duration": 40,
    "start_time": "2022-05-21T16:39:46.515Z"
   },
   {
    "duration": 4,
    "start_time": "2022-05-21T16:39:46.557Z"
   },
   {
    "duration": 323,
    "start_time": "2022-05-21T16:39:46.584Z"
   },
   {
    "duration": 203,
    "start_time": "2022-05-21T16:39:46.911Z"
   },
   {
    "duration": 5,
    "start_time": "2022-05-21T16:39:47.116Z"
   },
   {
    "duration": 54,
    "start_time": "2022-05-21T16:39:47.123Z"
   },
   {
    "duration": 164,
    "start_time": "2022-05-21T16:39:47.179Z"
   },
   {
    "duration": 155,
    "start_time": "2022-05-21T16:39:47.345Z"
   },
   {
    "duration": 7,
    "start_time": "2022-05-21T16:39:47.503Z"
   },
   {
    "duration": 25,
    "start_time": "2022-05-21T16:39:47.512Z"
   },
   {
    "duration": 201,
    "start_time": "2022-05-21T16:39:47.540Z"
   },
   {
    "duration": 198,
    "start_time": "2022-05-21T16:39:47.742Z"
   },
   {
    "duration": 11,
    "start_time": "2022-05-21T16:39:47.942Z"
   },
   {
    "duration": 38,
    "start_time": "2022-05-21T16:39:47.956Z"
   },
   {
    "duration": 261,
    "start_time": "2022-05-21T16:39:47.996Z"
   },
   {
    "duration": 217,
    "start_time": "2022-05-21T16:39:48.259Z"
   },
   {
    "duration": 6,
    "start_time": "2022-05-21T16:39:48.483Z"
   },
   {
    "duration": 5,
    "start_time": "2022-05-21T16:39:48.491Z"
   },
   {
    "duration": 145,
    "start_time": "2022-05-21T16:39:48.497Z"
   },
   {
    "duration": 207,
    "start_time": "2022-05-21T16:39:48.644Z"
   },
   {
    "duration": 181,
    "start_time": "2022-05-21T16:39:48.853Z"
   },
   {
    "duration": 23,
    "start_time": "2022-05-21T16:39:49.035Z"
   },
   {
    "duration": 179,
    "start_time": "2022-05-21T16:39:49.060Z"
   },
   {
    "duration": 302,
    "start_time": "2022-05-21T16:39:49.244Z"
   },
   {
    "duration": 209,
    "start_time": "2022-05-21T16:39:49.547Z"
   },
   {
    "duration": 10,
    "start_time": "2022-05-21T16:39:49.759Z"
   },
   {
    "duration": 10,
    "start_time": "2022-05-21T16:39:49.785Z"
   },
   {
    "duration": 8,
    "start_time": "2022-05-21T16:46:25.302Z"
   },
   {
    "duration": 1310,
    "start_time": "2022-05-22T17:24:32.033Z"
   },
   {
    "duration": 1302,
    "start_time": "2022-05-22T17:24:33.345Z"
   },
   {
    "duration": 3,
    "start_time": "2022-05-22T17:24:34.649Z"
   },
   {
    "duration": 33,
    "start_time": "2022-05-22T17:24:34.655Z"
   },
   {
    "duration": 164,
    "start_time": "2022-05-22T17:24:34.690Z"
   },
   {
    "duration": 147,
    "start_time": "2022-05-22T17:24:34.856Z"
   },
   {
    "duration": 102,
    "start_time": "2022-05-22T17:24:35.004Z"
   },
   {
    "duration": 39,
    "start_time": "2022-05-22T17:24:35.108Z"
   },
   {
    "duration": 135,
    "start_time": "2022-05-22T17:24:35.148Z"
   },
   {
    "duration": 16,
    "start_time": "2022-05-22T17:24:35.286Z"
   },
   {
    "duration": 4,
    "start_time": "2022-05-22T17:24:35.304Z"
   },
   {
    "duration": 4,
    "start_time": "2022-05-22T17:24:35.309Z"
   },
   {
    "duration": 145,
    "start_time": "2022-05-22T17:24:35.315Z"
   },
   {
    "duration": 4,
    "start_time": "2022-05-22T17:24:35.462Z"
   },
   {
    "duration": 47,
    "start_time": "2022-05-22T17:24:35.467Z"
   },
   {
    "duration": 4,
    "start_time": "2022-05-22T17:24:35.516Z"
   },
   {
    "duration": 6,
    "start_time": "2022-05-22T17:24:35.522Z"
   },
   {
    "duration": 136,
    "start_time": "2022-05-22T17:24:35.530Z"
   },
   {
    "duration": 42,
    "start_time": "2022-05-22T17:24:35.668Z"
   },
   {
    "duration": 3,
    "start_time": "2022-05-22T17:24:35.712Z"
   },
   {
    "duration": 269,
    "start_time": "2022-05-22T17:24:35.716Z"
   },
   {
    "duration": 183,
    "start_time": "2022-05-22T17:24:35.986Z"
   },
   {
    "duration": 4,
    "start_time": "2022-05-22T17:24:36.171Z"
   },
   {
    "duration": 30,
    "start_time": "2022-05-22T17:24:36.177Z"
   },
   {
    "duration": 156,
    "start_time": "2022-05-22T17:24:36.209Z"
   },
   {
    "duration": 141,
    "start_time": "2022-05-22T17:24:36.367Z"
   },
   {
    "duration": 4,
    "start_time": "2022-05-22T17:24:36.510Z"
   },
   {
    "duration": 15,
    "start_time": "2022-05-22T17:24:36.517Z"
   },
   {
    "duration": 187,
    "start_time": "2022-05-22T17:24:36.534Z"
   },
   {
    "duration": 160,
    "start_time": "2022-05-22T17:24:36.723Z"
   },
   {
    "duration": 5,
    "start_time": "2022-05-22T17:24:36.885Z"
   },
   {
    "duration": 13,
    "start_time": "2022-05-22T17:24:36.902Z"
   },
   {
    "duration": 167,
    "start_time": "2022-05-22T17:24:36.916Z"
   },
   {
    "duration": 152,
    "start_time": "2022-05-22T17:24:37.086Z"
   },
   {
    "duration": 5,
    "start_time": "2022-05-22T17:24:37.240Z"
   },
   {
    "duration": 5,
    "start_time": "2022-05-22T17:24:37.247Z"
   },
   {
    "duration": 128,
    "start_time": "2022-05-22T17:24:37.254Z"
   },
   {
    "duration": 149,
    "start_time": "2022-05-22T17:24:37.384Z"
   },
   {
    "duration": 158,
    "start_time": "2022-05-22T17:24:37.535Z"
   },
   {
    "duration": 27,
    "start_time": "2022-05-22T17:24:37.694Z"
   },
   {
    "duration": 163,
    "start_time": "2022-05-22T17:24:37.723Z"
   },
   {
    "duration": 3,
    "start_time": "2022-05-22T17:24:37.888Z"
   },
   {
    "duration": 0,
    "start_time": "2022-05-22T17:24:37.902Z"
   },
   {
    "duration": 0,
    "start_time": "2022-05-22T17:24:37.903Z"
   },
   {
    "duration": 0,
    "start_time": "2022-05-22T17:24:37.905Z"
   },
   {
    "duration": 0,
    "start_time": "2022-05-22T17:24:37.906Z"
   },
   {
    "duration": 0,
    "start_time": "2022-05-22T17:24:37.909Z"
   },
   {
    "duration": 267,
    "start_time": "2022-05-22T17:26:43.757Z"
   },
   {
    "duration": 168,
    "start_time": "2022-05-22T17:26:57.878Z"
   },
   {
    "duration": 169,
    "start_time": "2022-05-22T17:27:14.327Z"
   },
   {
    "duration": 192,
    "start_time": "2022-05-22T17:28:59.985Z"
   },
   {
    "duration": 199,
    "start_time": "2022-05-22T17:31:03.193Z"
   },
   {
    "duration": 231,
    "start_time": "2022-05-22T17:31:56.101Z"
   },
   {
    "duration": 126,
    "start_time": "2022-05-22T17:44:35.491Z"
   },
   {
    "duration": 11,
    "start_time": "2022-05-22T17:46:04.745Z"
   },
   {
    "duration": 11,
    "start_time": "2022-05-22T17:47:18.334Z"
   },
   {
    "duration": 17,
    "start_time": "2022-05-22T17:47:40.562Z"
   },
   {
    "duration": 19,
    "start_time": "2022-05-22T17:47:53.169Z"
   },
   {
    "duration": 14,
    "start_time": "2022-05-22T17:48:01.233Z"
   },
   {
    "duration": 10,
    "start_time": "2022-05-22T17:49:46.653Z"
   },
   {
    "duration": 12,
    "start_time": "2022-05-22T17:52:54.699Z"
   },
   {
    "duration": 108,
    "start_time": "2022-05-22T17:53:05.842Z"
   },
   {
    "duration": 13,
    "start_time": "2022-05-22T18:33:04.069Z"
   },
   {
    "duration": 19,
    "start_time": "2022-05-22T18:33:12.929Z"
   },
   {
    "duration": 14,
    "start_time": "2022-05-22T18:33:40.232Z"
   },
   {
    "duration": 12,
    "start_time": "2022-05-22T18:34:55.735Z"
   },
   {
    "duration": 7,
    "start_time": "2022-05-22T18:35:32.876Z"
   },
   {
    "duration": 4,
    "start_time": "2022-05-22T18:36:09.596Z"
   },
   {
    "duration": 9,
    "start_time": "2022-05-22T18:36:16.019Z"
   },
   {
    "duration": 57,
    "start_time": "2022-05-22T18:36:44.995Z"
   },
   {
    "duration": 13,
    "start_time": "2022-05-22T18:36:51.159Z"
   },
   {
    "duration": 11,
    "start_time": "2022-05-22T18:37:11.195Z"
   },
   {
    "duration": 5,
    "start_time": "2022-05-22T18:37:39.130Z"
   },
   {
    "duration": 4,
    "start_time": "2022-05-22T18:39:26.531Z"
   },
   {
    "duration": 6,
    "start_time": "2022-05-22T18:51:50.336Z"
   },
   {
    "duration": 10,
    "start_time": "2022-05-22T18:52:25.835Z"
   },
   {
    "duration": 5,
    "start_time": "2022-05-22T18:52:57.376Z"
   },
   {
    "duration": 11,
    "start_time": "2022-05-22T18:53:03.614Z"
   },
   {
    "duration": 5,
    "start_time": "2022-05-22T18:53:30.005Z"
   },
   {
    "duration": 7,
    "start_time": "2022-05-22T18:53:47.657Z"
   },
   {
    "duration": 12,
    "start_time": "2022-05-22T18:54:18.866Z"
   },
   {
    "duration": 24,
    "start_time": "2022-05-22T19:42:51.878Z"
   },
   {
    "duration": 13,
    "start_time": "2022-05-22T19:43:12.086Z"
   },
   {
    "duration": 9,
    "start_time": "2022-05-22T19:43:26.972Z"
   },
   {
    "duration": 35,
    "start_time": "2022-05-22T19:43:52.898Z"
   },
   {
    "duration": 4,
    "start_time": "2022-05-22T19:43:57.747Z"
   },
   {
    "duration": 0,
    "start_time": "2022-05-22T19:46:43.645Z"
   },
   {
    "duration": 18546,
    "start_time": "2022-05-22T19:47:35.319Z"
   },
   {
    "duration": 4,
    "start_time": "2022-05-22T19:52:29.993Z"
   },
   {
    "duration": 3,
    "start_time": "2022-05-22T19:52:35.505Z"
   },
   {
    "duration": 39,
    "start_time": "2022-05-22T19:53:29.594Z"
   },
   {
    "duration": 26,
    "start_time": "2022-05-22T19:53:44.372Z"
   },
   {
    "duration": 13,
    "start_time": "2022-05-22T19:53:53.804Z"
   },
   {
    "duration": 1143,
    "start_time": "2022-05-22T19:54:24.706Z"
   },
   {
    "duration": 1008,
    "start_time": "2022-05-22T19:54:25.851Z"
   },
   {
    "duration": 5,
    "start_time": "2022-05-22T19:54:26.860Z"
   },
   {
    "duration": 37,
    "start_time": "2022-05-22T19:54:26.867Z"
   },
   {
    "duration": 188,
    "start_time": "2022-05-22T19:54:26.906Z"
   },
   {
    "duration": 139,
    "start_time": "2022-05-22T19:54:27.096Z"
   },
   {
    "duration": 206,
    "start_time": "2022-05-22T19:54:27.236Z"
   },
   {
    "duration": 84,
    "start_time": "2022-05-22T19:54:27.443Z"
   },
   {
    "duration": 36,
    "start_time": "2022-05-22T19:54:27.528Z"
   },
   {
    "duration": 220,
    "start_time": "2022-05-22T19:54:27.566Z"
   },
   {
    "duration": 9,
    "start_time": "2022-05-22T19:54:27.795Z"
   },
   {
    "duration": 10,
    "start_time": "2022-05-22T19:54:27.807Z"
   },
   {
    "duration": 4,
    "start_time": "2022-05-22T19:54:27.818Z"
   },
   {
    "duration": 140,
    "start_time": "2022-05-22T19:54:27.823Z"
   },
   {
    "duration": 4,
    "start_time": "2022-05-22T19:54:27.965Z"
   },
   {
    "duration": 43,
    "start_time": "2022-05-22T19:54:27.971Z"
   },
   {
    "duration": 9,
    "start_time": "2022-05-22T19:54:28.016Z"
   },
   {
    "duration": 116,
    "start_time": "2022-05-22T19:54:28.027Z"
   },
   {
    "duration": 0,
    "start_time": "2022-05-22T19:54:28.146Z"
   },
   {
    "duration": 0,
    "start_time": "2022-05-22T19:54:28.147Z"
   },
   {
    "duration": 0,
    "start_time": "2022-05-22T19:54:28.148Z"
   },
   {
    "duration": 0,
    "start_time": "2022-05-22T19:54:28.149Z"
   },
   {
    "duration": 0,
    "start_time": "2022-05-22T19:54:28.150Z"
   },
   {
    "duration": 0,
    "start_time": "2022-05-22T19:54:28.151Z"
   },
   {
    "duration": 0,
    "start_time": "2022-05-22T19:54:28.152Z"
   },
   {
    "duration": 0,
    "start_time": "2022-05-22T19:54:28.153Z"
   },
   {
    "duration": 0,
    "start_time": "2022-05-22T19:54:28.154Z"
   },
   {
    "duration": 0,
    "start_time": "2022-05-22T19:54:28.155Z"
   },
   {
    "duration": 0,
    "start_time": "2022-05-22T19:54:28.156Z"
   },
   {
    "duration": 0,
    "start_time": "2022-05-22T19:54:28.157Z"
   },
   {
    "duration": 0,
    "start_time": "2022-05-22T19:54:28.158Z"
   },
   {
    "duration": 0,
    "start_time": "2022-05-22T19:54:28.159Z"
   },
   {
    "duration": 0,
    "start_time": "2022-05-22T19:54:28.159Z"
   },
   {
    "duration": 0,
    "start_time": "2022-05-22T19:54:28.160Z"
   },
   {
    "duration": 0,
    "start_time": "2022-05-22T19:54:28.161Z"
   },
   {
    "duration": 0,
    "start_time": "2022-05-22T19:54:28.162Z"
   },
   {
    "duration": 0,
    "start_time": "2022-05-22T19:54:28.163Z"
   },
   {
    "duration": 0,
    "start_time": "2022-05-22T19:54:28.164Z"
   },
   {
    "duration": 0,
    "start_time": "2022-05-22T19:54:28.165Z"
   },
   {
    "duration": 0,
    "start_time": "2022-05-22T19:54:28.166Z"
   },
   {
    "duration": 0,
    "start_time": "2022-05-22T19:54:28.202Z"
   },
   {
    "duration": 0,
    "start_time": "2022-05-22T19:54:28.203Z"
   },
   {
    "duration": 0,
    "start_time": "2022-05-22T19:54:28.204Z"
   },
   {
    "duration": 0,
    "start_time": "2022-05-22T19:54:28.206Z"
   },
   {
    "duration": 0,
    "start_time": "2022-05-22T19:54:28.206Z"
   },
   {
    "duration": 0,
    "start_time": "2022-05-22T19:54:28.208Z"
   },
   {
    "duration": 0,
    "start_time": "2022-05-22T19:54:28.209Z"
   },
   {
    "duration": 0,
    "start_time": "2022-05-22T19:54:28.210Z"
   },
   {
    "duration": 0,
    "start_time": "2022-05-22T19:54:28.211Z"
   },
   {
    "duration": 0,
    "start_time": "2022-05-22T19:54:28.213Z"
   },
   {
    "duration": 0,
    "start_time": "2022-05-22T19:54:28.213Z"
   },
   {
    "duration": 11,
    "start_time": "2022-05-22T19:55:23.644Z"
   },
   {
    "duration": 4,
    "start_time": "2022-05-22T19:56:07.886Z"
   },
   {
    "duration": 26,
    "start_time": "2022-05-22T19:56:20.340Z"
   },
   {
    "duration": 29,
    "start_time": "2022-05-22T19:56:29.411Z"
   },
   {
    "duration": 26,
    "start_time": "2022-05-22T19:56:34.160Z"
   },
   {
    "duration": 9,
    "start_time": "2022-05-22T19:56:47.381Z"
   },
   {
    "duration": 10,
    "start_time": "2022-05-22T19:57:15.520Z"
   },
   {
    "duration": 10,
    "start_time": "2022-05-22T19:57:26.655Z"
   },
   {
    "duration": 38,
    "start_time": "2022-05-22T20:03:26.510Z"
   },
   {
    "duration": 40,
    "start_time": "2022-05-22T20:05:49.396Z"
   },
   {
    "duration": 39,
    "start_time": "2022-05-22T20:06:01.939Z"
   },
   {
    "duration": 14,
    "start_time": "2022-05-22T20:06:13.328Z"
   },
   {
    "duration": 6157,
    "start_time": "2022-05-22T20:07:09.352Z"
   },
   {
    "duration": 23536,
    "start_time": "2022-05-22T20:08:09.456Z"
   },
   {
    "duration": 48,
    "start_time": "2022-05-22T20:17:49.724Z"
   },
   {
    "duration": 28,
    "start_time": "2022-05-22T20:17:57.261Z"
   },
   {
    "duration": 3,
    "start_time": "2022-05-22T20:18:03.786Z"
   },
   {
    "duration": 3,
    "start_time": "2022-05-22T20:18:17.497Z"
   },
   {
    "duration": 14,
    "start_time": "2022-05-22T20:18:32.136Z"
   },
   {
    "duration": 7,
    "start_time": "2022-05-22T20:18:56.855Z"
   },
   {
    "duration": 8,
    "start_time": "2022-05-22T20:19:15.380Z"
   },
   {
    "duration": 8,
    "start_time": "2022-05-22T20:20:48.046Z"
   },
   {
    "duration": 22122,
    "start_time": "2022-05-22T20:22:03.478Z"
   },
   {
    "duration": 73,
    "start_time": "2022-05-22T20:25:46.346Z"
   },
   {
    "duration": 22004,
    "start_time": "2022-05-22T20:26:00.813Z"
   },
   {
    "duration": 11884,
    "start_time": "2022-05-22T20:28:06.061Z"
   },
   {
    "duration": 22022,
    "start_time": "2022-05-22T20:29:04.307Z"
   },
   {
    "duration": 22513,
    "start_time": "2022-05-22T20:29:44.034Z"
   },
   {
    "duration": 22790,
    "start_time": "2022-05-22T20:48:59.048Z"
   },
   {
    "duration": 22079,
    "start_time": "2022-05-22T20:50:22.785Z"
   },
   {
    "duration": 21732,
    "start_time": "2022-05-22T20:51:25.726Z"
   },
   {
    "duration": 4,
    "start_time": "2022-05-22T20:58:11.307Z"
   },
   {
    "duration": 6,
    "start_time": "2022-05-22T20:58:30.430Z"
   },
   {
    "duration": 1178,
    "start_time": "2022-05-23T13:53:07.649Z"
   },
   {
    "duration": 683,
    "start_time": "2022-05-23T13:53:08.829Z"
   },
   {
    "duration": 4,
    "start_time": "2022-05-23T13:53:09.513Z"
   },
   {
    "duration": 37,
    "start_time": "2022-05-23T13:53:09.519Z"
   },
   {
    "duration": 154,
    "start_time": "2022-05-23T13:53:09.558Z"
   },
   {
    "duration": 121,
    "start_time": "2022-05-23T13:53:09.714Z"
   },
   {
    "duration": 261,
    "start_time": "2022-05-23T13:53:09.837Z"
   },
   {
    "duration": 81,
    "start_time": "2022-05-23T13:53:10.100Z"
   },
   {
    "duration": 33,
    "start_time": "2022-05-23T13:53:10.194Z"
   },
   {
    "duration": 128,
    "start_time": "2022-05-23T13:53:10.230Z"
   },
   {
    "duration": 4,
    "start_time": "2022-05-23T13:53:10.360Z"
   },
   {
    "duration": 23,
    "start_time": "2022-05-23T13:53:10.365Z"
   },
   {
    "duration": 7,
    "start_time": "2022-05-23T13:53:10.389Z"
   },
   {
    "duration": 127,
    "start_time": "2022-05-23T13:53:10.397Z"
   },
   {
    "duration": 4,
    "start_time": "2022-05-23T13:53:10.525Z"
   },
   {
    "duration": 30,
    "start_time": "2022-05-23T13:53:10.531Z"
   },
   {
    "duration": 34,
    "start_time": "2022-05-23T13:53:10.563Z"
   },
   {
    "duration": 5,
    "start_time": "2022-05-23T13:53:10.599Z"
   },
   {
    "duration": 0,
    "start_time": "2022-05-23T13:53:10.606Z"
   },
   {
    "duration": 0,
    "start_time": "2022-05-23T13:53:10.607Z"
   },
   {
    "duration": 0,
    "start_time": "2022-05-23T13:53:10.609Z"
   },
   {
    "duration": 0,
    "start_time": "2022-05-23T13:53:10.610Z"
   },
   {
    "duration": 0,
    "start_time": "2022-05-23T13:53:10.612Z"
   },
   {
    "duration": 0,
    "start_time": "2022-05-23T13:53:10.613Z"
   },
   {
    "duration": 0,
    "start_time": "2022-05-23T13:53:10.614Z"
   },
   {
    "duration": 0,
    "start_time": "2022-05-23T13:53:10.615Z"
   },
   {
    "duration": 0,
    "start_time": "2022-05-23T13:53:10.617Z"
   },
   {
    "duration": 0,
    "start_time": "2022-05-23T13:53:10.618Z"
   },
   {
    "duration": 0,
    "start_time": "2022-05-23T13:53:10.620Z"
   },
   {
    "duration": 0,
    "start_time": "2022-05-23T13:53:10.621Z"
   },
   {
    "duration": 0,
    "start_time": "2022-05-23T13:53:10.622Z"
   },
   {
    "duration": 0,
    "start_time": "2022-05-23T13:53:10.623Z"
   },
   {
    "duration": 0,
    "start_time": "2022-05-23T13:53:10.624Z"
   },
   {
    "duration": 0,
    "start_time": "2022-05-23T13:53:10.625Z"
   },
   {
    "duration": 0,
    "start_time": "2022-05-23T13:53:10.626Z"
   },
   {
    "duration": 0,
    "start_time": "2022-05-23T13:53:10.627Z"
   },
   {
    "duration": 0,
    "start_time": "2022-05-23T13:53:10.628Z"
   },
   {
    "duration": 0,
    "start_time": "2022-05-23T13:53:10.630Z"
   },
   {
    "duration": 0,
    "start_time": "2022-05-23T13:53:10.631Z"
   },
   {
    "duration": 0,
    "start_time": "2022-05-23T13:53:10.632Z"
   },
   {
    "duration": 0,
    "start_time": "2022-05-23T13:53:10.633Z"
   },
   {
    "duration": 0,
    "start_time": "2022-05-23T13:53:10.634Z"
   },
   {
    "duration": 0,
    "start_time": "2022-05-23T13:53:10.635Z"
   },
   {
    "duration": 0,
    "start_time": "2022-05-23T13:53:10.636Z"
   },
   {
    "duration": 0,
    "start_time": "2022-05-23T13:53:10.694Z"
   },
   {
    "duration": 0,
    "start_time": "2022-05-23T13:53:10.696Z"
   },
   {
    "duration": 0,
    "start_time": "2022-05-23T13:53:10.697Z"
   },
   {
    "duration": 0,
    "start_time": "2022-05-23T13:53:10.699Z"
   },
   {
    "duration": 0,
    "start_time": "2022-05-23T13:53:10.700Z"
   },
   {
    "duration": 0,
    "start_time": "2022-05-23T13:53:10.702Z"
   },
   {
    "duration": 96,
    "start_time": "2022-05-23T14:03:23.388Z"
   },
   {
    "duration": 11,
    "start_time": "2022-05-23T14:07:42.431Z"
   },
   {
    "duration": 3,
    "start_time": "2022-05-23T14:07:54.455Z"
   },
   {
    "duration": 8,
    "start_time": "2022-05-23T14:08:56.983Z"
   },
   {
    "duration": 20456,
    "start_time": "2022-05-23T14:09:21.016Z"
   },
   {
    "duration": 20674,
    "start_time": "2022-05-23T14:10:02.503Z"
   },
   {
    "duration": 20263,
    "start_time": "2022-05-23T14:11:11.753Z"
   },
   {
    "duration": 1149,
    "start_time": "2022-05-23T14:16:40.173Z"
   },
   {
    "duration": 336,
    "start_time": "2022-05-23T14:16:41.324Z"
   },
   {
    "duration": 3,
    "start_time": "2022-05-23T14:16:41.662Z"
   },
   {
    "duration": 43,
    "start_time": "2022-05-23T14:16:41.666Z"
   },
   {
    "duration": 160,
    "start_time": "2022-05-23T14:16:41.711Z"
   },
   {
    "duration": 126,
    "start_time": "2022-05-23T14:16:41.873Z"
   },
   {
    "duration": 212,
    "start_time": "2022-05-23T14:16:42.001Z"
   },
   {
    "duration": 83,
    "start_time": "2022-05-23T14:16:42.214Z"
   },
   {
    "duration": 34,
    "start_time": "2022-05-23T14:16:42.298Z"
   },
   {
    "duration": 220,
    "start_time": "2022-05-23T14:16:42.334Z"
   },
   {
    "duration": 5,
    "start_time": "2022-05-23T14:16:42.555Z"
   },
   {
    "duration": 22,
    "start_time": "2022-05-23T14:16:42.561Z"
   },
   {
    "duration": 12,
    "start_time": "2022-05-23T14:16:42.585Z"
   },
   {
    "duration": 133,
    "start_time": "2022-05-23T14:16:42.600Z"
   },
   {
    "duration": 4,
    "start_time": "2022-05-23T14:16:42.734Z"
   },
   {
    "duration": 54,
    "start_time": "2022-05-23T14:16:42.740Z"
   },
   {
    "duration": 5,
    "start_time": "2022-05-23T14:16:42.796Z"
   },
   {
    "duration": 18867,
    "start_time": "2022-05-23T14:16:42.803Z"
   },
   {
    "duration": 6,
    "start_time": "2022-05-23T14:17:01.672Z"
   },
   {
    "duration": 173,
    "start_time": "2022-05-23T14:17:01.680Z"
   },
   {
    "duration": 28,
    "start_time": "2022-05-23T14:17:01.855Z"
   },
   {
    "duration": 4,
    "start_time": "2022-05-23T14:17:01.895Z"
   },
   {
    "duration": 197,
    "start_time": "2022-05-23T14:17:01.900Z"
   },
   {
    "duration": 170,
    "start_time": "2022-05-23T14:17:02.098Z"
   },
   {
    "duration": 4,
    "start_time": "2022-05-23T14:17:02.270Z"
   },
   {
    "duration": 38,
    "start_time": "2022-05-23T14:17:02.275Z"
   },
   {
    "duration": 145,
    "start_time": "2022-05-23T14:17:02.314Z"
   },
   {
    "duration": 146,
    "start_time": "2022-05-23T14:17:02.461Z"
   },
   {
    "duration": 5,
    "start_time": "2022-05-23T14:17:02.609Z"
   },
   {
    "duration": 27,
    "start_time": "2022-05-23T14:17:02.616Z"
   },
   {
    "duration": 138,
    "start_time": "2022-05-23T14:17:02.645Z"
   },
   {
    "duration": 134,
    "start_time": "2022-05-23T14:17:02.784Z"
   },
   {
    "duration": 5,
    "start_time": "2022-05-23T14:17:02.919Z"
   },
   {
    "duration": 19,
    "start_time": "2022-05-23T14:17:02.926Z"
   },
   {
    "duration": 160,
    "start_time": "2022-05-23T14:17:02.946Z"
   },
   {
    "duration": 147,
    "start_time": "2022-05-23T14:17:03.108Z"
   },
   {
    "duration": 5,
    "start_time": "2022-05-23T14:17:03.256Z"
   },
   {
    "duration": 5,
    "start_time": "2022-05-23T14:17:03.262Z"
   },
   {
    "duration": 128,
    "start_time": "2022-05-23T14:17:03.269Z"
   },
   {
    "duration": 150,
    "start_time": "2022-05-23T14:17:03.401Z"
   },
   {
    "duration": 151,
    "start_time": "2022-05-23T14:17:03.554Z"
   },
   {
    "duration": 14,
    "start_time": "2022-05-23T14:17:03.706Z"
   },
   {
    "duration": 237,
    "start_time": "2022-05-23T14:17:03.721Z"
   },
   {
    "duration": 4,
    "start_time": "2022-05-23T14:17:03.960Z"
   },
   {
    "duration": 0,
    "start_time": "2022-05-23T14:17:03.965Z"
   },
   {
    "duration": 0,
    "start_time": "2022-05-23T14:17:03.966Z"
   },
   {
    "duration": 0,
    "start_time": "2022-05-23T14:17:03.967Z"
   },
   {
    "duration": 0,
    "start_time": "2022-05-23T14:17:03.968Z"
   },
   {
    "duration": 0,
    "start_time": "2022-05-23T14:17:03.969Z"
   },
   {
    "duration": 143,
    "start_time": "2022-05-23T14:20:42.818Z"
   },
   {
    "duration": 148,
    "start_time": "2022-05-23T14:21:18.467Z"
   },
   {
    "duration": 4,
    "start_time": "2022-05-23T14:21:40.294Z"
   },
   {
    "duration": 137,
    "start_time": "2022-05-23T14:21:42.332Z"
   },
   {
    "duration": 126,
    "start_time": "2022-05-23T14:22:57.348Z"
   },
   {
    "duration": 4,
    "start_time": "2022-05-23T14:29:02.201Z"
   },
   {
    "duration": 147,
    "start_time": "2022-05-23T14:29:02.689Z"
   },
   {
    "duration": 19,
    "start_time": "2022-05-23T14:29:32.248Z"
   },
   {
    "duration": 27,
    "start_time": "2022-05-23T14:36:36.359Z"
   },
   {
    "duration": 26,
    "start_time": "2022-05-23T14:37:16.532Z"
   },
   {
    "duration": 13,
    "start_time": "2022-05-23T14:37:17.864Z"
   },
   {
    "duration": 26,
    "start_time": "2022-05-23T14:37:44.627Z"
   },
   {
    "duration": 28,
    "start_time": "2022-05-23T14:38:00.030Z"
   },
   {
    "duration": 26,
    "start_time": "2022-05-23T14:38:08.327Z"
   },
   {
    "duration": 12,
    "start_time": "2022-05-23T14:38:16.982Z"
   },
   {
    "duration": 3,
    "start_time": "2022-05-23T14:38:21.570Z"
   },
   {
    "duration": 633,
    "start_time": "2022-05-23T14:38:22.257Z"
   },
   {
    "duration": 4,
    "start_time": "2022-05-23T14:38:45.561Z"
   },
   {
    "duration": 135,
    "start_time": "2022-05-23T14:38:46.454Z"
   },
   {
    "duration": 3,
    "start_time": "2022-05-23T14:39:06.053Z"
   },
   {
    "duration": 140,
    "start_time": "2022-05-23T14:39:06.835Z"
   },
   {
    "duration": 213,
    "start_time": "2022-05-23T14:39:48.827Z"
   },
   {
    "duration": 155,
    "start_time": "2022-05-23T14:46:18.030Z"
   },
   {
    "duration": 191,
    "start_time": "2022-05-23T14:46:23.529Z"
   },
   {
    "duration": 44,
    "start_time": "2022-05-23T14:56:43.801Z"
   },
   {
    "duration": 32,
    "start_time": "2022-05-23T15:00:38.766Z"
   },
   {
    "duration": 4,
    "start_time": "2022-05-23T15:03:12.004Z"
   },
   {
    "duration": 158,
    "start_time": "2022-05-23T15:05:05.617Z"
   },
   {
    "duration": 241,
    "start_time": "2022-05-23T15:05:16.880Z"
   },
   {
    "duration": 143,
    "start_time": "2022-05-23T15:05:58.474Z"
   },
   {
    "duration": 6,
    "start_time": "2022-05-23T15:11:04.606Z"
   },
   {
    "duration": 22,
    "start_time": "2022-05-23T15:11:06.666Z"
   },
   {
    "duration": 169,
    "start_time": "2022-05-23T15:11:07.764Z"
   },
   {
    "duration": 5,
    "start_time": "2022-05-23T15:11:26.321Z"
   },
   {
    "duration": 16,
    "start_time": "2022-05-23T15:11:28.559Z"
   },
   {
    "duration": 161,
    "start_time": "2022-05-23T15:11:29.686Z"
   },
   {
    "duration": 148,
    "start_time": "2022-05-23T15:23:41.826Z"
   },
   {
    "duration": 152,
    "start_time": "2022-05-23T15:23:47.562Z"
   },
   {
    "duration": 32,
    "start_time": "2022-05-23T15:24:30.980Z"
   },
   {
    "duration": 20,
    "start_time": "2022-05-23T15:25:30.630Z"
   },
   {
    "duration": 16,
    "start_time": "2022-05-23T15:26:05.298Z"
   },
   {
    "duration": 12,
    "start_time": "2022-05-23T15:26:46.417Z"
   },
   {
    "duration": 13,
    "start_time": "2022-05-23T15:27:08.176Z"
   },
   {
    "duration": 17,
    "start_time": "2022-05-23T15:27:22.285Z"
   },
   {
    "duration": 54,
    "start_time": "2022-05-23T15:32:39.366Z"
   },
   {
    "duration": 59,
    "start_time": "2022-05-23T15:46:25.678Z"
   },
   {
    "duration": 4,
    "start_time": "2022-05-23T15:46:36.849Z"
   },
   {
    "duration": 44,
    "start_time": "2022-05-23T15:46:57.620Z"
   },
   {
    "duration": 30,
    "start_time": "2022-05-23T15:48:28.202Z"
   },
   {
    "duration": 21,
    "start_time": "2022-05-23T15:48:41.091Z"
   },
   {
    "duration": 53,
    "start_time": "2022-05-23T15:48:56.439Z"
   },
   {
    "duration": 51,
    "start_time": "2022-05-23T15:49:58.616Z"
   },
   {
    "duration": 48,
    "start_time": "2022-05-23T15:50:51.067Z"
   },
   {
    "duration": 1077,
    "start_time": "2022-05-23T21:11:24.339Z"
   },
   {
    "duration": 1266,
    "start_time": "2022-05-23T21:11:25.418Z"
   },
   {
    "duration": 4,
    "start_time": "2022-05-23T21:11:26.686Z"
   },
   {
    "duration": 46,
    "start_time": "2022-05-23T21:11:26.692Z"
   },
   {
    "duration": 195,
    "start_time": "2022-05-23T21:11:26.741Z"
   },
   {
    "duration": 155,
    "start_time": "2022-05-23T21:11:26.938Z"
   },
   {
    "duration": 216,
    "start_time": "2022-05-23T21:11:27.095Z"
   },
   {
    "duration": 88,
    "start_time": "2022-05-23T21:11:27.313Z"
   },
   {
    "duration": 39,
    "start_time": "2022-05-23T21:11:27.403Z"
   },
   {
    "duration": 212,
    "start_time": "2022-05-23T21:11:27.444Z"
   },
   {
    "duration": 5,
    "start_time": "2022-05-23T21:11:27.658Z"
   },
   {
    "duration": 21,
    "start_time": "2022-05-23T21:11:27.665Z"
   },
   {
    "duration": 5,
    "start_time": "2022-05-23T21:11:27.687Z"
   },
   {
    "duration": 147,
    "start_time": "2022-05-23T21:11:27.695Z"
   },
   {
    "duration": 4,
    "start_time": "2022-05-23T21:11:27.844Z"
   },
   {
    "duration": 52,
    "start_time": "2022-05-23T21:11:27.850Z"
   },
   {
    "duration": 4,
    "start_time": "2022-05-23T21:11:27.904Z"
   },
   {
    "duration": 20079,
    "start_time": "2022-05-23T21:11:27.910Z"
   },
   {
    "duration": 9,
    "start_time": "2022-05-23T21:11:47.991Z"
   },
   {
    "duration": 171,
    "start_time": "2022-05-23T21:11:48.002Z"
   },
   {
    "duration": 38,
    "start_time": "2022-05-23T21:11:48.174Z"
   },
   {
    "duration": 3,
    "start_time": "2022-05-23T21:11:48.214Z"
   },
   {
    "duration": 169,
    "start_time": "2022-05-23T21:11:48.218Z"
   },
   {
    "duration": 172,
    "start_time": "2022-05-23T21:11:48.389Z"
   },
   {
    "duration": 180,
    "start_time": "2022-05-23T21:11:48.562Z"
   },
   {
    "duration": 4,
    "start_time": "2022-05-23T21:11:48.743Z"
   },
   {
    "duration": 32,
    "start_time": "2022-05-23T21:11:48.749Z"
   },
   {
    "duration": 152,
    "start_time": "2022-05-23T21:11:48.782Z"
   },
   {
    "duration": 137,
    "start_time": "2022-05-23T21:11:48.936Z"
   },
   {
    "duration": 12,
    "start_time": "2022-05-23T21:11:49.075Z"
   },
   {
    "duration": 15,
    "start_time": "2022-05-23T21:11:49.088Z"
   },
   {
    "duration": 149,
    "start_time": "2022-05-23T21:11:49.104Z"
   },
   {
    "duration": 132,
    "start_time": "2022-05-23T21:11:49.255Z"
   },
   {
    "duration": 5,
    "start_time": "2022-05-23T21:11:49.388Z"
   },
   {
    "duration": 17,
    "start_time": "2022-05-23T21:11:49.394Z"
   },
   {
    "duration": 171,
    "start_time": "2022-05-23T21:11:49.413Z"
   },
   {
    "duration": 164,
    "start_time": "2022-05-23T21:11:49.585Z"
   },
   {
    "duration": 4,
    "start_time": "2022-05-23T21:11:49.751Z"
   },
   {
    "duration": 23,
    "start_time": "2022-05-23T21:11:49.757Z"
   },
   {
    "duration": 113,
    "start_time": "2022-05-23T21:11:49.782Z"
   },
   {
    "duration": 169,
    "start_time": "2022-05-23T21:11:49.899Z"
   },
   {
    "duration": 256,
    "start_time": "2022-05-23T21:11:50.070Z"
   },
   {
    "duration": 15,
    "start_time": "2022-05-23T21:11:50.328Z"
   },
   {
    "duration": 169,
    "start_time": "2022-05-23T21:11:50.345Z"
   },
   {
    "duration": 172,
    "start_time": "2022-05-23T21:11:50.516Z"
   },
   {
    "duration": 142,
    "start_time": "2022-05-23T21:11:50.690Z"
   },
   {
    "duration": 156,
    "start_time": "2022-05-23T21:11:50.834Z"
   },
   {
    "duration": 9,
    "start_time": "2022-05-23T21:11:50.992Z"
   },
   {
    "duration": 185,
    "start_time": "2022-05-23T21:11:51.002Z"
   },
   {
    "duration": 8,
    "start_time": "2022-05-23T21:11:51.189Z"
   },
   {
    "duration": 174,
    "start_time": "2022-05-23T21:11:51.199Z"
   },
   {
    "duration": 0,
    "start_time": "2022-05-23T21:11:51.376Z"
   },
   {
    "duration": 1261,
    "start_time": "2022-05-23T21:50:06.422Z"
   },
   {
    "duration": 1290,
    "start_time": "2022-05-23T21:50:07.685Z"
   },
   {
    "duration": 4,
    "start_time": "2022-05-23T21:50:08.977Z"
   },
   {
    "duration": 34,
    "start_time": "2022-05-23T21:50:08.983Z"
   },
   {
    "duration": 162,
    "start_time": "2022-05-23T21:50:09.018Z"
   },
   {
    "duration": 132,
    "start_time": "2022-05-23T21:50:09.182Z"
   },
   {
    "duration": 214,
    "start_time": "2022-05-23T21:50:09.316Z"
   },
   {
    "duration": 79,
    "start_time": "2022-05-23T21:50:09.532Z"
   },
   {
    "duration": 50,
    "start_time": "2022-05-23T21:50:09.612Z"
   },
   {
    "duration": 193,
    "start_time": "2022-05-23T21:50:09.665Z"
   },
   {
    "duration": 4,
    "start_time": "2022-05-23T21:50:09.860Z"
   },
   {
    "duration": 6,
    "start_time": "2022-05-23T21:50:09.866Z"
   },
   {
    "duration": 4,
    "start_time": "2022-05-23T21:50:09.873Z"
   },
   {
    "duration": 154,
    "start_time": "2022-05-23T21:50:09.879Z"
   },
   {
    "duration": 4,
    "start_time": "2022-05-23T21:50:10.035Z"
   },
   {
    "duration": 37,
    "start_time": "2022-05-23T21:50:10.040Z"
   },
   {
    "duration": 4,
    "start_time": "2022-05-23T21:50:10.079Z"
   },
   {
    "duration": 18554,
    "start_time": "2022-05-23T21:50:10.084Z"
   },
   {
    "duration": 6,
    "start_time": "2022-05-23T21:50:28.640Z"
   },
   {
    "duration": 125,
    "start_time": "2022-05-23T21:50:28.647Z"
   },
   {
    "duration": 31,
    "start_time": "2022-05-23T21:50:28.773Z"
   },
   {
    "duration": 4,
    "start_time": "2022-05-23T21:50:28.805Z"
   },
   {
    "duration": 161,
    "start_time": "2022-05-23T21:50:28.810Z"
   },
   {
    "duration": 175,
    "start_time": "2022-05-23T21:50:28.973Z"
   },
   {
    "duration": 162,
    "start_time": "2022-05-23T21:50:29.150Z"
   },
   {
    "duration": 5,
    "start_time": "2022-05-23T21:50:29.313Z"
   },
   {
    "duration": 20,
    "start_time": "2022-05-23T21:50:29.319Z"
   },
   {
    "duration": 152,
    "start_time": "2022-05-23T21:50:29.342Z"
   },
   {
    "duration": 125,
    "start_time": "2022-05-23T21:50:29.495Z"
   },
   {
    "duration": 4,
    "start_time": "2022-05-23T21:50:29.626Z"
   },
   {
    "duration": 16,
    "start_time": "2022-05-23T21:50:29.632Z"
   },
   {
    "duration": 140,
    "start_time": "2022-05-23T21:50:29.649Z"
   },
   {
    "duration": 124,
    "start_time": "2022-05-23T21:50:29.791Z"
   },
   {
    "duration": 10,
    "start_time": "2022-05-23T21:50:29.917Z"
   },
   {
    "duration": 15,
    "start_time": "2022-05-23T21:50:29.928Z"
   },
   {
    "duration": 154,
    "start_time": "2022-05-23T21:50:29.944Z"
   },
   {
    "duration": 145,
    "start_time": "2022-05-23T21:50:30.100Z"
   },
   {
    "duration": 4,
    "start_time": "2022-05-23T21:50:30.247Z"
   },
   {
    "duration": 13,
    "start_time": "2022-05-23T21:50:30.252Z"
   },
   {
    "duration": 115,
    "start_time": "2022-05-23T21:50:30.267Z"
   },
   {
    "duration": 151,
    "start_time": "2022-05-23T21:50:30.384Z"
   },
   {
    "duration": 237,
    "start_time": "2022-05-23T21:50:30.536Z"
   },
   {
    "duration": 15,
    "start_time": "2022-05-23T21:50:30.774Z"
   },
   {
    "duration": 178,
    "start_time": "2022-05-23T21:50:30.791Z"
   },
   {
    "duration": 156,
    "start_time": "2022-05-23T21:50:30.971Z"
   },
   {
    "duration": 137,
    "start_time": "2022-05-23T21:50:31.128Z"
   },
   {
    "duration": 142,
    "start_time": "2022-05-23T21:50:31.267Z"
   },
   {
    "duration": 17,
    "start_time": "2022-05-23T21:50:31.410Z"
   },
   {
    "duration": 159,
    "start_time": "2022-05-23T21:50:31.428Z"
   },
   {
    "duration": 10,
    "start_time": "2022-05-23T21:50:31.589Z"
   },
   {
    "duration": 169,
    "start_time": "2022-05-23T21:50:31.601Z"
   },
   {
    "duration": 0,
    "start_time": "2022-05-23T21:50:31.772Z"
   },
   {
    "duration": 37,
    "start_time": "2022-05-23T21:51:49.622Z"
   },
   {
    "duration": 16,
    "start_time": "2022-05-23T21:51:57.652Z"
   },
   {
    "duration": 17,
    "start_time": "2022-05-23T21:52:12.456Z"
   },
   {
    "duration": 3,
    "start_time": "2022-05-23T21:52:29.329Z"
   },
   {
    "duration": 357,
    "start_time": "2022-05-23T21:52:35.541Z"
   },
   {
    "duration": 417,
    "start_time": "2022-05-23T21:52:56.679Z"
   },
   {
    "duration": 16,
    "start_time": "2022-05-23T21:53:19.823Z"
   },
   {
    "duration": 14,
    "start_time": "2022-05-23T21:53:38.877Z"
   },
   {
    "duration": 130,
    "start_time": "2022-05-23T21:53:49.893Z"
   },
   {
    "duration": 37,
    "start_time": "2022-05-23T22:00:25.257Z"
   },
   {
    "duration": 30,
    "start_time": "2022-05-23T22:02:38.267Z"
   },
   {
    "duration": 12,
    "start_time": "2022-05-23T22:02:53.434Z"
   },
   {
    "duration": 13,
    "start_time": "2022-05-23T22:02:59.113Z"
   },
   {
    "duration": 35,
    "start_time": "2022-05-23T22:03:02.636Z"
   },
   {
    "duration": 19,
    "start_time": "2022-05-23T22:04:16.043Z"
   },
   {
    "duration": 12,
    "start_time": "2022-05-23T22:05:35.210Z"
   },
   {
    "duration": 153,
    "start_time": "2022-05-23T22:05:51.016Z"
   },
   {
    "duration": 166,
    "start_time": "2022-05-23T22:06:09.150Z"
   },
   {
    "duration": 34,
    "start_time": "2022-05-23T22:06:34.792Z"
   },
   {
    "duration": 268,
    "start_time": "2022-05-23T22:07:18.566Z"
   },
   {
    "duration": 31,
    "start_time": "2022-05-23T22:07:22.086Z"
   }
  ],
  "kernelspec": {
   "display_name": "Python 3 (ipykernel)",
   "language": "python",
   "name": "python3"
  },
  "language_info": {
   "codemirror_mode": {
    "name": "ipython",
    "version": 3
   },
   "file_extension": ".py",
   "mimetype": "text/x-python",
   "name": "python",
   "nbconvert_exporter": "python",
   "pygments_lexer": "ipython3",
   "version": "3.9.12"
  },
  "toc": {
   "base_numbering": 1,
   "nav_menu": {},
   "number_sections": true,
   "sideBar": true,
   "skip_h1_title": true,
   "title_cell": "Table of Contents",
   "title_sidebar": "Contents",
   "toc_cell": false,
   "toc_position": {
    "height": "calc(100% - 180px)",
    "left": "10px",
    "top": "150px",
    "width": "193.682px"
   },
   "toc_section_display": true,
   "toc_window_display": false
  }
 },
 "nbformat": 4,
 "nbformat_minor": 2
}
